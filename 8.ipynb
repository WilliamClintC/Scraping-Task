{
 "cells": [
  {
   "cell_type": "code",
   "execution_count": 9,
   "metadata": {},
   "outputs": [
    {
     "data": {
      "application/vnd.microsoft.datawrangler.viewer.v0+json": {
       "columns": [
        {
         "name": "index",
         "rawType": "int64",
         "type": "integer"
        },
        {
         "name": "date_extracted",
         "rawType": "object",
         "type": "string"
        },
        {
         "name": "pdf_filename",
         "rawType": "object",
         "type": "string"
        },
        {
         "name": "accepted_images_count",
         "rawType": "int64",
         "type": "integer"
        },
        {
         "name": "month",
         "rawType": "int64",
         "type": "integer"
        },
        {
         "name": "year",
         "rawType": "int64",
         "type": "integer"
        },
        {
         "name": "date",
         "rawType": "object",
         "type": "string"
        },
        {
         "name": "note",
         "rawType": "object",
         "type": "string"
        }
       ],
       "conversionMethod": "pd.DataFrame",
       "ref": "51b02bc0-a46c-4279-9c75-d32e64c62734",
       "rows": [
        [
         "0",
         "2018-01-01",
         "01_2018.pdf",
         "0",
         "1",
         "2018",
         "2018-01-01",
         "Manual correction implemented"
        ],
        [
         "1",
         "2018-02-01",
         "02_2018.pdf",
         "7",
         "2",
         "2018",
         "2018-02-01",
         "Manually deleted 5 images"
        ],
        [
         "2",
         "2018-03-01",
         "03_2018.pdf",
         "7",
         "3",
         "2018",
         "2018-03-01",
         "Manually deleted 5 images"
        ],
        [
         "3",
         "2018-04-01",
         "04_2018.pdf",
         "7",
         "4",
         "2018",
         "2018-04-01",
         "Manually deleted 5 images"
        ],
        [
         "4",
         "2018-05-01",
         "05_2018.pdf",
         "7",
         "5",
         "2018",
         "2018-05-01",
         "Manually deleted 4 images"
        ],
        [
         "5",
         "2018-06-01",
         "06_2018.pdf",
         "7",
         "6",
         "2018",
         "2018-06-01",
         "Manually deleted 5 images"
        ],
        [
         "6",
         "2018-07-01",
         "07_2018.pdf",
         "7",
         "7",
         "2018",
         "2018-07-01",
         "Manually deleted 5 images"
        ],
        [
         "7",
         "2018-08-01",
         "08_2018.pdf",
         "7",
         "8",
         "2018",
         "2018-08-01",
         "Manually deleted 5 images"
        ],
        [
         "8",
         "2018-09-01",
         "09_2018.pdf",
         "7",
         "9",
         "2018",
         "2018-09-01",
         "Manually deleted 5 images"
        ],
        [
         "9",
         "2018-10-01",
         "10_2018.pdf",
         "1",
         "10",
         "2018",
         "2018-10-01",
         "Manually deleted 1 images"
        ],
        [
         "10",
         "2018-11-01",
         "11_2018.pdf",
         "8",
         "11",
         "2018",
         "2018-11-01",
         "Manually deleted 5 images"
        ],
        [
         "11",
         "2018-12-01",
         "12_2018.pdf",
         "8",
         "12",
         "2018",
         "2018-12-01",
         "Manually deleted 5 images"
        ],
        [
         "12",
         "2019-01-01",
         "01_2019.pdf",
         "8",
         "1",
         "2019",
         "2019-01-01",
         "Manually deleted 5 images"
        ],
        [
         "13",
         "2019-02-01",
         "02_2019.pdf",
         "8",
         "2",
         "2019",
         "2019-02-01",
         "Manually deleted 5 images"
        ],
        [
         "14",
         "2019-03-01",
         "03_2019.pdf",
         "8",
         "3",
         "2019",
         "2019-03-01",
         "Manually deleted 5 images"
        ],
        [
         "15",
         "2019-04-01",
         "04_2019.pdf",
         "8",
         "4",
         "2019",
         "2019-04-01",
         "Manually deleted 5 images"
        ],
        [
         "16",
         "2019-05-01",
         "05_2019.pdf",
         "8",
         "5",
         "2019",
         "2019-05-01",
         "Manually deleted 5 images"
        ],
        [
         "17",
         "2019-06-01",
         "06_2019.pdf",
         "8",
         "6",
         "2019",
         "2019-06-01",
         "Manually deleted 5 images"
        ],
        [
         "18",
         "2019-07-01",
         "07_2019.pdf",
         "8",
         "7",
         "2019",
         "2019-07-01",
         "Manually deleted 5 images"
        ],
        [
         "19",
         "2019-08-01",
         "08_2019.pdf",
         "8",
         "8",
         "2019",
         "2019-08-01",
         "Manually deleted 4 images"
        ],
        [
         "20",
         "2019-09-01",
         "09_2019.pdf",
         "8",
         "9",
         "2019",
         "2019-09-01",
         "Manually deleted 5 images"
        ],
        [
         "21",
         "2019-10-01",
         "10_2019.pdf",
         "8",
         "10",
         "2019",
         "2019-10-01",
         "Manually deleted 5 images"
        ],
        [
         "22",
         "2019-11-01",
         "11_2019.pdf",
         "7",
         "11",
         "2019",
         "2019-11-01",
         "Manually deleted 4 images"
        ],
        [
         "23",
         "2019-12-01",
         "12_2019.pdf",
         "7",
         "12",
         "2019",
         "2019-12-01",
         "Manually deleted 5 images"
        ],
        [
         "24",
         "2020-01-01",
         "01_2020.pdf",
         "7",
         "1",
         "2020",
         "2020-01-01",
         "Manually deleted 5 images"
        ],
        [
         "25",
         "2020-02-01",
         "02_2020.pdf",
         "6",
         "2",
         "2020",
         "2020-02-01",
         "Manually deleted 4 images"
        ],
        [
         "26",
         "2020-03-01",
         "03_2020.pdf",
         "7",
         "3",
         "2020",
         "2020-03-01",
         "Manually deleted 5 images"
        ],
        [
         "27",
         "2020-04-01",
         "04_2020.pdf",
         "7",
         "4",
         "2020",
         "2020-04-01",
         "Manually deleted 5 images"
        ],
        [
         "28",
         "2020-05-01",
         "05_2020.pdf",
         "7",
         "5",
         "2020",
         "2020-05-01",
         "Manually deleted 6 images"
        ],
        [
         "29",
         "2020-06-01",
         "06_2020.pdf",
         "7",
         "6",
         "2020",
         "2020-06-01",
         "Manually deleted 5 images"
        ],
        [
         "30",
         "2020-07-01",
         "07_2020.pdf",
         "7",
         "7",
         "2020",
         "2020-07-01",
         "Manually deleted 5 images"
        ],
        [
         "31",
         "2020-08-01",
         "08_2020.pdf",
         "6",
         "8",
         "2020",
         "2020-08-01",
         "Manually deleted 4 images"
        ],
        [
         "32",
         "2020-09-01",
         "09_2020.pdf",
         "6",
         "9",
         "2020",
         "2020-09-01",
         "Manually deleted 4 images"
        ],
        [
         "33",
         "2020-10-01",
         "10_2020.pdf",
         "6",
         "10",
         "2020",
         "2020-10-01",
         "Manually deleted 4 images"
        ],
        [
         "34",
         "2020-11-01",
         "11_2020.pdf",
         "6",
         "11",
         "2020",
         "2020-11-01",
         "Manually deleted 4 images"
        ],
        [
         "35",
         "2021-01-01",
         "01_2021.pdf",
         "7",
         "1",
         "2021",
         "2021-01-01",
         "Manually deleted 5 images"
        ],
        [
         "36",
         "2021-02-01",
         "02_2021.pdf",
         "7",
         "2",
         "2021",
         "2021-02-01",
         "Manually deleted 5 images"
        ],
        [
         "37",
         "2021-03-01",
         "03_2021.pdf",
         "7",
         "3",
         "2021",
         "2021-03-01",
         "Manually deleted 5 images"
        ],
        [
         "38",
         "2021-04-01",
         "04_2021.pdf",
         "6",
         "4",
         "2021",
         "2021-04-01",
         "Manually deleted 4 images"
        ],
        [
         "39",
         "2021-05-01",
         "05_2021.pdf",
         "6",
         "5",
         "2021",
         "2021-05-01",
         "Manually deleted 4 images"
        ],
        [
         "40",
         "2021-06-01",
         "06_2021.pdf",
         "6",
         "6",
         "2021",
         "2021-06-01",
         "Manually deleted 4 images"
        ],
        [
         "41",
         "2021-07-01",
         "07_2021.pdf",
         "6",
         "7",
         "2021",
         "2021-07-01",
         "Manually deleted 4 images"
        ],
        [
         "42",
         "2021-08-01",
         "08_2021.pdf",
         "6",
         "8",
         "2021",
         "2021-08-01",
         "Manually deleted 4 images"
        ],
        [
         "43",
         "2021-09-01",
         "09_2021.pdf",
         "6",
         "9",
         "2021",
         "2021-09-01",
         "Manually deleted 4 images"
        ],
        [
         "44",
         "2021-10-01",
         "10_2021.pdf",
         "6",
         "10",
         "2021",
         "2021-10-01",
         "Manually deleted 4 images"
        ],
        [
         "45",
         "2021-11-01",
         "11_2021.pdf",
         "6",
         "11",
         "2021",
         "2021-11-01",
         "Manually deleted 4 images"
        ],
        [
         "46",
         "2021-12-01",
         "12_2021.pdf",
         "6",
         "12",
         "2021",
         "2021-12-01",
         "Manually deleted 4 images"
        ],
        [
         "47",
         "2022-01-01",
         "01_2022.pdf",
         "6",
         "1",
         "2022",
         "2022-01-01",
         "Manually deleted 4 images"
        ],
        [
         "48",
         "2022-02-01",
         "02_2022.pdf",
         "1",
         "2",
         "2022",
         "2022-02-01",
         "Manually deleted 1 images"
        ],
        [
         "49",
         "2022-03-01",
         "03_2022.pdf",
         "2",
         "3",
         "2022",
         "2022-03-01",
         "Manually deleted 1 images"
        ]
       ],
       "shape": {
        "columns": 7,
        "rows": 80
       }
      },
      "text/html": [
       "<div>\n",
       "<style scoped>\n",
       "    .dataframe tbody tr th:only-of-type {\n",
       "        vertical-align: middle;\n",
       "    }\n",
       "\n",
       "    .dataframe tbody tr th {\n",
       "        vertical-align: top;\n",
       "    }\n",
       "\n",
       "    .dataframe thead th {\n",
       "        text-align: right;\n",
       "    }\n",
       "</style>\n",
       "<table border=\"1\" class=\"dataframe\">\n",
       "  <thead>\n",
       "    <tr style=\"text-align: right;\">\n",
       "      <th></th>\n",
       "      <th>date_extracted</th>\n",
       "      <th>pdf_filename</th>\n",
       "      <th>accepted_images_count</th>\n",
       "      <th>month</th>\n",
       "      <th>year</th>\n",
       "      <th>date</th>\n",
       "      <th>note</th>\n",
       "    </tr>\n",
       "  </thead>\n",
       "  <tbody>\n",
       "    <tr>\n",
       "      <th>0</th>\n",
       "      <td>2018-01-01</td>\n",
       "      <td>01_2018.pdf</td>\n",
       "      <td>0</td>\n",
       "      <td>1</td>\n",
       "      <td>2018</td>\n",
       "      <td>2018-01-01</td>\n",
       "      <td>Manual correction implemented</td>\n",
       "    </tr>\n",
       "    <tr>\n",
       "      <th>1</th>\n",
       "      <td>2018-02-01</td>\n",
       "      <td>02_2018.pdf</td>\n",
       "      <td>7</td>\n",
       "      <td>2</td>\n",
       "      <td>2018</td>\n",
       "      <td>2018-02-01</td>\n",
       "      <td>Manually deleted 5 images</td>\n",
       "    </tr>\n",
       "    <tr>\n",
       "      <th>2</th>\n",
       "      <td>2018-03-01</td>\n",
       "      <td>03_2018.pdf</td>\n",
       "      <td>7</td>\n",
       "      <td>3</td>\n",
       "      <td>2018</td>\n",
       "      <td>2018-03-01</td>\n",
       "      <td>Manually deleted 5 images</td>\n",
       "    </tr>\n",
       "    <tr>\n",
       "      <th>3</th>\n",
       "      <td>2018-04-01</td>\n",
       "      <td>04_2018.pdf</td>\n",
       "      <td>7</td>\n",
       "      <td>4</td>\n",
       "      <td>2018</td>\n",
       "      <td>2018-04-01</td>\n",
       "      <td>Manually deleted 5 images</td>\n",
       "    </tr>\n",
       "    <tr>\n",
       "      <th>4</th>\n",
       "      <td>2018-05-01</td>\n",
       "      <td>05_2018.pdf</td>\n",
       "      <td>7</td>\n",
       "      <td>5</td>\n",
       "      <td>2018</td>\n",
       "      <td>2018-05-01</td>\n",
       "      <td>Manually deleted 4 images</td>\n",
       "    </tr>\n",
       "    <tr>\n",
       "      <th>...</th>\n",
       "      <td>...</td>\n",
       "      <td>...</td>\n",
       "      <td>...</td>\n",
       "      <td>...</td>\n",
       "      <td>...</td>\n",
       "      <td>...</td>\n",
       "      <td>...</td>\n",
       "    </tr>\n",
       "    <tr>\n",
       "      <th>75</th>\n",
       "      <td>2024-07-01</td>\n",
       "      <td>7_2024.pdf</td>\n",
       "      <td>4</td>\n",
       "      <td>7</td>\n",
       "      <td>2024</td>\n",
       "      <td>2024-07-01</td>\n",
       "      <td>Manually deleted 2 images</td>\n",
       "    </tr>\n",
       "    <tr>\n",
       "      <th>76</th>\n",
       "      <td>2024-08-01</td>\n",
       "      <td>8_2024.pdf</td>\n",
       "      <td>4</td>\n",
       "      <td>8</td>\n",
       "      <td>2024</td>\n",
       "      <td>2024-08-01</td>\n",
       "      <td>Manually deleted 1 images</td>\n",
       "    </tr>\n",
       "    <tr>\n",
       "      <th>77</th>\n",
       "      <td>2024-09-01</td>\n",
       "      <td>9_2024.pdf</td>\n",
       "      <td>4</td>\n",
       "      <td>9</td>\n",
       "      <td>2024</td>\n",
       "      <td>2024-09-01</td>\n",
       "      <td>Manually deleted 2 images</td>\n",
       "    </tr>\n",
       "    <tr>\n",
       "      <th>78</th>\n",
       "      <td>2025-01-01</td>\n",
       "      <td>01_2025.pdf</td>\n",
       "      <td>4</td>\n",
       "      <td>1</td>\n",
       "      <td>2025</td>\n",
       "      <td>2025-01-01</td>\n",
       "      <td>Manually deleted 2 images</td>\n",
       "    </tr>\n",
       "    <tr>\n",
       "      <th>79</th>\n",
       "      <td>2025-03-01</td>\n",
       "      <td>03_2025.pdf</td>\n",
       "      <td>3</td>\n",
       "      <td>3</td>\n",
       "      <td>2025</td>\n",
       "      <td>2025-03-01</td>\n",
       "      <td>Manually deleted 2 images</td>\n",
       "    </tr>\n",
       "  </tbody>\n",
       "</table>\n",
       "<p>80 rows × 7 columns</p>\n",
       "</div>"
      ],
      "text/plain": [
       "   date_extracted pdf_filename  accepted_images_count  month  year  \\\n",
       "0      2018-01-01  01_2018.pdf                      0      1  2018   \n",
       "1      2018-02-01  02_2018.pdf                      7      2  2018   \n",
       "2      2018-03-01  03_2018.pdf                      7      3  2018   \n",
       "3      2018-04-01  04_2018.pdf                      7      4  2018   \n",
       "4      2018-05-01  05_2018.pdf                      7      5  2018   \n",
       "..            ...          ...                    ...    ...   ...   \n",
       "75     2024-07-01   7_2024.pdf                      4      7  2024   \n",
       "76     2024-08-01   8_2024.pdf                      4      8  2024   \n",
       "77     2024-09-01   9_2024.pdf                      4      9  2024   \n",
       "78     2025-01-01  01_2025.pdf                      4      1  2025   \n",
       "79     2025-03-01  03_2025.pdf                      3      3  2025   \n",
       "\n",
       "          date                           note  \n",
       "0   2018-01-01  Manual correction implemented  \n",
       "1   2018-02-01      Manually deleted 5 images  \n",
       "2   2018-03-01      Manually deleted 5 images  \n",
       "3   2018-04-01      Manually deleted 5 images  \n",
       "4   2018-05-01      Manually deleted 4 images  \n",
       "..         ...                            ...  \n",
       "75  2024-07-01      Manually deleted 2 images  \n",
       "76  2024-08-01      Manually deleted 1 images  \n",
       "77  2024-09-01      Manually deleted 2 images  \n",
       "78  2025-01-01      Manually deleted 2 images  \n",
       "79  2025-03-01      Manually deleted 2 images  \n",
       "\n",
       "[80 rows x 7 columns]"
      ]
     },
     "execution_count": 9,
     "metadata": {},
     "output_type": "execute_result"
    }
   ],
   "source": [
    "import pandas as pd\n",
    "\n",
    "# Load the CSV file\n",
    "file_path = r\"C:\\Users\\clint\\Desktop\\Scraping Task\\df_7.csv\"\n",
    "df = pd.read_csv(file_path)\n",
    "\n",
    "# Display the first few rows of the dataframe\n",
    "df"
   ]
  },
  {
   "cell_type": "code",
   "execution_count": 10,
   "metadata": {},
   "outputs": [
    {
     "name": "stdout",
     "output_type": "stream",
     "text": [
      "PDF: 01_2018.pdf, Base name: 01_2018, Matching image files: 0\n",
      "PDF: 02_2018.pdf, Base name: 02_2018, Matching image files: 2\n",
      "PDF: 03_2018.pdf, Base name: 03_2018, Matching image files: 2\n",
      "PDF: 04_2018.pdf, Base name: 04_2018, Matching image files: 2\n",
      "PDF: 05_2018.pdf, Base name: 05_2018, Matching image files: 3\n",
      "Row 1: Found manually deleted count: 5\n",
      "Row 2: Found manually deleted count: 5\n",
      "Row 3: Found manually deleted count: 5\n",
      "Row 4: Found manually deleted count: 4\n",
      "Row 5: Found manually deleted count: 5\n",
      "Row 6: Found manually deleted count: 5\n",
      "Row 7: Found manually deleted count: 5\n",
      "Row 8: Found manually deleted count: 5\n",
      "Row 9: Found manually deleted count: 1\n",
      "Row 10: Found manually deleted count: 5\n",
      "Row 11: Found manually deleted count: 5\n",
      "Row 12: Found manually deleted count: 5\n",
      "Row 13: Found manually deleted count: 5\n",
      "Row 14: Found manually deleted count: 5\n",
      "Row 15: Found manually deleted count: 5\n",
      "Row 16: Found manually deleted count: 5\n",
      "Row 17: Found manually deleted count: 5\n",
      "Row 18: Found manually deleted count: 5\n",
      "Row 19: Found manually deleted count: 4\n",
      "Row 20: Found manually deleted count: 5\n",
      "Row 21: Found manually deleted count: 5\n",
      "Row 22: Found manually deleted count: 4\n",
      "Row 23: Found manually deleted count: 5\n",
      "Row 24: Found manually deleted count: 5\n",
      "Row 25: Found manually deleted count: 4\n",
      "Row 26: Found manually deleted count: 5\n",
      "Row 27: Found manually deleted count: 5\n",
      "Row 28: Found manually deleted count: 6\n",
      "Row 29: Found manually deleted count: 5\n",
      "Row 30: Found manually deleted count: 5\n",
      "Row 31: Found manually deleted count: 4\n",
      "Row 32: Found manually deleted count: 4\n",
      "Row 33: Found manually deleted count: 4\n",
      "Row 34: Found manually deleted count: 4\n",
      "Row 35: Found manually deleted count: 5\n",
      "Row 36: Found manually deleted count: 5\n",
      "Row 37: Found manually deleted count: 5\n",
      "Row 38: Found manually deleted count: 4\n",
      "Row 39: Found manually deleted count: 4\n",
      "Row 40: Found manually deleted count: 4\n",
      "Row 41: Found manually deleted count: 4\n",
      "Row 42: Found manually deleted count: 4\n",
      "Row 43: Found manually deleted count: 4\n",
      "Row 44: Found manually deleted count: 4\n",
      "Row 45: Found manually deleted count: 4\n",
      "Row 46: Found manually deleted count: 4\n",
      "Row 47: Found manually deleted count: 4\n",
      "Row 48: Found manually deleted count: 1\n",
      "Row 49: Found manually deleted count: 1\n",
      "Row 50: Found manually deleted count: 1\n",
      "Row 51: Found manually deleted count: 3\n",
      "Row 52: Found manually deleted count: 4\n",
      "Row 53: Found manually deleted count: 5\n",
      "Row 54: Found manually deleted count: 5\n",
      "Row 55: Found manually deleted count: 5\n",
      "Row 56: Found manually deleted count: 4\n",
      "Row 57: Found manually deleted count: 5\n",
      "Row 58: Found manually deleted count: 4\n",
      "Row 59: Found manually deleted count: 4\n",
      "Row 60: Found manually deleted count: 4\n",
      "Row 61: Found manually deleted count: 4\n",
      "Row 63: Found manually deleted count: 5\n",
      "Row 64: Found manually deleted count: 4\n",
      "Row 65: Found manually deleted count: 4\n",
      "Row 67: Found manually deleted count: 2\n",
      "Row 68: Found manually deleted count: 1\n",
      "Row 69: Found manually deleted count: 1\n",
      "Row 70: Found manually deleted count: 2\n",
      "Row 71: Found manually deleted count: 1\n",
      "Row 72: Found manually deleted count: 1\n",
      "Row 73: Found manually deleted count: 2\n",
      "Row 74: Found manually deleted count: 2\n",
      "Row 75: Found manually deleted count: 2\n",
      "Row 76: Found manually deleted count: 1\n",
      "Row 77: Found manually deleted count: 2\n",
      "Row 78: Found manually deleted count: 2\n",
      "Row 79: Found manually deleted count: 2\n",
      "Updated dataframe saved to: C:\\Users\\clint\\Desktop\\Scraping Task\\df_updated.csv\n"
     ]
    },
    {
     "data": {
      "application/vnd.microsoft.datawrangler.viewer.v0+json": {
       "columns": [
        {
         "name": "index",
         "rawType": "int64",
         "type": "integer"
        },
        {
         "name": "date_extracted",
         "rawType": "object",
         "type": "string"
        },
        {
         "name": "pdf_filename",
         "rawType": "object",
         "type": "string"
        },
        {
         "name": "accepted_images_count",
         "rawType": "int64",
         "type": "integer"
        },
        {
         "name": "month",
         "rawType": "int64",
         "type": "integer"
        },
        {
         "name": "year",
         "rawType": "int64",
         "type": "integer"
        },
        {
         "name": "date",
         "rawType": "object",
         "type": "string"
        },
        {
         "name": "note",
         "rawType": "object",
         "type": "string"
        },
        {
         "name": "image_count",
         "rawType": "int64",
         "type": "integer"
        },
        {
         "name": "difference",
         "rawType": "int64",
         "type": "integer"
        }
       ],
       "conversionMethod": "pd.DataFrame",
       "ref": "b4dae75a-26d3-48fe-89e1-f5b262efe156",
       "rows": [
        [
         "0",
         "2018-01-01",
         "01_2018.pdf",
         "0",
         "1",
         "2018",
         "2018-01-01",
         "Manual correction implemented",
         "0",
         "0"
        ],
        [
         "1",
         "2018-02-01",
         "02_2018.pdf",
         "7",
         "2",
         "2018",
         "2018-02-01",
         "Manually deleted 5 images",
         "7",
         "0"
        ],
        [
         "2",
         "2018-03-01",
         "03_2018.pdf",
         "7",
         "3",
         "2018",
         "2018-03-01",
         "Manually deleted 5 images",
         "7",
         "0"
        ],
        [
         "3",
         "2018-04-01",
         "04_2018.pdf",
         "7",
         "4",
         "2018",
         "2018-04-01",
         "Manually deleted 5 images",
         "7",
         "0"
        ],
        [
         "4",
         "2018-05-01",
         "05_2018.pdf",
         "7",
         "5",
         "2018",
         "2018-05-01",
         "Manually deleted 4 images",
         "7",
         "0"
        ],
        [
         "5",
         "2018-06-01",
         "06_2018.pdf",
         "7",
         "6",
         "2018",
         "2018-06-01",
         "Manually deleted 5 images",
         "7",
         "0"
        ],
        [
         "6",
         "2018-07-01",
         "07_2018.pdf",
         "7",
         "7",
         "2018",
         "2018-07-01",
         "Manually deleted 5 images",
         "7",
         "0"
        ],
        [
         "7",
         "2018-08-01",
         "08_2018.pdf",
         "7",
         "8",
         "2018",
         "2018-08-01",
         "Manually deleted 5 images",
         "7",
         "0"
        ],
        [
         "8",
         "2018-09-01",
         "09_2018.pdf",
         "7",
         "9",
         "2018",
         "2018-09-01",
         "Manually deleted 5 images",
         "7",
         "0"
        ],
        [
         "9",
         "2018-10-01",
         "10_2018.pdf",
         "1",
         "10",
         "2018",
         "2018-10-01",
         "Manually deleted 1 images",
         "1",
         "0"
        ],
        [
         "10",
         "2018-11-01",
         "11_2018.pdf",
         "8",
         "11",
         "2018",
         "2018-11-01",
         "Manually deleted 5 images",
         "8",
         "0"
        ],
        [
         "11",
         "2018-12-01",
         "12_2018.pdf",
         "8",
         "12",
         "2018",
         "2018-12-01",
         "Manually deleted 5 images",
         "8",
         "0"
        ],
        [
         "12",
         "2019-01-01",
         "01_2019.pdf",
         "8",
         "1",
         "2019",
         "2019-01-01",
         "Manually deleted 5 images",
         "8",
         "0"
        ],
        [
         "13",
         "2019-02-01",
         "02_2019.pdf",
         "8",
         "2",
         "2019",
         "2019-02-01",
         "Manually deleted 5 images",
         "8",
         "0"
        ],
        [
         "14",
         "2019-03-01",
         "03_2019.pdf",
         "8",
         "3",
         "2019",
         "2019-03-01",
         "Manually deleted 5 images",
         "8",
         "0"
        ],
        [
         "15",
         "2019-04-01",
         "04_2019.pdf",
         "8",
         "4",
         "2019",
         "2019-04-01",
         "Manually deleted 5 images",
         "8",
         "0"
        ],
        [
         "16",
         "2019-05-01",
         "05_2019.pdf",
         "8",
         "5",
         "2019",
         "2019-05-01",
         "Manually deleted 5 images",
         "8",
         "0"
        ],
        [
         "17",
         "2019-06-01",
         "06_2019.pdf",
         "8",
         "6",
         "2019",
         "2019-06-01",
         "Manually deleted 5 images",
         "8",
         "0"
        ],
        [
         "18",
         "2019-07-01",
         "07_2019.pdf",
         "8",
         "7",
         "2019",
         "2019-07-01",
         "Manually deleted 5 images",
         "8",
         "0"
        ],
        [
         "19",
         "2019-08-01",
         "08_2019.pdf",
         "8",
         "8",
         "2019",
         "2019-08-01",
         "Manually deleted 4 images",
         "8",
         "0"
        ],
        [
         "20",
         "2019-09-01",
         "09_2019.pdf",
         "8",
         "9",
         "2019",
         "2019-09-01",
         "Manually deleted 5 images",
         "8",
         "0"
        ],
        [
         "21",
         "2019-10-01",
         "10_2019.pdf",
         "8",
         "10",
         "2019",
         "2019-10-01",
         "Manually deleted 5 images",
         "8",
         "0"
        ],
        [
         "22",
         "2019-11-01",
         "11_2019.pdf",
         "7",
         "11",
         "2019",
         "2019-11-01",
         "Manually deleted 4 images",
         "7",
         "0"
        ],
        [
         "23",
         "2019-12-01",
         "12_2019.pdf",
         "7",
         "12",
         "2019",
         "2019-12-01",
         "Manually deleted 5 images",
         "7",
         "0"
        ],
        [
         "24",
         "2020-01-01",
         "01_2020.pdf",
         "7",
         "1",
         "2020",
         "2020-01-01",
         "Manually deleted 5 images",
         "7",
         "0"
        ],
        [
         "25",
         "2020-02-01",
         "02_2020.pdf",
         "6",
         "2",
         "2020",
         "2020-02-01",
         "Manually deleted 4 images",
         "6",
         "0"
        ],
        [
         "26",
         "2020-03-01",
         "03_2020.pdf",
         "7",
         "3",
         "2020",
         "2020-03-01",
         "Manually deleted 5 images",
         "7",
         "0"
        ],
        [
         "27",
         "2020-04-01",
         "04_2020.pdf",
         "7",
         "4",
         "2020",
         "2020-04-01",
         "Manually deleted 5 images",
         "7",
         "0"
        ],
        [
         "28",
         "2020-05-01",
         "05_2020.pdf",
         "7",
         "5",
         "2020",
         "2020-05-01",
         "Manually deleted 6 images",
         "7",
         "0"
        ],
        [
         "29",
         "2020-06-01",
         "06_2020.pdf",
         "7",
         "6",
         "2020",
         "2020-06-01",
         "Manually deleted 5 images",
         "7",
         "0"
        ],
        [
         "30",
         "2020-07-01",
         "07_2020.pdf",
         "7",
         "7",
         "2020",
         "2020-07-01",
         "Manually deleted 5 images",
         "7",
         "0"
        ],
        [
         "31",
         "2020-08-01",
         "08_2020.pdf",
         "6",
         "8",
         "2020",
         "2020-08-01",
         "Manually deleted 4 images",
         "6",
         "0"
        ],
        [
         "32",
         "2020-09-01",
         "09_2020.pdf",
         "6",
         "9",
         "2020",
         "2020-09-01",
         "Manually deleted 4 images",
         "6",
         "0"
        ],
        [
         "33",
         "2020-10-01",
         "10_2020.pdf",
         "6",
         "10",
         "2020",
         "2020-10-01",
         "Manually deleted 4 images",
         "6",
         "0"
        ],
        [
         "34",
         "2020-11-01",
         "11_2020.pdf",
         "6",
         "11",
         "2020",
         "2020-11-01",
         "Manually deleted 4 images",
         "6",
         "0"
        ],
        [
         "35",
         "2021-01-01",
         "01_2021.pdf",
         "7",
         "1",
         "2021",
         "2021-01-01",
         "Manually deleted 5 images",
         "7",
         "0"
        ],
        [
         "36",
         "2021-02-01",
         "02_2021.pdf",
         "7",
         "2",
         "2021",
         "2021-02-01",
         "Manually deleted 5 images",
         "7",
         "0"
        ],
        [
         "37",
         "2021-03-01",
         "03_2021.pdf",
         "7",
         "3",
         "2021",
         "2021-03-01",
         "Manually deleted 5 images",
         "7",
         "0"
        ],
        [
         "38",
         "2021-04-01",
         "04_2021.pdf",
         "6",
         "4",
         "2021",
         "2021-04-01",
         "Manually deleted 4 images",
         "6",
         "0"
        ],
        [
         "39",
         "2021-05-01",
         "05_2021.pdf",
         "6",
         "5",
         "2021",
         "2021-05-01",
         "Manually deleted 4 images",
         "6",
         "0"
        ],
        [
         "40",
         "2021-06-01",
         "06_2021.pdf",
         "6",
         "6",
         "2021",
         "2021-06-01",
         "Manually deleted 4 images",
         "6",
         "0"
        ],
        [
         "41",
         "2021-07-01",
         "07_2021.pdf",
         "6",
         "7",
         "2021",
         "2021-07-01",
         "Manually deleted 4 images",
         "6",
         "0"
        ],
        [
         "42",
         "2021-08-01",
         "08_2021.pdf",
         "6",
         "8",
         "2021",
         "2021-08-01",
         "Manually deleted 4 images",
         "6",
         "0"
        ],
        [
         "43",
         "2021-09-01",
         "09_2021.pdf",
         "6",
         "9",
         "2021",
         "2021-09-01",
         "Manually deleted 4 images",
         "6",
         "0"
        ],
        [
         "44",
         "2021-10-01",
         "10_2021.pdf",
         "6",
         "10",
         "2021",
         "2021-10-01",
         "Manually deleted 4 images",
         "6",
         "0"
        ],
        [
         "45",
         "2021-11-01",
         "11_2021.pdf",
         "6",
         "11",
         "2021",
         "2021-11-01",
         "Manually deleted 4 images",
         "6",
         "0"
        ],
        [
         "46",
         "2021-12-01",
         "12_2021.pdf",
         "6",
         "12",
         "2021",
         "2021-12-01",
         "Manually deleted 4 images",
         "6",
         "0"
        ],
        [
         "47",
         "2022-01-01",
         "01_2022.pdf",
         "6",
         "1",
         "2022",
         "2022-01-01",
         "Manually deleted 4 images",
         "6",
         "0"
        ],
        [
         "48",
         "2022-02-01",
         "02_2022.pdf",
         "1",
         "2",
         "2022",
         "2022-02-01",
         "Manually deleted 1 images; manually added 2 images",
         "3",
         "2"
        ],
        [
         "49",
         "2022-03-01",
         "03_2022.pdf",
         "2",
         "3",
         "2022",
         "2022-03-01",
         "Manually deleted 1 images; manually added 1 images",
         "3",
         "1"
        ]
       ],
       "shape": {
        "columns": 9,
        "rows": 80
       }
      },
      "text/html": [
       "<div>\n",
       "<style scoped>\n",
       "    .dataframe tbody tr th:only-of-type {\n",
       "        vertical-align: middle;\n",
       "    }\n",
       "\n",
       "    .dataframe tbody tr th {\n",
       "        vertical-align: top;\n",
       "    }\n",
       "\n",
       "    .dataframe thead th {\n",
       "        text-align: right;\n",
       "    }\n",
       "</style>\n",
       "<table border=\"1\" class=\"dataframe\">\n",
       "  <thead>\n",
       "    <tr style=\"text-align: right;\">\n",
       "      <th></th>\n",
       "      <th>date_extracted</th>\n",
       "      <th>pdf_filename</th>\n",
       "      <th>accepted_images_count</th>\n",
       "      <th>month</th>\n",
       "      <th>year</th>\n",
       "      <th>date</th>\n",
       "      <th>note</th>\n",
       "      <th>image_count</th>\n",
       "      <th>difference</th>\n",
       "    </tr>\n",
       "  </thead>\n",
       "  <tbody>\n",
       "    <tr>\n",
       "      <th>0</th>\n",
       "      <td>2018-01-01</td>\n",
       "      <td>01_2018.pdf</td>\n",
       "      <td>0</td>\n",
       "      <td>1</td>\n",
       "      <td>2018</td>\n",
       "      <td>2018-01-01</td>\n",
       "      <td>Manual correction implemented</td>\n",
       "      <td>0</td>\n",
       "      <td>0</td>\n",
       "    </tr>\n",
       "    <tr>\n",
       "      <th>1</th>\n",
       "      <td>2018-02-01</td>\n",
       "      <td>02_2018.pdf</td>\n",
       "      <td>7</td>\n",
       "      <td>2</td>\n",
       "      <td>2018</td>\n",
       "      <td>2018-02-01</td>\n",
       "      <td>Manually deleted 5 images</td>\n",
       "      <td>7</td>\n",
       "      <td>0</td>\n",
       "    </tr>\n",
       "    <tr>\n",
       "      <th>2</th>\n",
       "      <td>2018-03-01</td>\n",
       "      <td>03_2018.pdf</td>\n",
       "      <td>7</td>\n",
       "      <td>3</td>\n",
       "      <td>2018</td>\n",
       "      <td>2018-03-01</td>\n",
       "      <td>Manually deleted 5 images</td>\n",
       "      <td>7</td>\n",
       "      <td>0</td>\n",
       "    </tr>\n",
       "    <tr>\n",
       "      <th>3</th>\n",
       "      <td>2018-04-01</td>\n",
       "      <td>04_2018.pdf</td>\n",
       "      <td>7</td>\n",
       "      <td>4</td>\n",
       "      <td>2018</td>\n",
       "      <td>2018-04-01</td>\n",
       "      <td>Manually deleted 5 images</td>\n",
       "      <td>7</td>\n",
       "      <td>0</td>\n",
       "    </tr>\n",
       "    <tr>\n",
       "      <th>4</th>\n",
       "      <td>2018-05-01</td>\n",
       "      <td>05_2018.pdf</td>\n",
       "      <td>7</td>\n",
       "      <td>5</td>\n",
       "      <td>2018</td>\n",
       "      <td>2018-05-01</td>\n",
       "      <td>Manually deleted 4 images</td>\n",
       "      <td>7</td>\n",
       "      <td>0</td>\n",
       "    </tr>\n",
       "    <tr>\n",
       "      <th>...</th>\n",
       "      <td>...</td>\n",
       "      <td>...</td>\n",
       "      <td>...</td>\n",
       "      <td>...</td>\n",
       "      <td>...</td>\n",
       "      <td>...</td>\n",
       "      <td>...</td>\n",
       "      <td>...</td>\n",
       "      <td>...</td>\n",
       "    </tr>\n",
       "    <tr>\n",
       "      <th>75</th>\n",
       "      <td>2024-07-01</td>\n",
       "      <td>7_2024.pdf</td>\n",
       "      <td>4</td>\n",
       "      <td>7</td>\n",
       "      <td>2024</td>\n",
       "      <td>2024-07-01</td>\n",
       "      <td>Manually deleted 2 images</td>\n",
       "      <td>4</td>\n",
       "      <td>0</td>\n",
       "    </tr>\n",
       "    <tr>\n",
       "      <th>76</th>\n",
       "      <td>2024-08-01</td>\n",
       "      <td>8_2024.pdf</td>\n",
       "      <td>4</td>\n",
       "      <td>8</td>\n",
       "      <td>2024</td>\n",
       "      <td>2024-08-01</td>\n",
       "      <td>Manually deleted 1 images</td>\n",
       "      <td>4</td>\n",
       "      <td>0</td>\n",
       "    </tr>\n",
       "    <tr>\n",
       "      <th>77</th>\n",
       "      <td>2024-09-01</td>\n",
       "      <td>9_2024.pdf</td>\n",
       "      <td>4</td>\n",
       "      <td>9</td>\n",
       "      <td>2024</td>\n",
       "      <td>2024-09-01</td>\n",
       "      <td>Manually deleted 2 images</td>\n",
       "      <td>4</td>\n",
       "      <td>0</td>\n",
       "    </tr>\n",
       "    <tr>\n",
       "      <th>78</th>\n",
       "      <td>2025-01-01</td>\n",
       "      <td>01_2025.pdf</td>\n",
       "      <td>4</td>\n",
       "      <td>1</td>\n",
       "      <td>2025</td>\n",
       "      <td>2025-01-01</td>\n",
       "      <td>Manually deleted 2 images</td>\n",
       "      <td>4</td>\n",
       "      <td>0</td>\n",
       "    </tr>\n",
       "    <tr>\n",
       "      <th>79</th>\n",
       "      <td>2025-03-01</td>\n",
       "      <td>03_2025.pdf</td>\n",
       "      <td>3</td>\n",
       "      <td>3</td>\n",
       "      <td>2025</td>\n",
       "      <td>2025-03-01</td>\n",
       "      <td>Manually deleted 2 images</td>\n",
       "      <td>3</td>\n",
       "      <td>0</td>\n",
       "    </tr>\n",
       "  </tbody>\n",
       "</table>\n",
       "<p>80 rows × 9 columns</p>\n",
       "</div>"
      ],
      "text/plain": [
       "   date_extracted pdf_filename  accepted_images_count  month  year  \\\n",
       "0      2018-01-01  01_2018.pdf                      0      1  2018   \n",
       "1      2018-02-01  02_2018.pdf                      7      2  2018   \n",
       "2      2018-03-01  03_2018.pdf                      7      3  2018   \n",
       "3      2018-04-01  04_2018.pdf                      7      4  2018   \n",
       "4      2018-05-01  05_2018.pdf                      7      5  2018   \n",
       "..            ...          ...                    ...    ...   ...   \n",
       "75     2024-07-01   7_2024.pdf                      4      7  2024   \n",
       "76     2024-08-01   8_2024.pdf                      4      8  2024   \n",
       "77     2024-09-01   9_2024.pdf                      4      9  2024   \n",
       "78     2025-01-01  01_2025.pdf                      4      1  2025   \n",
       "79     2025-03-01  03_2025.pdf                      3      3  2025   \n",
       "\n",
       "          date                           note  image_count  difference  \n",
       "0   2018-01-01  Manual correction implemented            0           0  \n",
       "1   2018-02-01      Manually deleted 5 images            7           0  \n",
       "2   2018-03-01      Manually deleted 5 images            7           0  \n",
       "3   2018-04-01      Manually deleted 5 images            7           0  \n",
       "4   2018-05-01      Manually deleted 4 images            7           0  \n",
       "..         ...                            ...          ...         ...  \n",
       "75  2024-07-01      Manually deleted 2 images            4           0  \n",
       "76  2024-08-01      Manually deleted 1 images            4           0  \n",
       "77  2024-09-01      Manually deleted 2 images            4           0  \n",
       "78  2025-01-01      Manually deleted 2 images            4           0  \n",
       "79  2025-03-01      Manually deleted 2 images            3           0  \n",
       "\n",
       "[80 rows x 9 columns]"
      ]
     },
     "execution_count": 10,
     "metadata": {},
     "output_type": "execute_result"
    }
   ],
   "source": [
    "import os\n",
    "import pandas as pd\n",
    "import re\n",
    "\n",
    "# Load the CSV file\n",
    "file_path = r\"C:\\Users\\clint\\Desktop\\Scraping Task\\df_7.csv\"\n",
    "df = pd.read_csv(file_path)\n",
    "\n",
    "# Path to the images directory\n",
    "images_dir = r\"C:\\Users\\clint\\Desktop\\Scraping Task\\pdfs\\Images\"\n",
    "\n",
    "# Create a new column for image count\n",
    "df['image_count'] = 0\n",
    "\n",
    "# For each row in the dataframe\n",
    "for index, row in df.iterrows():\n",
    "    if pd.notna(row['pdf_filename']):\n",
    "        # Extract base name without extension\n",
    "        pdf_base_name = os.path.splitext(row['pdf_filename'])[0]\n",
    "        \n",
    "        # Count matching image files\n",
    "        count = 0\n",
    "        \n",
    "        # Check if the directory exists\n",
    "        if os.path.exists(images_dir):\n",
    "            # Walk through all files in Images directory and its subdirectories\n",
    "            for root, dirs, files in os.walk(images_dir):\n",
    "                for file in files:\n",
    "                    # Check if the file contains the base name and is an image file\n",
    "                    if pdf_base_name in file and file.lower().endswith(('.png', '.jpg', '.jpeg', '.tiff', '.bmp', '.gif')):\n",
    "                        count += 1\n",
    "        \n",
    "        # Store the count\n",
    "        df.at[index, 'image_count'] = count\n",
    "        \n",
    "        # Print some debug info for the first few rows\n",
    "        if index < 5:\n",
    "            print(f\"PDF: {row['pdf_filename']}, Base name: {pdf_base_name}, Matching image files: {count}\")\n",
    "\n",
    "# Extract previously deleted image count from notes\n",
    "for index, row in df.iterrows():\n",
    "    # Initialize y as 0\n",
    "    y = 0\n",
    "    \n",
    "    # Check if note column has a value\n",
    "    if pd.notna(row['note']):\n",
    "        # Use regex to find \"Manually deleted y images\" pattern\n",
    "        match = re.search(r\"Manually deleted (\\d+) images\", str(row['note']))\n",
    "        if match:\n",
    "            y = int(match.group(1))\n",
    "            print(f\"Row {index}: Found manually deleted count: {y}\")\n",
    "            \n",
    "            # Add y to image_count column\n",
    "            df.at[index, 'image_count'] += y\n",
    "\n",
    "# Ensure the accepted_images_count column exists\n",
    "if 'accepted_images_count' not in df.columns:\n",
    "    print(\"Column 'accepted_images_count' not found. Creating it with zeros.\")\n",
    "    df['accepted_images_count'] = 0\n",
    "\n",
    "# Calculate difference\n",
    "df['difference'] = df['image_count'] - df['accepted_images_count']\n",
    "\n",
    "# Ensure the note column exists\n",
    "if 'note' not in df.columns:\n",
    "    df['note'] = \"\"\n",
    "\n",
    "# Update the note column - only for positive differences\n",
    "for index, row in df.iterrows():\n",
    "    if pd.notna(row['difference']) and row['difference'] > 0:  # Only if difference is positive\n",
    "        note = f\"manually added {int(row['difference'])} images\"\n",
    "        \n",
    "        # If there's already content in the note column, append to it\n",
    "        if pd.notna(row['note']) and row['note']:\n",
    "            df.at[index, 'note'] = str(row['note']) + \"; \" + note\n",
    "        else:\n",
    "            df.at[index, 'note'] = note\n",
    "\n",
    "# Save the updated dataframe back to CSV\n",
    "output_path = r\"C:\\Users\\clint\\Desktop\\Scraping Task\\df_updated.csv\"\n",
    "df.to_csv(output_path, index=False)\n",
    "print(f\"Updated dataframe saved to: {output_path}\")\n",
    "\n",
    "# Display the updated dataframe\n",
    "df"
   ]
  },
  {
   "cell_type": "code",
   "execution_count": 11,
   "metadata": {},
   "outputs": [
    {
     "data": {
      "application/vnd.microsoft.datawrangler.viewer.v0+json": {
       "columns": [
        {
         "name": "index",
         "rawType": "int64",
         "type": "integer"
        },
        {
         "name": "pdf_filename",
         "rawType": "object",
         "type": "string"
        },
        {
         "name": "accepted_images_count",
         "rawType": "int64",
         "type": "integer"
        },
        {
         "name": "date",
         "rawType": "object",
         "type": "string"
        },
        {
         "name": "note",
         "rawType": "object",
         "type": "string"
        }
       ],
       "conversionMethod": "pd.DataFrame",
       "ref": "ae25947f-e272-49c7-affc-e28be524749c",
       "rows": [
        [
         "0",
         "01_2018.pdf",
         "0",
         "2018-01-01",
         "Manual correction implemented"
        ],
        [
         "1",
         "02_2018.pdf",
         "7",
         "2018-02-01",
         "Manually deleted 5 images"
        ],
        [
         "2",
         "03_2018.pdf",
         "7",
         "2018-03-01",
         "Manually deleted 5 images"
        ],
        [
         "3",
         "04_2018.pdf",
         "7",
         "2018-04-01",
         "Manually deleted 5 images"
        ],
        [
         "4",
         "05_2018.pdf",
         "7",
         "2018-05-01",
         "Manually deleted 4 images"
        ],
        [
         "5",
         "06_2018.pdf",
         "7",
         "2018-06-01",
         "Manually deleted 5 images"
        ],
        [
         "6",
         "07_2018.pdf",
         "7",
         "2018-07-01",
         "Manually deleted 5 images"
        ],
        [
         "7",
         "08_2018.pdf",
         "7",
         "2018-08-01",
         "Manually deleted 5 images"
        ],
        [
         "8",
         "09_2018.pdf",
         "7",
         "2018-09-01",
         "Manually deleted 5 images"
        ],
        [
         "9",
         "10_2018.pdf",
         "1",
         "2018-10-01",
         "Manually deleted 1 images"
        ],
        [
         "10",
         "11_2018.pdf",
         "8",
         "2018-11-01",
         "Manually deleted 5 images"
        ],
        [
         "11",
         "12_2018.pdf",
         "8",
         "2018-12-01",
         "Manually deleted 5 images"
        ],
        [
         "12",
         "01_2019.pdf",
         "8",
         "2019-01-01",
         "Manually deleted 5 images"
        ],
        [
         "13",
         "02_2019.pdf",
         "8",
         "2019-02-01",
         "Manually deleted 5 images"
        ],
        [
         "14",
         "03_2019.pdf",
         "8",
         "2019-03-01",
         "Manually deleted 5 images"
        ],
        [
         "15",
         "04_2019.pdf",
         "8",
         "2019-04-01",
         "Manually deleted 5 images"
        ],
        [
         "16",
         "05_2019.pdf",
         "8",
         "2019-05-01",
         "Manually deleted 5 images"
        ],
        [
         "17",
         "06_2019.pdf",
         "8",
         "2019-06-01",
         "Manually deleted 5 images"
        ],
        [
         "18",
         "07_2019.pdf",
         "8",
         "2019-07-01",
         "Manually deleted 5 images"
        ],
        [
         "19",
         "08_2019.pdf",
         "8",
         "2019-08-01",
         "Manually deleted 4 images"
        ],
        [
         "20",
         "09_2019.pdf",
         "8",
         "2019-09-01",
         "Manually deleted 5 images"
        ],
        [
         "21",
         "10_2019.pdf",
         "8",
         "2019-10-01",
         "Manually deleted 5 images"
        ],
        [
         "22",
         "11_2019.pdf",
         "7",
         "2019-11-01",
         "Manually deleted 4 images"
        ],
        [
         "23",
         "12_2019.pdf",
         "7",
         "2019-12-01",
         "Manually deleted 5 images"
        ],
        [
         "24",
         "01_2020.pdf",
         "7",
         "2020-01-01",
         "Manually deleted 5 images"
        ],
        [
         "25",
         "02_2020.pdf",
         "6",
         "2020-02-01",
         "Manually deleted 4 images"
        ],
        [
         "26",
         "03_2020.pdf",
         "7",
         "2020-03-01",
         "Manually deleted 5 images"
        ],
        [
         "27",
         "04_2020.pdf",
         "7",
         "2020-04-01",
         "Manually deleted 5 images"
        ],
        [
         "28",
         "05_2020.pdf",
         "7",
         "2020-05-01",
         "Manually deleted 6 images"
        ],
        [
         "29",
         "06_2020.pdf",
         "7",
         "2020-06-01",
         "Manually deleted 5 images"
        ],
        [
         "30",
         "07_2020.pdf",
         "7",
         "2020-07-01",
         "Manually deleted 5 images"
        ],
        [
         "31",
         "08_2020.pdf",
         "6",
         "2020-08-01",
         "Manually deleted 4 images"
        ],
        [
         "32",
         "09_2020.pdf",
         "6",
         "2020-09-01",
         "Manually deleted 4 images"
        ],
        [
         "33",
         "10_2020.pdf",
         "6",
         "2020-10-01",
         "Manually deleted 4 images"
        ],
        [
         "34",
         "11_2020.pdf",
         "6",
         "2020-11-01",
         "Manually deleted 4 images"
        ],
        [
         "35",
         "01_2021.pdf",
         "7",
         "2021-01-01",
         "Manually deleted 5 images"
        ],
        [
         "36",
         "02_2021.pdf",
         "7",
         "2021-02-01",
         "Manually deleted 5 images"
        ],
        [
         "37",
         "03_2021.pdf",
         "7",
         "2021-03-01",
         "Manually deleted 5 images"
        ],
        [
         "38",
         "04_2021.pdf",
         "6",
         "2021-04-01",
         "Manually deleted 4 images"
        ],
        [
         "39",
         "05_2021.pdf",
         "6",
         "2021-05-01",
         "Manually deleted 4 images"
        ],
        [
         "40",
         "06_2021.pdf",
         "6",
         "2021-06-01",
         "Manually deleted 4 images"
        ],
        [
         "41",
         "07_2021.pdf",
         "6",
         "2021-07-01",
         "Manually deleted 4 images"
        ],
        [
         "42",
         "08_2021.pdf",
         "6",
         "2021-08-01",
         "Manually deleted 4 images"
        ],
        [
         "43",
         "09_2021.pdf",
         "6",
         "2021-09-01",
         "Manually deleted 4 images"
        ],
        [
         "44",
         "10_2021.pdf",
         "6",
         "2021-10-01",
         "Manually deleted 4 images"
        ],
        [
         "45",
         "11_2021.pdf",
         "6",
         "2021-11-01",
         "Manually deleted 4 images"
        ],
        [
         "46",
         "12_2021.pdf",
         "6",
         "2021-12-01",
         "Manually deleted 4 images"
        ],
        [
         "47",
         "01_2022.pdf",
         "6",
         "2022-01-01",
         "Manually deleted 4 images"
        ],
        [
         "48",
         "02_2022.pdf",
         "1",
         "2022-02-01",
         "Manually deleted 1 images; manually added 2 images"
        ],
        [
         "49",
         "03_2022.pdf",
         "2",
         "2022-03-01",
         "Manually deleted 1 images; manually added 1 images"
        ]
       ],
       "shape": {
        "columns": 4,
        "rows": 80
       }
      },
      "text/html": [
       "<div>\n",
       "<style scoped>\n",
       "    .dataframe tbody tr th:only-of-type {\n",
       "        vertical-align: middle;\n",
       "    }\n",
       "\n",
       "    .dataframe tbody tr th {\n",
       "        vertical-align: top;\n",
       "    }\n",
       "\n",
       "    .dataframe thead th {\n",
       "        text-align: right;\n",
       "    }\n",
       "</style>\n",
       "<table border=\"1\" class=\"dataframe\">\n",
       "  <thead>\n",
       "    <tr style=\"text-align: right;\">\n",
       "      <th></th>\n",
       "      <th>pdf_filename</th>\n",
       "      <th>accepted_images_count</th>\n",
       "      <th>date</th>\n",
       "      <th>note</th>\n",
       "    </tr>\n",
       "  </thead>\n",
       "  <tbody>\n",
       "    <tr>\n",
       "      <th>0</th>\n",
       "      <td>01_2018.pdf</td>\n",
       "      <td>0</td>\n",
       "      <td>2018-01-01</td>\n",
       "      <td>Manual correction implemented</td>\n",
       "    </tr>\n",
       "    <tr>\n",
       "      <th>1</th>\n",
       "      <td>02_2018.pdf</td>\n",
       "      <td>7</td>\n",
       "      <td>2018-02-01</td>\n",
       "      <td>Manually deleted 5 images</td>\n",
       "    </tr>\n",
       "    <tr>\n",
       "      <th>2</th>\n",
       "      <td>03_2018.pdf</td>\n",
       "      <td>7</td>\n",
       "      <td>2018-03-01</td>\n",
       "      <td>Manually deleted 5 images</td>\n",
       "    </tr>\n",
       "    <tr>\n",
       "      <th>3</th>\n",
       "      <td>04_2018.pdf</td>\n",
       "      <td>7</td>\n",
       "      <td>2018-04-01</td>\n",
       "      <td>Manually deleted 5 images</td>\n",
       "    </tr>\n",
       "    <tr>\n",
       "      <th>4</th>\n",
       "      <td>05_2018.pdf</td>\n",
       "      <td>7</td>\n",
       "      <td>2018-05-01</td>\n",
       "      <td>Manually deleted 4 images</td>\n",
       "    </tr>\n",
       "    <tr>\n",
       "      <th>...</th>\n",
       "      <td>...</td>\n",
       "      <td>...</td>\n",
       "      <td>...</td>\n",
       "      <td>...</td>\n",
       "    </tr>\n",
       "    <tr>\n",
       "      <th>75</th>\n",
       "      <td>7_2024.pdf</td>\n",
       "      <td>4</td>\n",
       "      <td>2024-07-01</td>\n",
       "      <td>Manually deleted 2 images</td>\n",
       "    </tr>\n",
       "    <tr>\n",
       "      <th>76</th>\n",
       "      <td>8_2024.pdf</td>\n",
       "      <td>4</td>\n",
       "      <td>2024-08-01</td>\n",
       "      <td>Manually deleted 1 images</td>\n",
       "    </tr>\n",
       "    <tr>\n",
       "      <th>77</th>\n",
       "      <td>9_2024.pdf</td>\n",
       "      <td>4</td>\n",
       "      <td>2024-09-01</td>\n",
       "      <td>Manually deleted 2 images</td>\n",
       "    </tr>\n",
       "    <tr>\n",
       "      <th>78</th>\n",
       "      <td>01_2025.pdf</td>\n",
       "      <td>4</td>\n",
       "      <td>2025-01-01</td>\n",
       "      <td>Manually deleted 2 images</td>\n",
       "    </tr>\n",
       "    <tr>\n",
       "      <th>79</th>\n",
       "      <td>03_2025.pdf</td>\n",
       "      <td>3</td>\n",
       "      <td>2025-03-01</td>\n",
       "      <td>Manually deleted 2 images</td>\n",
       "    </tr>\n",
       "  </tbody>\n",
       "</table>\n",
       "<p>80 rows × 4 columns</p>\n",
       "</div>"
      ],
      "text/plain": [
       "   pdf_filename  accepted_images_count        date  \\\n",
       "0   01_2018.pdf                      0  2018-01-01   \n",
       "1   02_2018.pdf                      7  2018-02-01   \n",
       "2   03_2018.pdf                      7  2018-03-01   \n",
       "3   04_2018.pdf                      7  2018-04-01   \n",
       "4   05_2018.pdf                      7  2018-05-01   \n",
       "..          ...                    ...         ...   \n",
       "75   7_2024.pdf                      4  2024-07-01   \n",
       "76   8_2024.pdf                      4  2024-08-01   \n",
       "77   9_2024.pdf                      4  2024-09-01   \n",
       "78  01_2025.pdf                      4  2025-01-01   \n",
       "79  03_2025.pdf                      3  2025-03-01   \n",
       "\n",
       "                             note  \n",
       "0   Manual correction implemented  \n",
       "1       Manually deleted 5 images  \n",
       "2       Manually deleted 5 images  \n",
       "3       Manually deleted 5 images  \n",
       "4       Manually deleted 4 images  \n",
       "..                            ...  \n",
       "75      Manually deleted 2 images  \n",
       "76      Manually deleted 1 images  \n",
       "77      Manually deleted 2 images  \n",
       "78      Manually deleted 2 images  \n",
       "79      Manually deleted 2 images  \n",
       "\n",
       "[80 rows x 4 columns]"
      ]
     },
     "execution_count": 11,
     "metadata": {},
     "output_type": "execute_result"
    }
   ],
   "source": [
    "df = df.drop(columns=['date_extracted', 'month', 'year', 'image_count', 'difference'])\n",
    "df"
   ]
  },
  {
   "cell_type": "code",
   "execution_count": 12,
   "metadata": {},
   "outputs": [
    {
     "data": {
      "application/vnd.microsoft.datawrangler.viewer.v0+json": {
       "columns": [
        {
         "name": "index",
         "rawType": "int64",
         "type": "integer"
        },
        {
         "name": "pdf_filename",
         "rawType": "object",
         "type": "string"
        },
        {
         "name": "accepted_images_count",
         "rawType": "int64",
         "type": "integer"
        },
        {
         "name": "date",
         "rawType": "object",
         "type": "string"
        },
        {
         "name": "note",
         "rawType": "object",
         "type": "string"
        },
        {
         "name": "adjusted_images_count",
         "rawType": "int64",
         "type": "integer"
        }
       ],
       "conversionMethod": "pd.DataFrame",
       "ref": "6367341f-0c10-470b-b54a-3c08e59a9631",
       "rows": [
        [
         "0",
         "01_2018.pdf",
         "0",
         "2018-01-01",
         "Manual correction implemented",
         "0"
        ],
        [
         "1",
         "02_2018.pdf",
         "7",
         "2018-02-01",
         "Manually deleted 5 images",
         "2"
        ],
        [
         "2",
         "03_2018.pdf",
         "7",
         "2018-03-01",
         "Manually deleted 5 images",
         "2"
        ],
        [
         "3",
         "04_2018.pdf",
         "7",
         "2018-04-01",
         "Manually deleted 5 images",
         "2"
        ],
        [
         "4",
         "05_2018.pdf",
         "7",
         "2018-05-01",
         "Manually deleted 4 images",
         "3"
        ],
        [
         "5",
         "06_2018.pdf",
         "7",
         "2018-06-01",
         "Manually deleted 5 images",
         "2"
        ],
        [
         "6",
         "07_2018.pdf",
         "7",
         "2018-07-01",
         "Manually deleted 5 images",
         "2"
        ],
        [
         "7",
         "08_2018.pdf",
         "7",
         "2018-08-01",
         "Manually deleted 5 images",
         "2"
        ],
        [
         "8",
         "09_2018.pdf",
         "7",
         "2018-09-01",
         "Manually deleted 5 images",
         "2"
        ],
        [
         "9",
         "10_2018.pdf",
         "1",
         "2018-10-01",
         "Manually deleted 1 images",
         "0"
        ],
        [
         "10",
         "11_2018.pdf",
         "8",
         "2018-11-01",
         "Manually deleted 5 images",
         "3"
        ],
        [
         "11",
         "12_2018.pdf",
         "8",
         "2018-12-01",
         "Manually deleted 5 images",
         "3"
        ],
        [
         "12",
         "01_2019.pdf",
         "8",
         "2019-01-01",
         "Manually deleted 5 images",
         "3"
        ],
        [
         "13",
         "02_2019.pdf",
         "8",
         "2019-02-01",
         "Manually deleted 5 images",
         "3"
        ],
        [
         "14",
         "03_2019.pdf",
         "8",
         "2019-03-01",
         "Manually deleted 5 images",
         "3"
        ],
        [
         "15",
         "04_2019.pdf",
         "8",
         "2019-04-01",
         "Manually deleted 5 images",
         "3"
        ],
        [
         "16",
         "05_2019.pdf",
         "8",
         "2019-05-01",
         "Manually deleted 5 images",
         "3"
        ],
        [
         "17",
         "06_2019.pdf",
         "8",
         "2019-06-01",
         "Manually deleted 5 images",
         "3"
        ],
        [
         "18",
         "07_2019.pdf",
         "8",
         "2019-07-01",
         "Manually deleted 5 images",
         "3"
        ],
        [
         "19",
         "08_2019.pdf",
         "8",
         "2019-08-01",
         "Manually deleted 4 images",
         "4"
        ],
        [
         "20",
         "09_2019.pdf",
         "8",
         "2019-09-01",
         "Manually deleted 5 images",
         "3"
        ],
        [
         "21",
         "10_2019.pdf",
         "8",
         "2019-10-01",
         "Manually deleted 5 images",
         "3"
        ],
        [
         "22",
         "11_2019.pdf",
         "7",
         "2019-11-01",
         "Manually deleted 4 images",
         "3"
        ],
        [
         "23",
         "12_2019.pdf",
         "7",
         "2019-12-01",
         "Manually deleted 5 images",
         "2"
        ],
        [
         "24",
         "01_2020.pdf",
         "7",
         "2020-01-01",
         "Manually deleted 5 images",
         "2"
        ],
        [
         "25",
         "02_2020.pdf",
         "6",
         "2020-02-01",
         "Manually deleted 4 images",
         "2"
        ],
        [
         "26",
         "03_2020.pdf",
         "7",
         "2020-03-01",
         "Manually deleted 5 images",
         "2"
        ],
        [
         "27",
         "04_2020.pdf",
         "7",
         "2020-04-01",
         "Manually deleted 5 images",
         "2"
        ],
        [
         "28",
         "05_2020.pdf",
         "7",
         "2020-05-01",
         "Manually deleted 6 images",
         "1"
        ],
        [
         "29",
         "06_2020.pdf",
         "7",
         "2020-06-01",
         "Manually deleted 5 images",
         "2"
        ],
        [
         "30",
         "07_2020.pdf",
         "7",
         "2020-07-01",
         "Manually deleted 5 images",
         "2"
        ],
        [
         "31",
         "08_2020.pdf",
         "6",
         "2020-08-01",
         "Manually deleted 4 images",
         "2"
        ],
        [
         "32",
         "09_2020.pdf",
         "6",
         "2020-09-01",
         "Manually deleted 4 images",
         "2"
        ],
        [
         "33",
         "10_2020.pdf",
         "6",
         "2020-10-01",
         "Manually deleted 4 images",
         "2"
        ],
        [
         "34",
         "11_2020.pdf",
         "6",
         "2020-11-01",
         "Manually deleted 4 images",
         "2"
        ],
        [
         "35",
         "01_2021.pdf",
         "7",
         "2021-01-01",
         "Manually deleted 5 images",
         "2"
        ],
        [
         "36",
         "02_2021.pdf",
         "7",
         "2021-02-01",
         "Manually deleted 5 images",
         "2"
        ],
        [
         "37",
         "03_2021.pdf",
         "7",
         "2021-03-01",
         "Manually deleted 5 images",
         "2"
        ],
        [
         "38",
         "04_2021.pdf",
         "6",
         "2021-04-01",
         "Manually deleted 4 images",
         "2"
        ],
        [
         "39",
         "05_2021.pdf",
         "6",
         "2021-05-01",
         "Manually deleted 4 images",
         "2"
        ],
        [
         "40",
         "06_2021.pdf",
         "6",
         "2021-06-01",
         "Manually deleted 4 images",
         "2"
        ],
        [
         "41",
         "07_2021.pdf",
         "6",
         "2021-07-01",
         "Manually deleted 4 images",
         "2"
        ],
        [
         "42",
         "08_2021.pdf",
         "6",
         "2021-08-01",
         "Manually deleted 4 images",
         "2"
        ],
        [
         "43",
         "09_2021.pdf",
         "6",
         "2021-09-01",
         "Manually deleted 4 images",
         "2"
        ],
        [
         "44",
         "10_2021.pdf",
         "6",
         "2021-10-01",
         "Manually deleted 4 images",
         "2"
        ],
        [
         "45",
         "11_2021.pdf",
         "6",
         "2021-11-01",
         "Manually deleted 4 images",
         "2"
        ],
        [
         "46",
         "12_2021.pdf",
         "6",
         "2021-12-01",
         "Manually deleted 4 images",
         "2"
        ],
        [
         "47",
         "01_2022.pdf",
         "6",
         "2022-01-01",
         "Manually deleted 4 images",
         "2"
        ],
        [
         "48",
         "02_2022.pdf",
         "1",
         "2022-02-01",
         "Manually deleted 1 images; manually added 2 images",
         "0"
        ],
        [
         "49",
         "03_2022.pdf",
         "2",
         "2022-03-01",
         "Manually deleted 1 images; manually added 1 images",
         "1"
        ]
       ],
       "shape": {
        "columns": 5,
        "rows": 80
       }
      },
      "text/html": [
       "<div>\n",
       "<style scoped>\n",
       "    .dataframe tbody tr th:only-of-type {\n",
       "        vertical-align: middle;\n",
       "    }\n",
       "\n",
       "    .dataframe tbody tr th {\n",
       "        vertical-align: top;\n",
       "    }\n",
       "\n",
       "    .dataframe thead th {\n",
       "        text-align: right;\n",
       "    }\n",
       "</style>\n",
       "<table border=\"1\" class=\"dataframe\">\n",
       "  <thead>\n",
       "    <tr style=\"text-align: right;\">\n",
       "      <th></th>\n",
       "      <th>pdf_filename</th>\n",
       "      <th>accepted_images_count</th>\n",
       "      <th>date</th>\n",
       "      <th>note</th>\n",
       "      <th>adjusted_images_count</th>\n",
       "    </tr>\n",
       "  </thead>\n",
       "  <tbody>\n",
       "    <tr>\n",
       "      <th>0</th>\n",
       "      <td>01_2018.pdf</td>\n",
       "      <td>0</td>\n",
       "      <td>2018-01-01</td>\n",
       "      <td>Manual correction implemented</td>\n",
       "      <td>0</td>\n",
       "    </tr>\n",
       "    <tr>\n",
       "      <th>1</th>\n",
       "      <td>02_2018.pdf</td>\n",
       "      <td>7</td>\n",
       "      <td>2018-02-01</td>\n",
       "      <td>Manually deleted 5 images</td>\n",
       "      <td>2</td>\n",
       "    </tr>\n",
       "    <tr>\n",
       "      <th>2</th>\n",
       "      <td>03_2018.pdf</td>\n",
       "      <td>7</td>\n",
       "      <td>2018-03-01</td>\n",
       "      <td>Manually deleted 5 images</td>\n",
       "      <td>2</td>\n",
       "    </tr>\n",
       "    <tr>\n",
       "      <th>3</th>\n",
       "      <td>04_2018.pdf</td>\n",
       "      <td>7</td>\n",
       "      <td>2018-04-01</td>\n",
       "      <td>Manually deleted 5 images</td>\n",
       "      <td>2</td>\n",
       "    </tr>\n",
       "    <tr>\n",
       "      <th>4</th>\n",
       "      <td>05_2018.pdf</td>\n",
       "      <td>7</td>\n",
       "      <td>2018-05-01</td>\n",
       "      <td>Manually deleted 4 images</td>\n",
       "      <td>3</td>\n",
       "    </tr>\n",
       "    <tr>\n",
       "      <th>...</th>\n",
       "      <td>...</td>\n",
       "      <td>...</td>\n",
       "      <td>...</td>\n",
       "      <td>...</td>\n",
       "      <td>...</td>\n",
       "    </tr>\n",
       "    <tr>\n",
       "      <th>75</th>\n",
       "      <td>7_2024.pdf</td>\n",
       "      <td>4</td>\n",
       "      <td>2024-07-01</td>\n",
       "      <td>Manually deleted 2 images</td>\n",
       "      <td>2</td>\n",
       "    </tr>\n",
       "    <tr>\n",
       "      <th>76</th>\n",
       "      <td>8_2024.pdf</td>\n",
       "      <td>4</td>\n",
       "      <td>2024-08-01</td>\n",
       "      <td>Manually deleted 1 images</td>\n",
       "      <td>3</td>\n",
       "    </tr>\n",
       "    <tr>\n",
       "      <th>77</th>\n",
       "      <td>9_2024.pdf</td>\n",
       "      <td>4</td>\n",
       "      <td>2024-09-01</td>\n",
       "      <td>Manually deleted 2 images</td>\n",
       "      <td>2</td>\n",
       "    </tr>\n",
       "    <tr>\n",
       "      <th>78</th>\n",
       "      <td>01_2025.pdf</td>\n",
       "      <td>4</td>\n",
       "      <td>2025-01-01</td>\n",
       "      <td>Manually deleted 2 images</td>\n",
       "      <td>2</td>\n",
       "    </tr>\n",
       "    <tr>\n",
       "      <th>79</th>\n",
       "      <td>03_2025.pdf</td>\n",
       "      <td>3</td>\n",
       "      <td>2025-03-01</td>\n",
       "      <td>Manually deleted 2 images</td>\n",
       "      <td>1</td>\n",
       "    </tr>\n",
       "  </tbody>\n",
       "</table>\n",
       "<p>80 rows × 5 columns</p>\n",
       "</div>"
      ],
      "text/plain": [
       "   pdf_filename  accepted_images_count        date  \\\n",
       "0   01_2018.pdf                      0  2018-01-01   \n",
       "1   02_2018.pdf                      7  2018-02-01   \n",
       "2   03_2018.pdf                      7  2018-03-01   \n",
       "3   04_2018.pdf                      7  2018-04-01   \n",
       "4   05_2018.pdf                      7  2018-05-01   \n",
       "..          ...                    ...         ...   \n",
       "75   7_2024.pdf                      4  2024-07-01   \n",
       "76   8_2024.pdf                      4  2024-08-01   \n",
       "77   9_2024.pdf                      4  2024-09-01   \n",
       "78  01_2025.pdf                      4  2025-01-01   \n",
       "79  03_2025.pdf                      3  2025-03-01   \n",
       "\n",
       "                             note  adjusted_images_count  \n",
       "0   Manual correction implemented                      0  \n",
       "1       Manually deleted 5 images                      2  \n",
       "2       Manually deleted 5 images                      2  \n",
       "3       Manually deleted 5 images                      2  \n",
       "4       Manually deleted 4 images                      3  \n",
       "..                            ...                    ...  \n",
       "75      Manually deleted 2 images                      2  \n",
       "76      Manually deleted 1 images                      3  \n",
       "77      Manually deleted 2 images                      2  \n",
       "78      Manually deleted 2 images                      2  \n",
       "79      Manually deleted 2 images                      1  \n",
       "\n",
       "[80 rows x 5 columns]"
      ]
     },
     "execution_count": 12,
     "metadata": {},
     "output_type": "execute_result"
    }
   ],
   "source": [
    "# Create a new column for the calculated value\n",
    "df['adjusted_images_count'] = df['accepted_images_count']\n",
    "\n",
    "# Extract the value of 'y' from the 'note' column and adjust the count\n",
    "for index, row in df.iterrows():\n",
    "    if pd.notna(row['note']):\n",
    "        match = re.search(r\"Manually deleted (\\d+) images\", row['note'])\n",
    "        if match:\n",
    "            y = int(match.group(1))\n",
    "            df.at[index, 'adjusted_images_count'] = row['accepted_images_count'] - y\n",
    "\n",
    "# Display the updated dataframe\n",
    "df"
   ]
  },
  {
   "cell_type": "code",
   "execution_count": 13,
   "metadata": {},
   "outputs": [
    {
     "name": "stdout",
     "output_type": "stream",
     "text": [
      "Found 158 files in images folder\n",
      "\n",
      "Found 2 PDFs with no matching images:\n",
      "No match for PDF: '01_2018' (from 01_2018.pdf)\n",
      "No match for PDF: '10_2018' (from 10_2018.pdf)\n",
      "\n",
      "Summary:\n",
      "- Total PDFs checked: 80\n",
      "- Total images checked: 158\n",
      "- Total matches found: 158\n",
      "- Total PDFs with no matches: 2\n"
     ]
    }
   ],
   "source": [
    "import os\n",
    "import pandas as pd\n",
    "from pathlib import Path\n",
    "\n",
    "# 1. Read the pdf_filename column from the dataframe\n",
    "# Assuming df is already loaded - if not, uncomment the following line:\n",
    "# df = pd.read_csv(r\"C:\\Users\\clint\\Desktop\\Scraping Task\\df_8.csv\")\n",
    "\n",
    "# 2. Read files from the Images folder\n",
    "images_folder = r\"C:\\Users\\clint\\Desktop\\Scraping Task\\pdfs\\Images\"\n",
    "try:\n",
    "    image_files = os.listdir(images_folder)\n",
    "    print(f\"Found {len(image_files)} files in images folder\")\n",
    "except FileNotFoundError:\n",
    "    print(f\"Error: Images folder not found at {images_folder}\")\n",
    "    image_files = []\n",
    "\n",
    "# 3. Extract basenames from PDF filenames\n",
    "pdf_basenames = []\n",
    "for pdf_path in df['pdf_filename']:\n",
    "    if isinstance(pdf_path, str):  # Make sure it's a string\n",
    "        basename = Path(pdf_path).stem\n",
    "        pdf_basenames.append((basename, pdf_path))\n",
    "\n",
    "# 4. Check for matches and track unmatched basenames\n",
    "matches = []\n",
    "unmatched = []\n",
    "\n",
    "for basename, original_pdf in pdf_basenames:\n",
    "    found_match = False\n",
    "    for image_file in image_files:\n",
    "        if basename in image_file:\n",
    "            matches.append((basename, image_file, original_pdf))\n",
    "            found_match = True\n",
    "    \n",
    "    if not found_match:\n",
    "        unmatched.append((basename, original_pdf))\n",
    "\n",
    "# 5. Display unmatched basenames\n",
    "if unmatched:\n",
    "    print(f\"\\nFound {len(unmatched)} PDFs with no matching images:\")\n",
    "    for basename, original_pdf in unmatched:\n",
    "        print(f\"No match for PDF: '{basename}' (from {original_pdf})\")\n",
    "else:\n",
    "    print(\"\\nAll PDF basenames have matching images.\")\n",
    "\n",
    "# 6. Summary\n",
    "print(f\"\\nSummary:\")\n",
    "print(f\"- Total PDFs checked: {len(pdf_basenames)}\")\n",
    "print(f\"- Total images checked: {len(image_files)}\")\n",
    "print(f\"- Total matches found: {len(matches)}\")\n",
    "print(f\"- Total PDFs with no matches: {len(unmatched)}\")"
   ]
  },
  {
   "cell_type": "code",
   "execution_count": 14,
   "metadata": {},
   "outputs": [
    {
     "data": {
      "application/vnd.microsoft.datawrangler.viewer.v0+json": {
       "columns": [
        {
         "name": "index",
         "rawType": "int64",
         "type": "integer"
        },
        {
         "name": "pdf_filename",
         "rawType": "object",
         "type": "string"
        },
        {
         "name": "accepted_images_count",
         "rawType": "int64",
         "type": "integer"
        },
        {
         "name": "date",
         "rawType": "object",
         "type": "string"
        },
        {
         "name": "note",
         "rawType": "object",
         "type": "string"
        }
       ],
       "conversionMethod": "pd.DataFrame",
       "ref": "919ba8df-33a4-4ec3-8342-9c357fcc33f9",
       "rows": [
        [
         "0",
         "01_2018.pdf",
         "0",
         "2018-01-01",
         "Manual correction implemented"
        ],
        [
         "1",
         "02_2018.pdf",
         "7",
         "2018-02-01",
         "Manually deleted 5 images"
        ],
        [
         "2",
         "03_2018.pdf",
         "7",
         "2018-03-01",
         "Manually deleted 5 images"
        ],
        [
         "3",
         "04_2018.pdf",
         "7",
         "2018-04-01",
         "Manually deleted 5 images"
        ],
        [
         "4",
         "05_2018.pdf",
         "7",
         "2018-05-01",
         "Manually deleted 4 images"
        ],
        [
         "5",
         "06_2018.pdf",
         "7",
         "2018-06-01",
         "Manually deleted 5 images"
        ],
        [
         "6",
         "07_2018.pdf",
         "7",
         "2018-07-01",
         "Manually deleted 5 images"
        ],
        [
         "7",
         "08_2018.pdf",
         "7",
         "2018-08-01",
         "Manually deleted 5 images"
        ],
        [
         "8",
         "09_2018.pdf",
         "7",
         "2018-09-01",
         "Manually deleted 5 images"
        ],
        [
         "9",
         "10_2018.pdf",
         "1",
         "2018-10-01",
         "Manually deleted 1 images"
        ],
        [
         "10",
         "11_2018.pdf",
         "8",
         "2018-11-01",
         "Manually deleted 5 images"
        ],
        [
         "11",
         "12_2018.pdf",
         "8",
         "2018-12-01",
         "Manually deleted 5 images"
        ],
        [
         "12",
         "01_2019.pdf",
         "8",
         "2019-01-01",
         "Manually deleted 5 images"
        ],
        [
         "13",
         "02_2019.pdf",
         "8",
         "2019-02-01",
         "Manually deleted 5 images"
        ],
        [
         "14",
         "03_2019.pdf",
         "8",
         "2019-03-01",
         "Manually deleted 5 images"
        ],
        [
         "15",
         "04_2019.pdf",
         "8",
         "2019-04-01",
         "Manually deleted 5 images"
        ],
        [
         "16",
         "05_2019.pdf",
         "8",
         "2019-05-01",
         "Manually deleted 5 images"
        ],
        [
         "17",
         "06_2019.pdf",
         "8",
         "2019-06-01",
         "Manually deleted 5 images"
        ],
        [
         "18",
         "07_2019.pdf",
         "8",
         "2019-07-01",
         "Manually deleted 5 images"
        ],
        [
         "19",
         "08_2019.pdf",
         "8",
         "2019-08-01",
         "Manually deleted 4 images"
        ],
        [
         "20",
         "09_2019.pdf",
         "8",
         "2019-09-01",
         "Manually deleted 5 images"
        ],
        [
         "21",
         "10_2019.pdf",
         "8",
         "2019-10-01",
         "Manually deleted 5 images"
        ],
        [
         "22",
         "11_2019.pdf",
         "7",
         "2019-11-01",
         "Manually deleted 4 images"
        ],
        [
         "23",
         "12_2019.pdf",
         "7",
         "2019-12-01",
         "Manually deleted 5 images"
        ],
        [
         "24",
         "01_2020.pdf",
         "7",
         "2020-01-01",
         "Manually deleted 5 images"
        ],
        [
         "25",
         "02_2020.pdf",
         "6",
         "2020-02-01",
         "Manually deleted 4 images"
        ],
        [
         "26",
         "03_2020.pdf",
         "7",
         "2020-03-01",
         "Manually deleted 5 images"
        ],
        [
         "27",
         "04_2020.pdf",
         "7",
         "2020-04-01",
         "Manually deleted 5 images"
        ],
        [
         "28",
         "05_2020.pdf",
         "7",
         "2020-05-01",
         "Manually deleted 6 images"
        ],
        [
         "29",
         "06_2020.pdf",
         "7",
         "2020-06-01",
         "Manually deleted 5 images"
        ],
        [
         "30",
         "07_2020.pdf",
         "7",
         "2020-07-01",
         "Manually deleted 5 images"
        ],
        [
         "31",
         "08_2020.pdf",
         "6",
         "2020-08-01",
         "Manually deleted 4 images"
        ],
        [
         "32",
         "09_2020.pdf",
         "6",
         "2020-09-01",
         "Manually deleted 4 images"
        ],
        [
         "33",
         "10_2020.pdf",
         "6",
         "2020-10-01",
         "Manually deleted 4 images"
        ],
        [
         "34",
         "11_2020.pdf",
         "6",
         "2020-11-01",
         "Manually deleted 4 images"
        ],
        [
         "35",
         "01_2021.pdf",
         "7",
         "2021-01-01",
         "Manually deleted 5 images"
        ],
        [
         "36",
         "02_2021.pdf",
         "7",
         "2021-02-01",
         "Manually deleted 5 images"
        ],
        [
         "37",
         "03_2021.pdf",
         "7",
         "2021-03-01",
         "Manually deleted 5 images"
        ],
        [
         "38",
         "04_2021.pdf",
         "6",
         "2021-04-01",
         "Manually deleted 4 images"
        ],
        [
         "39",
         "05_2021.pdf",
         "6",
         "2021-05-01",
         "Manually deleted 4 images"
        ],
        [
         "40",
         "06_2021.pdf",
         "6",
         "2021-06-01",
         "Manually deleted 4 images"
        ],
        [
         "41",
         "07_2021.pdf",
         "6",
         "2021-07-01",
         "Manually deleted 4 images"
        ],
        [
         "42",
         "08_2021.pdf",
         "6",
         "2021-08-01",
         "Manually deleted 4 images"
        ],
        [
         "43",
         "09_2021.pdf",
         "6",
         "2021-09-01",
         "Manually deleted 4 images"
        ],
        [
         "44",
         "10_2021.pdf",
         "6",
         "2021-10-01",
         "Manually deleted 4 images"
        ],
        [
         "45",
         "11_2021.pdf",
         "6",
         "2021-11-01",
         "Manually deleted 4 images"
        ],
        [
         "46",
         "12_2021.pdf",
         "6",
         "2021-12-01",
         "Manually deleted 4 images"
        ],
        [
         "47",
         "01_2022.pdf",
         "6",
         "2022-01-01",
         "Manually deleted 4 images"
        ],
        [
         "48",
         "02_2022.pdf",
         "1",
         "2022-02-01",
         "Manually deleted 1 images; manually added 2 images"
        ],
        [
         "49",
         "03_2022.pdf",
         "2",
         "2022-03-01",
         "Manually deleted 1 images; manually added 1 images"
        ]
       ],
       "shape": {
        "columns": 4,
        "rows": 80
       }
      },
      "text/html": [
       "<div>\n",
       "<style scoped>\n",
       "    .dataframe tbody tr th:only-of-type {\n",
       "        vertical-align: middle;\n",
       "    }\n",
       "\n",
       "    .dataframe tbody tr th {\n",
       "        vertical-align: top;\n",
       "    }\n",
       "\n",
       "    .dataframe thead th {\n",
       "        text-align: right;\n",
       "    }\n",
       "</style>\n",
       "<table border=\"1\" class=\"dataframe\">\n",
       "  <thead>\n",
       "    <tr style=\"text-align: right;\">\n",
       "      <th></th>\n",
       "      <th>pdf_filename</th>\n",
       "      <th>accepted_images_count</th>\n",
       "      <th>date</th>\n",
       "      <th>note</th>\n",
       "    </tr>\n",
       "  </thead>\n",
       "  <tbody>\n",
       "    <tr>\n",
       "      <th>0</th>\n",
       "      <td>01_2018.pdf</td>\n",
       "      <td>0</td>\n",
       "      <td>2018-01-01</td>\n",
       "      <td>Manual correction implemented</td>\n",
       "    </tr>\n",
       "    <tr>\n",
       "      <th>1</th>\n",
       "      <td>02_2018.pdf</td>\n",
       "      <td>7</td>\n",
       "      <td>2018-02-01</td>\n",
       "      <td>Manually deleted 5 images</td>\n",
       "    </tr>\n",
       "    <tr>\n",
       "      <th>2</th>\n",
       "      <td>03_2018.pdf</td>\n",
       "      <td>7</td>\n",
       "      <td>2018-03-01</td>\n",
       "      <td>Manually deleted 5 images</td>\n",
       "    </tr>\n",
       "    <tr>\n",
       "      <th>3</th>\n",
       "      <td>04_2018.pdf</td>\n",
       "      <td>7</td>\n",
       "      <td>2018-04-01</td>\n",
       "      <td>Manually deleted 5 images</td>\n",
       "    </tr>\n",
       "    <tr>\n",
       "      <th>4</th>\n",
       "      <td>05_2018.pdf</td>\n",
       "      <td>7</td>\n",
       "      <td>2018-05-01</td>\n",
       "      <td>Manually deleted 4 images</td>\n",
       "    </tr>\n",
       "    <tr>\n",
       "      <th>...</th>\n",
       "      <td>...</td>\n",
       "      <td>...</td>\n",
       "      <td>...</td>\n",
       "      <td>...</td>\n",
       "    </tr>\n",
       "    <tr>\n",
       "      <th>75</th>\n",
       "      <td>7_2024.pdf</td>\n",
       "      <td>4</td>\n",
       "      <td>2024-07-01</td>\n",
       "      <td>Manually deleted 2 images</td>\n",
       "    </tr>\n",
       "    <tr>\n",
       "      <th>76</th>\n",
       "      <td>8_2024.pdf</td>\n",
       "      <td>4</td>\n",
       "      <td>2024-08-01</td>\n",
       "      <td>Manually deleted 1 images</td>\n",
       "    </tr>\n",
       "    <tr>\n",
       "      <th>77</th>\n",
       "      <td>9_2024.pdf</td>\n",
       "      <td>4</td>\n",
       "      <td>2024-09-01</td>\n",
       "      <td>Manually deleted 2 images</td>\n",
       "    </tr>\n",
       "    <tr>\n",
       "      <th>78</th>\n",
       "      <td>01_2025.pdf</td>\n",
       "      <td>4</td>\n",
       "      <td>2025-01-01</td>\n",
       "      <td>Manually deleted 2 images</td>\n",
       "    </tr>\n",
       "    <tr>\n",
       "      <th>79</th>\n",
       "      <td>03_2025.pdf</td>\n",
       "      <td>3</td>\n",
       "      <td>2025-03-01</td>\n",
       "      <td>Manually deleted 2 images</td>\n",
       "    </tr>\n",
       "  </tbody>\n",
       "</table>\n",
       "<p>80 rows × 4 columns</p>\n",
       "</div>"
      ],
      "text/plain": [
       "   pdf_filename  accepted_images_count        date  \\\n",
       "0   01_2018.pdf                      0  2018-01-01   \n",
       "1   02_2018.pdf                      7  2018-02-01   \n",
       "2   03_2018.pdf                      7  2018-03-01   \n",
       "3   04_2018.pdf                      7  2018-04-01   \n",
       "4   05_2018.pdf                      7  2018-05-01   \n",
       "..          ...                    ...         ...   \n",
       "75   7_2024.pdf                      4  2024-07-01   \n",
       "76   8_2024.pdf                      4  2024-08-01   \n",
       "77   9_2024.pdf                      4  2024-09-01   \n",
       "78  01_2025.pdf                      4  2025-01-01   \n",
       "79  03_2025.pdf                      3  2025-03-01   \n",
       "\n",
       "                             note  \n",
       "0   Manual correction implemented  \n",
       "1       Manually deleted 5 images  \n",
       "2       Manually deleted 5 images  \n",
       "3       Manually deleted 5 images  \n",
       "4       Manually deleted 4 images  \n",
       "..                            ...  \n",
       "75      Manually deleted 2 images  \n",
       "76      Manually deleted 1 images  \n",
       "77      Manually deleted 2 images  \n",
       "78      Manually deleted 2 images  \n",
       "79      Manually deleted 2 images  \n",
       "\n",
       "[80 rows x 4 columns]"
      ]
     },
     "execution_count": 14,
     "metadata": {},
     "output_type": "execute_result"
    }
   ],
   "source": [
    "df = df.drop(columns=['adjusted_images_count'])\n",
    "df"
   ]
  },
  {
   "cell_type": "code",
   "execution_count": 15,
   "metadata": {},
   "outputs": [
    {
     "data": {
      "application/vnd.microsoft.datawrangler.viewer.v0+json": {
       "columns": [
        {
         "name": "index",
         "rawType": "int64",
         "type": "integer"
        },
        {
         "name": "pdf_filename",
         "rawType": "object",
         "type": "string"
        },
        {
         "name": "accepted_images_count",
         "rawType": "int64",
         "type": "integer"
        },
        {
         "name": "date",
         "rawType": "object",
         "type": "string"
        },
        {
         "name": "note",
         "rawType": "object",
         "type": "string"
        }
       ],
       "conversionMethod": "pd.DataFrame",
       "ref": "b3f25cb6-ce9c-4223-ab3a-b5dd403bcbbf",
       "rows": [
        [
         "1",
         "02_2018.pdf",
         "7",
         "2018-02-01",
         "Manually deleted 5 images"
        ],
        [
         "2",
         "03_2018.pdf",
         "7",
         "2018-03-01",
         "Manually deleted 5 images"
        ],
        [
         "3",
         "04_2018.pdf",
         "7",
         "2018-04-01",
         "Manually deleted 5 images"
        ],
        [
         "4",
         "05_2018.pdf",
         "7",
         "2018-05-01",
         "Manually deleted 4 images"
        ],
        [
         "5",
         "06_2018.pdf",
         "7",
         "2018-06-01",
         "Manually deleted 5 images"
        ],
        [
         "6",
         "07_2018.pdf",
         "7",
         "2018-07-01",
         "Manually deleted 5 images"
        ],
        [
         "7",
         "08_2018.pdf",
         "7",
         "2018-08-01",
         "Manually deleted 5 images"
        ],
        [
         "8",
         "09_2018.pdf",
         "7",
         "2018-09-01",
         "Manually deleted 5 images"
        ],
        [
         "10",
         "11_2018.pdf",
         "8",
         "2018-11-01",
         "Manually deleted 5 images"
        ],
        [
         "11",
         "12_2018.pdf",
         "8",
         "2018-12-01",
         "Manually deleted 5 images"
        ],
        [
         "12",
         "01_2019.pdf",
         "8",
         "2019-01-01",
         "Manually deleted 5 images"
        ],
        [
         "13",
         "02_2019.pdf",
         "8",
         "2019-02-01",
         "Manually deleted 5 images"
        ],
        [
         "14",
         "03_2019.pdf",
         "8",
         "2019-03-01",
         "Manually deleted 5 images"
        ],
        [
         "15",
         "04_2019.pdf",
         "8",
         "2019-04-01",
         "Manually deleted 5 images"
        ],
        [
         "16",
         "05_2019.pdf",
         "8",
         "2019-05-01",
         "Manually deleted 5 images"
        ],
        [
         "17",
         "06_2019.pdf",
         "8",
         "2019-06-01",
         "Manually deleted 5 images"
        ],
        [
         "18",
         "07_2019.pdf",
         "8",
         "2019-07-01",
         "Manually deleted 5 images"
        ],
        [
         "19",
         "08_2019.pdf",
         "8",
         "2019-08-01",
         "Manually deleted 4 images"
        ],
        [
         "20",
         "09_2019.pdf",
         "8",
         "2019-09-01",
         "Manually deleted 5 images"
        ],
        [
         "21",
         "10_2019.pdf",
         "8",
         "2019-10-01",
         "Manually deleted 5 images"
        ],
        [
         "22",
         "11_2019.pdf",
         "7",
         "2019-11-01",
         "Manually deleted 4 images"
        ],
        [
         "23",
         "12_2019.pdf",
         "7",
         "2019-12-01",
         "Manually deleted 5 images"
        ],
        [
         "24",
         "01_2020.pdf",
         "7",
         "2020-01-01",
         "Manually deleted 5 images"
        ],
        [
         "25",
         "02_2020.pdf",
         "6",
         "2020-02-01",
         "Manually deleted 4 images"
        ],
        [
         "26",
         "03_2020.pdf",
         "7",
         "2020-03-01",
         "Manually deleted 5 images"
        ],
        [
         "27",
         "04_2020.pdf",
         "7",
         "2020-04-01",
         "Manually deleted 5 images"
        ],
        [
         "28",
         "05_2020.pdf",
         "7",
         "2020-05-01",
         "Manually deleted 6 images"
        ],
        [
         "29",
         "06_2020.pdf",
         "7",
         "2020-06-01",
         "Manually deleted 5 images"
        ],
        [
         "30",
         "07_2020.pdf",
         "7",
         "2020-07-01",
         "Manually deleted 5 images"
        ],
        [
         "31",
         "08_2020.pdf",
         "6",
         "2020-08-01",
         "Manually deleted 4 images"
        ],
        [
         "32",
         "09_2020.pdf",
         "6",
         "2020-09-01",
         "Manually deleted 4 images"
        ],
        [
         "33",
         "10_2020.pdf",
         "6",
         "2020-10-01",
         "Manually deleted 4 images"
        ],
        [
         "34",
         "11_2020.pdf",
         "6",
         "2020-11-01",
         "Manually deleted 4 images"
        ],
        [
         "35",
         "01_2021.pdf",
         "7",
         "2021-01-01",
         "Manually deleted 5 images"
        ],
        [
         "36",
         "02_2021.pdf",
         "7",
         "2021-02-01",
         "Manually deleted 5 images"
        ],
        [
         "37",
         "03_2021.pdf",
         "7",
         "2021-03-01",
         "Manually deleted 5 images"
        ],
        [
         "38",
         "04_2021.pdf",
         "6",
         "2021-04-01",
         "Manually deleted 4 images"
        ],
        [
         "39",
         "05_2021.pdf",
         "6",
         "2021-05-01",
         "Manually deleted 4 images"
        ],
        [
         "40",
         "06_2021.pdf",
         "6",
         "2021-06-01",
         "Manually deleted 4 images"
        ],
        [
         "41",
         "07_2021.pdf",
         "6",
         "2021-07-01",
         "Manually deleted 4 images"
        ],
        [
         "42",
         "08_2021.pdf",
         "6",
         "2021-08-01",
         "Manually deleted 4 images"
        ],
        [
         "43",
         "09_2021.pdf",
         "6",
         "2021-09-01",
         "Manually deleted 4 images"
        ],
        [
         "44",
         "10_2021.pdf",
         "6",
         "2021-10-01",
         "Manually deleted 4 images"
        ],
        [
         "45",
         "11_2021.pdf",
         "6",
         "2021-11-01",
         "Manually deleted 4 images"
        ],
        [
         "46",
         "12_2021.pdf",
         "6",
         "2021-12-01",
         "Manually deleted 4 images"
        ],
        [
         "47",
         "01_2022.pdf",
         "6",
         "2022-01-01",
         "Manually deleted 4 images"
        ],
        [
         "48",
         "02_2022.pdf",
         "1",
         "2022-02-01",
         "Manually deleted 1 images; manually added 2 images"
        ],
        [
         "49",
         "03_2022.pdf",
         "2",
         "2022-03-01",
         "Manually deleted 1 images; manually added 1 images"
        ],
        [
         "50",
         "04_2022.pdf",
         "1",
         "2022-04-01",
         "Manually deleted 1 images; manually added 2 images"
        ],
        [
         "51",
         "05_2022.pdf",
         "4",
         "2022-05-01",
         "Manually deleted 3 images"
        ]
       ],
       "shape": {
        "columns": 4,
        "rows": 78
       }
      },
      "text/html": [
       "<div>\n",
       "<style scoped>\n",
       "    .dataframe tbody tr th:only-of-type {\n",
       "        vertical-align: middle;\n",
       "    }\n",
       "\n",
       "    .dataframe tbody tr th {\n",
       "        vertical-align: top;\n",
       "    }\n",
       "\n",
       "    .dataframe thead th {\n",
       "        text-align: right;\n",
       "    }\n",
       "</style>\n",
       "<table border=\"1\" class=\"dataframe\">\n",
       "  <thead>\n",
       "    <tr style=\"text-align: right;\">\n",
       "      <th></th>\n",
       "      <th>pdf_filename</th>\n",
       "      <th>accepted_images_count</th>\n",
       "      <th>date</th>\n",
       "      <th>note</th>\n",
       "    </tr>\n",
       "  </thead>\n",
       "  <tbody>\n",
       "    <tr>\n",
       "      <th>1</th>\n",
       "      <td>02_2018.pdf</td>\n",
       "      <td>7</td>\n",
       "      <td>2018-02-01</td>\n",
       "      <td>Manually deleted 5 images</td>\n",
       "    </tr>\n",
       "    <tr>\n",
       "      <th>2</th>\n",
       "      <td>03_2018.pdf</td>\n",
       "      <td>7</td>\n",
       "      <td>2018-03-01</td>\n",
       "      <td>Manually deleted 5 images</td>\n",
       "    </tr>\n",
       "    <tr>\n",
       "      <th>3</th>\n",
       "      <td>04_2018.pdf</td>\n",
       "      <td>7</td>\n",
       "      <td>2018-04-01</td>\n",
       "      <td>Manually deleted 5 images</td>\n",
       "    </tr>\n",
       "    <tr>\n",
       "      <th>4</th>\n",
       "      <td>05_2018.pdf</td>\n",
       "      <td>7</td>\n",
       "      <td>2018-05-01</td>\n",
       "      <td>Manually deleted 4 images</td>\n",
       "    </tr>\n",
       "    <tr>\n",
       "      <th>5</th>\n",
       "      <td>06_2018.pdf</td>\n",
       "      <td>7</td>\n",
       "      <td>2018-06-01</td>\n",
       "      <td>Manually deleted 5 images</td>\n",
       "    </tr>\n",
       "    <tr>\n",
       "      <th>...</th>\n",
       "      <td>...</td>\n",
       "      <td>...</td>\n",
       "      <td>...</td>\n",
       "      <td>...</td>\n",
       "    </tr>\n",
       "    <tr>\n",
       "      <th>75</th>\n",
       "      <td>7_2024.pdf</td>\n",
       "      <td>4</td>\n",
       "      <td>2024-07-01</td>\n",
       "      <td>Manually deleted 2 images</td>\n",
       "    </tr>\n",
       "    <tr>\n",
       "      <th>76</th>\n",
       "      <td>8_2024.pdf</td>\n",
       "      <td>4</td>\n",
       "      <td>2024-08-01</td>\n",
       "      <td>Manually deleted 1 images</td>\n",
       "    </tr>\n",
       "    <tr>\n",
       "      <th>77</th>\n",
       "      <td>9_2024.pdf</td>\n",
       "      <td>4</td>\n",
       "      <td>2024-09-01</td>\n",
       "      <td>Manually deleted 2 images</td>\n",
       "    </tr>\n",
       "    <tr>\n",
       "      <th>78</th>\n",
       "      <td>01_2025.pdf</td>\n",
       "      <td>4</td>\n",
       "      <td>2025-01-01</td>\n",
       "      <td>Manually deleted 2 images</td>\n",
       "    </tr>\n",
       "    <tr>\n",
       "      <th>79</th>\n",
       "      <td>03_2025.pdf</td>\n",
       "      <td>3</td>\n",
       "      <td>2025-03-01</td>\n",
       "      <td>Manually deleted 2 images</td>\n",
       "    </tr>\n",
       "  </tbody>\n",
       "</table>\n",
       "<p>78 rows × 4 columns</p>\n",
       "</div>"
      ],
      "text/plain": [
       "   pdf_filename  accepted_images_count        date                       note\n",
       "1   02_2018.pdf                      7  2018-02-01  Manually deleted 5 images\n",
       "2   03_2018.pdf                      7  2018-03-01  Manually deleted 5 images\n",
       "3   04_2018.pdf                      7  2018-04-01  Manually deleted 5 images\n",
       "4   05_2018.pdf                      7  2018-05-01  Manually deleted 4 images\n",
       "5   06_2018.pdf                      7  2018-06-01  Manually deleted 5 images\n",
       "..          ...                    ...         ...                        ...\n",
       "75   7_2024.pdf                      4  2024-07-01  Manually deleted 2 images\n",
       "76   8_2024.pdf                      4  2024-08-01  Manually deleted 1 images\n",
       "77   9_2024.pdf                      4  2024-09-01  Manually deleted 2 images\n",
       "78  01_2025.pdf                      4  2025-01-01  Manually deleted 2 images\n",
       "79  03_2025.pdf                      3  2025-03-01  Manually deleted 2 images\n",
       "\n",
       "[78 rows x 4 columns]"
      ]
     },
     "execution_count": 15,
     "metadata": {},
     "output_type": "execute_result"
    }
   ],
   "source": [
    "df = df[~df['pdf_filename'].isin(['01_2018.pdf', '10_2018.pdf'])]\n",
    "df"
   ]
  },
  {
   "cell_type": "code",
   "execution_count": 16,
   "metadata": {},
   "outputs": [
    {
     "name": "stdout",
     "output_type": "stream",
     "text": [
      "Dataframe saved as df_8.csv\n"
     ]
    }
   ],
   "source": [
    "df.to_csv(r\"C:\\Users\\clint\\Desktop\\Scraping Task\\df_8.csv\", index=False)\n",
    "print(\"Dataframe saved as df_8.csv\")"
   ]
  },
  {
   "cell_type": "code",
   "execution_count": null,
   "metadata": {},
   "outputs": [],
   "source": []
  }
 ],
 "metadata": {
  "kernelspec": {
   "display_name": "Python 3",
   "language": "python",
   "name": "python3"
  },
  "language_info": {
   "codemirror_mode": {
    "name": "ipython",
    "version": 3
   },
   "file_extension": ".py",
   "mimetype": "text/x-python",
   "name": "python",
   "nbconvert_exporter": "python",
   "pygments_lexer": "ipython3",
   "version": "3.11.9"
  }
 },
 "nbformat": 4,
 "nbformat_minor": 2
}
