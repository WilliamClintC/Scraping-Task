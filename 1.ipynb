{
 "cells": [
  {
   "cell_type": "markdown",
   "metadata": {},
   "source": [
    "# Google Dorking Queries for Commercial Vehicle PDFs\n",
    "\n",
    "### First Attempt\n",
    "- `site:discover.jdpa.com/hubfs/Files filetype:pdf intitle:\"COMMERCIAL VEHICLE\"`\n",
    "- `site:discover.jdpa.com/hubfs/Files filetype:pdf intitle:\"COMMERCIAL TRUCK\"`\n",
    "- `site:https://cdn2.hubspot.net/ filetype:pdf intitle:\"COMMERCIAL TRUCK\"`"
   ]
  },
  {
   "cell_type": "code",
   "execution_count": 31,
   "metadata": {},
   "outputs": [],
   "source": [
    "import pandas as pd\n",
    "\n",
    "# Load the CSV file\n",
    "truck_market_dates = pd.read_csv(r'C:\\Users\\clint\\Desktop\\Scraping Task\\1.csv')\n",
    "\n",
    "links_available=truck_market_dates"
   ]
  },
  {
   "cell_type": "code",
   "execution_count": 32,
   "metadata": {},
   "outputs": [
    {
     "data": {
      "application/vnd.microsoft.datawrangler.viewer.v0+json": {
       "columns": [
        {
         "name": "index",
         "rawType": "int64",
         "type": "integer"
        },
        {
         "name": "Official Link",
         "rawType": "object",
         "type": "string"
        },
        {
         "name": "Month",
         "rawType": "object",
         "type": "string"
        },
        {
         "name": "Year",
         "rawType": "int64",
         "type": "integer"
        }
       ],
       "conversionMethod": "pd.DataFrame",
       "ref": "3e5fbb48-986c-42af-adab-0a1230777f3f",
       "rows": [
        [
         "0",
         "https://www.jdpowervalues.com/article/market-correction-continues-moderate-pace",
         "November",
         "2022"
        ],
        [
         "1",
         "https://www.jdpowervalues.com/article/class-8-market-correction-continued-through-end-2022",
         "January",
         "2023"
        ],
        [
         "2",
         "https://www.jdpowervalues.com/article/market-absorbs-high-mileage-trucks-correction-continues-0",
         "June",
         "2022"
        ],
        [
         "3",
         "https://www.jdpowervalues.com/article/early-february-auctions-suggest-increase-number-available-late-model-trucks",
         "February",
         "2022"
        ],
        [
         "4",
         "https://www.jdpowervalues.com/article/more-retail-customers-visited-lots-january",
         "February",
         "2021"
        ],
        [
         "5",
         "https://www.jdpowervalues.com/article/summer-closes-out-strong-used-trucks",
         "September",
         "2021"
        ],
        [
         "6",
         "https://www.jdpowervalues.com/article/uncertainty-ratchets-market-continues-cool",
         "March",
         "2023"
        ],
        [
         "7",
         "https://www.jdpowervalues.com/article/december-2022-commercial-vehicle-market-update",
         "December",
         "2022"
        ],
        [
         "8",
         "https://www.jdpowervalues.com/article/2021-was-year-record-books",
         "January",
         "2022"
        ],
        [
         "9",
         "https://www.jdpowervalues.com/article/class-8-pricing-still-sky-high-risks-intensify",
         "March",
         "2022"
        ],
        [
         "10",
         "https://www.jdpowervalues.com/article/class-8-auction-market-takes-breather",
         "November",
         "2020"
        ],
        [
         "11",
         "https://www.jdpowervalues.com/article/class-8-auction-market-stayed-course-november",
         "December",
         "2020"
        ]
       ],
       "shape": {
        "columns": 3,
        "rows": 12
       }
      },
      "text/html": [
       "<div>\n",
       "<style scoped>\n",
       "    .dataframe tbody tr th:only-of-type {\n",
       "        vertical-align: middle;\n",
       "    }\n",
       "\n",
       "    .dataframe tbody tr th {\n",
       "        vertical-align: top;\n",
       "    }\n",
       "\n",
       "    .dataframe thead th {\n",
       "        text-align: right;\n",
       "    }\n",
       "</style>\n",
       "<table border=\"1\" class=\"dataframe\">\n",
       "  <thead>\n",
       "    <tr style=\"text-align: right;\">\n",
       "      <th></th>\n",
       "      <th>Official Link</th>\n",
       "      <th>Month</th>\n",
       "      <th>Year</th>\n",
       "    </tr>\n",
       "  </thead>\n",
       "  <tbody>\n",
       "    <tr>\n",
       "      <th>0</th>\n",
       "      <td>https://www.jdpowervalues.com/article/market-c...</td>\n",
       "      <td>November</td>\n",
       "      <td>2022</td>\n",
       "    </tr>\n",
       "    <tr>\n",
       "      <th>1</th>\n",
       "      <td>https://www.jdpowervalues.com/article/class-8-...</td>\n",
       "      <td>January</td>\n",
       "      <td>2023</td>\n",
       "    </tr>\n",
       "    <tr>\n",
       "      <th>2</th>\n",
       "      <td>https://www.jdpowervalues.com/article/market-a...</td>\n",
       "      <td>June</td>\n",
       "      <td>2022</td>\n",
       "    </tr>\n",
       "    <tr>\n",
       "      <th>3</th>\n",
       "      <td>https://www.jdpowervalues.com/article/early-fe...</td>\n",
       "      <td>February</td>\n",
       "      <td>2022</td>\n",
       "    </tr>\n",
       "    <tr>\n",
       "      <th>4</th>\n",
       "      <td>https://www.jdpowervalues.com/article/more-ret...</td>\n",
       "      <td>February</td>\n",
       "      <td>2021</td>\n",
       "    </tr>\n",
       "    <tr>\n",
       "      <th>5</th>\n",
       "      <td>https://www.jdpowervalues.com/article/summer-c...</td>\n",
       "      <td>September</td>\n",
       "      <td>2021</td>\n",
       "    </tr>\n",
       "    <tr>\n",
       "      <th>6</th>\n",
       "      <td>https://www.jdpowervalues.com/article/uncertai...</td>\n",
       "      <td>March</td>\n",
       "      <td>2023</td>\n",
       "    </tr>\n",
       "    <tr>\n",
       "      <th>7</th>\n",
       "      <td>https://www.jdpowervalues.com/article/december...</td>\n",
       "      <td>December</td>\n",
       "      <td>2022</td>\n",
       "    </tr>\n",
       "    <tr>\n",
       "      <th>8</th>\n",
       "      <td>https://www.jdpowervalues.com/article/2021-was...</td>\n",
       "      <td>January</td>\n",
       "      <td>2022</td>\n",
       "    </tr>\n",
       "    <tr>\n",
       "      <th>9</th>\n",
       "      <td>https://www.jdpowervalues.com/article/class-8-...</td>\n",
       "      <td>March</td>\n",
       "      <td>2022</td>\n",
       "    </tr>\n",
       "    <tr>\n",
       "      <th>10</th>\n",
       "      <td>https://www.jdpowervalues.com/article/class-8-...</td>\n",
       "      <td>November</td>\n",
       "      <td>2020</td>\n",
       "    </tr>\n",
       "    <tr>\n",
       "      <th>11</th>\n",
       "      <td>https://www.jdpowervalues.com/article/class-8-...</td>\n",
       "      <td>December</td>\n",
       "      <td>2020</td>\n",
       "    </tr>\n",
       "  </tbody>\n",
       "</table>\n",
       "</div>"
      ],
      "text/plain": [
       "                                        Official Link      Month  Year\n",
       "0   https://www.jdpowervalues.com/article/market-c...   November  2022\n",
       "1   https://www.jdpowervalues.com/article/class-8-...    January  2023\n",
       "2   https://www.jdpowervalues.com/article/market-a...       June  2022\n",
       "3   https://www.jdpowervalues.com/article/early-fe...   February  2022\n",
       "4   https://www.jdpowervalues.com/article/more-ret...   February  2021\n",
       "5   https://www.jdpowervalues.com/article/summer-c...  September  2021\n",
       "6   https://www.jdpowervalues.com/article/uncertai...      March  2023\n",
       "7   https://www.jdpowervalues.com/article/december...   December  2022\n",
       "8   https://www.jdpowervalues.com/article/2021-was...    January  2022\n",
       "9   https://www.jdpowervalues.com/article/class-8-...      March  2022\n",
       "10  https://www.jdpowervalues.com/article/class-8-...   November  2020\n",
       "11  https://www.jdpowervalues.com/article/class-8-...   December  2020"
      ]
     },
     "execution_count": 32,
     "metadata": {},
     "output_type": "execute_result"
    }
   ],
   "source": [
    "links_available.rename(columns={'Link': 'Official Link'}, inplace=True)\n",
    "links_available"
   ]
  },
  {
   "cell_type": "code",
   "execution_count": 33,
   "metadata": {},
   "outputs": [
    {
     "data": {
      "application/vnd.microsoft.datawrangler.viewer.v0+json": {
       "columns": [
        {
         "name": "index",
         "rawType": "int64",
         "type": "integer"
        },
        {
         "name": "Official Link",
         "rawType": "object",
         "type": "string"
        },
        {
         "name": "Month",
         "rawType": "object",
         "type": "string"
        },
        {
         "name": "Year",
         "rawType": "int64",
         "type": "integer"
        },
        {
         "name": "Dorking Links",
         "rawType": "object",
         "type": "unknown"
        }
       ],
       "conversionMethod": "pd.DataFrame",
       "ref": "c2ac7147-6c05-40b1-80d8-4c0266a3fdf2",
       "rows": [
        [
         "0",
         "https://www.jdpowervalues.com/article/market-correction-continues-moderate-pace",
         "November",
         "2022",
         null
        ],
        [
         "1",
         "https://www.jdpowervalues.com/article/class-8-market-correction-continued-through-end-2022",
         "January",
         "2023",
         null
        ],
        [
         "2",
         "https://www.jdpowervalues.com/article/market-absorbs-high-mileage-trucks-correction-continues-0",
         "June",
         "2022",
         null
        ],
        [
         "3",
         "https://www.jdpowervalues.com/article/early-february-auctions-suggest-increase-number-available-late-model-trucks",
         "February",
         "2022",
         null
        ],
        [
         "4",
         "https://www.jdpowervalues.com/article/more-retail-customers-visited-lots-january",
         "February",
         "2021",
         null
        ],
        [
         "5",
         "https://www.jdpowervalues.com/article/summer-closes-out-strong-used-trucks",
         "September",
         "2021",
         null
        ],
        [
         "6",
         "https://www.jdpowervalues.com/article/uncertainty-ratchets-market-continues-cool",
         "March",
         "2023",
         null
        ],
        [
         "7",
         "https://www.jdpowervalues.com/article/december-2022-commercial-vehicle-market-update",
         "December",
         "2022",
         null
        ],
        [
         "8",
         "https://www.jdpowervalues.com/article/2021-was-year-record-books",
         "January",
         "2022",
         null
        ],
        [
         "9",
         "https://www.jdpowervalues.com/article/class-8-pricing-still-sky-high-risks-intensify",
         "March",
         "2022",
         null
        ],
        [
         "10",
         "https://www.jdpowervalues.com/article/class-8-auction-market-takes-breather",
         "November",
         "2020",
         null
        ],
        [
         "11",
         "https://www.jdpowervalues.com/article/class-8-auction-market-stayed-course-november",
         "December",
         "2020",
         null
        ]
       ],
       "shape": {
        "columns": 4,
        "rows": 12
       }
      },
      "text/html": [
       "<div>\n",
       "<style scoped>\n",
       "    .dataframe tbody tr th:only-of-type {\n",
       "        vertical-align: middle;\n",
       "    }\n",
       "\n",
       "    .dataframe tbody tr th {\n",
       "        vertical-align: top;\n",
       "    }\n",
       "\n",
       "    .dataframe thead th {\n",
       "        text-align: right;\n",
       "    }\n",
       "</style>\n",
       "<table border=\"1\" class=\"dataframe\">\n",
       "  <thead>\n",
       "    <tr style=\"text-align: right;\">\n",
       "      <th></th>\n",
       "      <th>Official Link</th>\n",
       "      <th>Month</th>\n",
       "      <th>Year</th>\n",
       "      <th>Dorking Links</th>\n",
       "    </tr>\n",
       "  </thead>\n",
       "  <tbody>\n",
       "    <tr>\n",
       "      <th>0</th>\n",
       "      <td>https://www.jdpowervalues.com/article/market-c...</td>\n",
       "      <td>November</td>\n",
       "      <td>2022</td>\n",
       "      <td>None</td>\n",
       "    </tr>\n",
       "    <tr>\n",
       "      <th>1</th>\n",
       "      <td>https://www.jdpowervalues.com/article/class-8-...</td>\n",
       "      <td>January</td>\n",
       "      <td>2023</td>\n",
       "      <td>None</td>\n",
       "    </tr>\n",
       "    <tr>\n",
       "      <th>2</th>\n",
       "      <td>https://www.jdpowervalues.com/article/market-a...</td>\n",
       "      <td>June</td>\n",
       "      <td>2022</td>\n",
       "      <td>None</td>\n",
       "    </tr>\n",
       "    <tr>\n",
       "      <th>3</th>\n",
       "      <td>https://www.jdpowervalues.com/article/early-fe...</td>\n",
       "      <td>February</td>\n",
       "      <td>2022</td>\n",
       "      <td>None</td>\n",
       "    </tr>\n",
       "    <tr>\n",
       "      <th>4</th>\n",
       "      <td>https://www.jdpowervalues.com/article/more-ret...</td>\n",
       "      <td>February</td>\n",
       "      <td>2021</td>\n",
       "      <td>None</td>\n",
       "    </tr>\n",
       "    <tr>\n",
       "      <th>5</th>\n",
       "      <td>https://www.jdpowervalues.com/article/summer-c...</td>\n",
       "      <td>September</td>\n",
       "      <td>2021</td>\n",
       "      <td>None</td>\n",
       "    </tr>\n",
       "    <tr>\n",
       "      <th>6</th>\n",
       "      <td>https://www.jdpowervalues.com/article/uncertai...</td>\n",
       "      <td>March</td>\n",
       "      <td>2023</td>\n",
       "      <td>None</td>\n",
       "    </tr>\n",
       "    <tr>\n",
       "      <th>7</th>\n",
       "      <td>https://www.jdpowervalues.com/article/december...</td>\n",
       "      <td>December</td>\n",
       "      <td>2022</td>\n",
       "      <td>None</td>\n",
       "    </tr>\n",
       "    <tr>\n",
       "      <th>8</th>\n",
       "      <td>https://www.jdpowervalues.com/article/2021-was...</td>\n",
       "      <td>January</td>\n",
       "      <td>2022</td>\n",
       "      <td>None</td>\n",
       "    </tr>\n",
       "    <tr>\n",
       "      <th>9</th>\n",
       "      <td>https://www.jdpowervalues.com/article/class-8-...</td>\n",
       "      <td>March</td>\n",
       "      <td>2022</td>\n",
       "      <td>None</td>\n",
       "    </tr>\n",
       "    <tr>\n",
       "      <th>10</th>\n",
       "      <td>https://www.jdpowervalues.com/article/class-8-...</td>\n",
       "      <td>November</td>\n",
       "      <td>2020</td>\n",
       "      <td>None</td>\n",
       "    </tr>\n",
       "    <tr>\n",
       "      <th>11</th>\n",
       "      <td>https://www.jdpowervalues.com/article/class-8-...</td>\n",
       "      <td>December</td>\n",
       "      <td>2020</td>\n",
       "      <td>None</td>\n",
       "    </tr>\n",
       "  </tbody>\n",
       "</table>\n",
       "</div>"
      ],
      "text/plain": [
       "                                        Official Link      Month  Year  \\\n",
       "0   https://www.jdpowervalues.com/article/market-c...   November  2022   \n",
       "1   https://www.jdpowervalues.com/article/class-8-...    January  2023   \n",
       "2   https://www.jdpowervalues.com/article/market-a...       June  2022   \n",
       "3   https://www.jdpowervalues.com/article/early-fe...   February  2022   \n",
       "4   https://www.jdpowervalues.com/article/more-ret...   February  2021   \n",
       "5   https://www.jdpowervalues.com/article/summer-c...  September  2021   \n",
       "6   https://www.jdpowervalues.com/article/uncertai...      March  2023   \n",
       "7   https://www.jdpowervalues.com/article/december...   December  2022   \n",
       "8   https://www.jdpowervalues.com/article/2021-was...    January  2022   \n",
       "9   https://www.jdpowervalues.com/article/class-8-...      March  2022   \n",
       "10  https://www.jdpowervalues.com/article/class-8-...   November  2020   \n",
       "11  https://www.jdpowervalues.com/article/class-8-...   December  2020   \n",
       "\n",
       "   Dorking Links  \n",
       "0           None  \n",
       "1           None  \n",
       "2           None  \n",
       "3           None  \n",
       "4           None  \n",
       "5           None  \n",
       "6           None  \n",
       "7           None  \n",
       "8           None  \n",
       "9           None  \n",
       "10          None  \n",
       "11          None  "
      ]
     },
     "execution_count": 33,
     "metadata": {},
     "output_type": "execute_result"
    }
   ],
   "source": [
    "links_available['Dorking Links'] = None  # Initialize the new column with None or any default value\n",
    "links_available"
   ]
  },
  {
   "cell_type": "code",
   "execution_count": 34,
   "metadata": {},
   "outputs": [
    {
     "data": {
      "application/vnd.microsoft.datawrangler.viewer.v0+json": {
       "columns": [
        {
         "name": "index",
         "rawType": "int64",
         "type": "integer"
        },
        {
         "name": "title",
         "rawType": "object",
         "type": "string"
        },
        {
         "name": "link",
         "rawType": "object",
         "type": "string"
        },
        {
         "name": "page",
         "rawType": "int64",
         "type": "integer"
        },
        {
         "name": "month",
         "rawType": "object",
         "type": "string"
        },
        {
         "name": "year",
         "rawType": "int64",
         "type": "integer"
        }
       ],
       "conversionMethod": "pd.DataFrame",
       "ref": "44a62160-ee2a-4c1a-83c4-d97c75de3de2",
       "rows": [
        [
         "0",
         "COMMERCIAL TRUCK GUIDELINES",
         "https://discover.jdpa.com/hubfs/Files/Industry%20Campaigns/Valuation%20Services/12.2021_Commercial%20Truck%20Guidelines.pdf",
         "1",
         "Dec",
         "2021"
        ],
        [
         "1",
         "COMMERCIAL TRUCK GUIDELINES",
         "https://discover.jdpa.com/hubfs/Files/Industry%20Campaigns/Valuation%20Services/04.2021_Commercial%20Truck%20Guidelines.pdf",
         "1",
         "Apr",
         "2021"
        ],
        [
         "2",
         "COMMERCIAL TRUCK GUIDELINES",
         "https://discover.jdpa.com/hubfs/Files/Industry%20Campaigns/Valuation%20Services/06.2020_Commercial%20Truck%20Guidelines.pdf",
         "1",
         "Jun",
         "2020"
        ],
        [
         "3",
         "COMMERCIAL TRUCK GUIDELINES",
         "https://discover.jdpa.com/hubfs/Files/Industry%20Campaigns/Valuation%20Services/09.2020_Commercial%20Truck%20Guidelines.pdf",
         "1",
         "Sep",
         "2020"
        ],
        [
         "4",
         "COMMERCIAL TRUCK GUIDELINES",
         "https://discover.jdpa.com/hubfs/Files/Industry%20Campaigns/Valuation%20Services/10.2021_Commercial%20Truck%20Guidelines.pdf",
         "1",
         "Oct",
         "2021"
        ],
        [
         "5",
         "COMMERCIAL TRUCK GUIDELINES",
         "https://discover.jdpa.com/hubfs/Files/Industry%20Campaigns/Valuation%20Services/02.2021_Commercial%20Truck%20Guidelines.pdf",
         "1",
         "Feb",
         "2021"
        ],
        [
         "6",
         "COMMERCIAL TRUCK GUIDELINES",
         "https://discover.jdpa.com/hubfs/Files/Industry%20Campaigns/Valuation%20Services/01.2021_Commercial%20Truck%20Guidelines.pdf",
         "1",
         "Jan",
         "2021"
        ],
        [
         "7",
         "COMMERCIAL TRUCK GUIDELINES",
         "https://discover.jdpa.com/hubfs/Files/Industry%20Campaigns/Valuation%20Services/07.2020_Commercial%20Truck%20Guidelines.pdf",
         "1",
         "Jul",
         "2020"
        ],
        [
         "8",
         "COMMERCIAL TRUCK GUIDELINES",
         "https://discover.jdpa.com/hubfs/Files/Industry%20Campaigns/Valuation%20Services/11.2021_Commercial%20Truck%20Guidelines.pdf",
         "1",
         "Nov",
         "2021"
        ],
        [
         "9",
         "COMMERCIAL TRUCK GUIDELINES",
         "https://discover.jdpa.com/hubfs/Files/Industry%20Campaigns/Valuation%20Services/09.2021_Commercial%20Truck%20Guidelines.pdf",
         "2",
         "Sep",
         "2021"
        ],
        [
         "10",
         "COMMERCIAL TRUCK GUIDELINES",
         "https://discover.jdpa.com/hubfs/Files/Industry%20Campaigns/Valuation%20Services/08.2021_Commercial%20Truck%20Guidelines.pdf",
         "2",
         "Aug",
         "2021"
        ],
        [
         "11",
         "COMMERCIAL TRUCK GUIDELINES",
         "https://discover.jdpa.com/hubfs/Files/Industry%20Campaigns/Valuation%20Services/07.2021_Commercial%20Truck%20Guidelines.pdf",
         "2",
         "Jul",
         "2021"
        ],
        [
         "12",
         "COMMERCIAL TRUCK GUIDELINES",
         "https://discover.jdpa.com/hubfs/Files/Industry%20Campaigns/Valuation%20Services/06.2021_Commercial%20Truck%20Guidelines.pdf?utm_campaign=2019%20VS%20Guidelines&utm_medium=email&_hsmi=134004880&_hsenc=p2ANqtz-8cHMwux7WMWNIUF4xYyNS7gWckGESRPhwgOnRRosIk_bgOZ87srCwPG2pFCbqH4ruszUdEfbAy_e14JinWF4tMC9Vy8N1AL48cBucvahJY6QzymyQ&utm_content=134004880&utm_source=hs_email",
         "2",
         "Jun",
         "2021"
        ],
        [
         "13",
         "COMMERCIAL TRUCK GUIDELINES",
         "https://discover.jdpa.com/hubfs/Files/Industry%20Campaigns/Valuation%20Services/03.2021_Commercial%20Truck%20Guidelines.pdf",
         "2",
         "Mar",
         "2021"
        ],
        [
         "14",
         "COMMERCIAL TRUCK GUIDELINES",
         "https://discover.jdpa.com/hubfs/Files/Industry%20Campaigns/Valuation%20Services/01.2022_Commercial%20Truck%20Guidelines.pdf",
         "2",
         "Jan",
         "2022"
        ],
        [
         "15",
         "COMMERCIAL TRUCK GUIDELINES",
         "https://discover.jdpa.com/hubfs/Files/Industry%20Campaigns/Valuation%20Services/08.2020_Commercial%20Truck%20Guidelines.pdf",
         "2",
         "Aug",
         "2020"
        ],
        [
         "16",
         "COMMERCIAL TRUCK GUIDELINES",
         "https://discover.jdpa.com/hubfs/Files/Industry%20Campaigns/Valuation%20Services/05.2021_Commercial%20Truck%20Guidelines.pdf",
         "2",
         "May",
         "2021"
        ],
        [
         "17",
         "COMMERCIAL TRUCK GUIDELINES",
         "https://discover.jdpa.com/hubfs/Files/Industry%20Campaigns/Valuation%20Services/10.2020_Commercial%20Truck%20Guidelines.pdf",
         "2",
         "Oct",
         "2020"
        ],
        [
         "18",
         "COMMERCIAL TRUCK GUIDELINES",
         "https://discover.jdpa.com/hubfs/Files/Industry%20Campaigns/Valuation%20Services/05.2020_Commercial%20Truck%20Guidelines.pdf",
         "2",
         "May",
         "2020"
        ]
       ],
       "shape": {
        "columns": 5,
        "rows": 19
       }
      },
      "text/html": [
       "<div>\n",
       "<style scoped>\n",
       "    .dataframe tbody tr th:only-of-type {\n",
       "        vertical-align: middle;\n",
       "    }\n",
       "\n",
       "    .dataframe tbody tr th {\n",
       "        vertical-align: top;\n",
       "    }\n",
       "\n",
       "    .dataframe thead th {\n",
       "        text-align: right;\n",
       "    }\n",
       "</style>\n",
       "<table border=\"1\" class=\"dataframe\">\n",
       "  <thead>\n",
       "    <tr style=\"text-align: right;\">\n",
       "      <th></th>\n",
       "      <th>title</th>\n",
       "      <th>link</th>\n",
       "      <th>page</th>\n",
       "      <th>month</th>\n",
       "      <th>year</th>\n",
       "    </tr>\n",
       "  </thead>\n",
       "  <tbody>\n",
       "    <tr>\n",
       "      <th>0</th>\n",
       "      <td>COMMERCIAL TRUCK GUIDELINES</td>\n",
       "      <td>https://discover.jdpa.com/hubfs/Files/Industry...</td>\n",
       "      <td>1</td>\n",
       "      <td>Dec</td>\n",
       "      <td>2021</td>\n",
       "    </tr>\n",
       "    <tr>\n",
       "      <th>1</th>\n",
       "      <td>COMMERCIAL TRUCK GUIDELINES</td>\n",
       "      <td>https://discover.jdpa.com/hubfs/Files/Industry...</td>\n",
       "      <td>1</td>\n",
       "      <td>Apr</td>\n",
       "      <td>2021</td>\n",
       "    </tr>\n",
       "    <tr>\n",
       "      <th>2</th>\n",
       "      <td>COMMERCIAL TRUCK GUIDELINES</td>\n",
       "      <td>https://discover.jdpa.com/hubfs/Files/Industry...</td>\n",
       "      <td>1</td>\n",
       "      <td>Jun</td>\n",
       "      <td>2020</td>\n",
       "    </tr>\n",
       "    <tr>\n",
       "      <th>3</th>\n",
       "      <td>COMMERCIAL TRUCK GUIDELINES</td>\n",
       "      <td>https://discover.jdpa.com/hubfs/Files/Industry...</td>\n",
       "      <td>1</td>\n",
       "      <td>Sep</td>\n",
       "      <td>2020</td>\n",
       "    </tr>\n",
       "    <tr>\n",
       "      <th>4</th>\n",
       "      <td>COMMERCIAL TRUCK GUIDELINES</td>\n",
       "      <td>https://discover.jdpa.com/hubfs/Files/Industry...</td>\n",
       "      <td>1</td>\n",
       "      <td>Oct</td>\n",
       "      <td>2021</td>\n",
       "    </tr>\n",
       "    <tr>\n",
       "      <th>5</th>\n",
       "      <td>COMMERCIAL TRUCK GUIDELINES</td>\n",
       "      <td>https://discover.jdpa.com/hubfs/Files/Industry...</td>\n",
       "      <td>1</td>\n",
       "      <td>Feb</td>\n",
       "      <td>2021</td>\n",
       "    </tr>\n",
       "    <tr>\n",
       "      <th>6</th>\n",
       "      <td>COMMERCIAL TRUCK GUIDELINES</td>\n",
       "      <td>https://discover.jdpa.com/hubfs/Files/Industry...</td>\n",
       "      <td>1</td>\n",
       "      <td>Jan</td>\n",
       "      <td>2021</td>\n",
       "    </tr>\n",
       "    <tr>\n",
       "      <th>7</th>\n",
       "      <td>COMMERCIAL TRUCK GUIDELINES</td>\n",
       "      <td>https://discover.jdpa.com/hubfs/Files/Industry...</td>\n",
       "      <td>1</td>\n",
       "      <td>Jul</td>\n",
       "      <td>2020</td>\n",
       "    </tr>\n",
       "    <tr>\n",
       "      <th>8</th>\n",
       "      <td>COMMERCIAL TRUCK GUIDELINES</td>\n",
       "      <td>https://discover.jdpa.com/hubfs/Files/Industry...</td>\n",
       "      <td>1</td>\n",
       "      <td>Nov</td>\n",
       "      <td>2021</td>\n",
       "    </tr>\n",
       "    <tr>\n",
       "      <th>9</th>\n",
       "      <td>COMMERCIAL TRUCK GUIDELINES</td>\n",
       "      <td>https://discover.jdpa.com/hubfs/Files/Industry...</td>\n",
       "      <td>2</td>\n",
       "      <td>Sep</td>\n",
       "      <td>2021</td>\n",
       "    </tr>\n",
       "    <tr>\n",
       "      <th>10</th>\n",
       "      <td>COMMERCIAL TRUCK GUIDELINES</td>\n",
       "      <td>https://discover.jdpa.com/hubfs/Files/Industry...</td>\n",
       "      <td>2</td>\n",
       "      <td>Aug</td>\n",
       "      <td>2021</td>\n",
       "    </tr>\n",
       "    <tr>\n",
       "      <th>11</th>\n",
       "      <td>COMMERCIAL TRUCK GUIDELINES</td>\n",
       "      <td>https://discover.jdpa.com/hubfs/Files/Industry...</td>\n",
       "      <td>2</td>\n",
       "      <td>Jul</td>\n",
       "      <td>2021</td>\n",
       "    </tr>\n",
       "    <tr>\n",
       "      <th>12</th>\n",
       "      <td>COMMERCIAL TRUCK GUIDELINES</td>\n",
       "      <td>https://discover.jdpa.com/hubfs/Files/Industry...</td>\n",
       "      <td>2</td>\n",
       "      <td>Jun</td>\n",
       "      <td>2021</td>\n",
       "    </tr>\n",
       "    <tr>\n",
       "      <th>13</th>\n",
       "      <td>COMMERCIAL TRUCK GUIDELINES</td>\n",
       "      <td>https://discover.jdpa.com/hubfs/Files/Industry...</td>\n",
       "      <td>2</td>\n",
       "      <td>Mar</td>\n",
       "      <td>2021</td>\n",
       "    </tr>\n",
       "    <tr>\n",
       "      <th>14</th>\n",
       "      <td>COMMERCIAL TRUCK GUIDELINES</td>\n",
       "      <td>https://discover.jdpa.com/hubfs/Files/Industry...</td>\n",
       "      <td>2</td>\n",
       "      <td>Jan</td>\n",
       "      <td>2022</td>\n",
       "    </tr>\n",
       "    <tr>\n",
       "      <th>15</th>\n",
       "      <td>COMMERCIAL TRUCK GUIDELINES</td>\n",
       "      <td>https://discover.jdpa.com/hubfs/Files/Industry...</td>\n",
       "      <td>2</td>\n",
       "      <td>Aug</td>\n",
       "      <td>2020</td>\n",
       "    </tr>\n",
       "    <tr>\n",
       "      <th>16</th>\n",
       "      <td>COMMERCIAL TRUCK GUIDELINES</td>\n",
       "      <td>https://discover.jdpa.com/hubfs/Files/Industry...</td>\n",
       "      <td>2</td>\n",
       "      <td>May</td>\n",
       "      <td>2021</td>\n",
       "    </tr>\n",
       "    <tr>\n",
       "      <th>17</th>\n",
       "      <td>COMMERCIAL TRUCK GUIDELINES</td>\n",
       "      <td>https://discover.jdpa.com/hubfs/Files/Industry...</td>\n",
       "      <td>2</td>\n",
       "      <td>Oct</td>\n",
       "      <td>2020</td>\n",
       "    </tr>\n",
       "    <tr>\n",
       "      <th>18</th>\n",
       "      <td>COMMERCIAL TRUCK GUIDELINES</td>\n",
       "      <td>https://discover.jdpa.com/hubfs/Files/Industry...</td>\n",
       "      <td>2</td>\n",
       "      <td>May</td>\n",
       "      <td>2020</td>\n",
       "    </tr>\n",
       "  </tbody>\n",
       "</table>\n",
       "</div>"
      ],
      "text/plain": [
       "                          title  \\\n",
       "0   COMMERCIAL TRUCK GUIDELINES   \n",
       "1   COMMERCIAL TRUCK GUIDELINES   \n",
       "2   COMMERCIAL TRUCK GUIDELINES   \n",
       "3   COMMERCIAL TRUCK GUIDELINES   \n",
       "4   COMMERCIAL TRUCK GUIDELINES   \n",
       "5   COMMERCIAL TRUCK GUIDELINES   \n",
       "6   COMMERCIAL TRUCK GUIDELINES   \n",
       "7   COMMERCIAL TRUCK GUIDELINES   \n",
       "8   COMMERCIAL TRUCK GUIDELINES   \n",
       "9   COMMERCIAL TRUCK GUIDELINES   \n",
       "10  COMMERCIAL TRUCK GUIDELINES   \n",
       "11  COMMERCIAL TRUCK GUIDELINES   \n",
       "12  COMMERCIAL TRUCK GUIDELINES   \n",
       "13  COMMERCIAL TRUCK GUIDELINES   \n",
       "14  COMMERCIAL TRUCK GUIDELINES   \n",
       "15  COMMERCIAL TRUCK GUIDELINES   \n",
       "16  COMMERCIAL TRUCK GUIDELINES   \n",
       "17  COMMERCIAL TRUCK GUIDELINES   \n",
       "18  COMMERCIAL TRUCK GUIDELINES   \n",
       "\n",
       "                                                 link  page month  year  \n",
       "0   https://discover.jdpa.com/hubfs/Files/Industry...     1   Dec  2021  \n",
       "1   https://discover.jdpa.com/hubfs/Files/Industry...     1   Apr  2021  \n",
       "2   https://discover.jdpa.com/hubfs/Files/Industry...     1   Jun  2020  \n",
       "3   https://discover.jdpa.com/hubfs/Files/Industry...     1   Sep  2020  \n",
       "4   https://discover.jdpa.com/hubfs/Files/Industry...     1   Oct  2021  \n",
       "5   https://discover.jdpa.com/hubfs/Files/Industry...     1   Feb  2021  \n",
       "6   https://discover.jdpa.com/hubfs/Files/Industry...     1   Jan  2021  \n",
       "7   https://discover.jdpa.com/hubfs/Files/Industry...     1   Jul  2020  \n",
       "8   https://discover.jdpa.com/hubfs/Files/Industry...     1   Nov  2021  \n",
       "9   https://discover.jdpa.com/hubfs/Files/Industry...     2   Sep  2021  \n",
       "10  https://discover.jdpa.com/hubfs/Files/Industry...     2   Aug  2021  \n",
       "11  https://discover.jdpa.com/hubfs/Files/Industry...     2   Jul  2021  \n",
       "12  https://discover.jdpa.com/hubfs/Files/Industry...     2   Jun  2021  \n",
       "13  https://discover.jdpa.com/hubfs/Files/Industry...     2   Mar  2021  \n",
       "14  https://discover.jdpa.com/hubfs/Files/Industry...     2   Jan  2022  \n",
       "15  https://discover.jdpa.com/hubfs/Files/Industry...     2   Aug  2020  \n",
       "16  https://discover.jdpa.com/hubfs/Files/Industry...     2   May  2021  \n",
       "17  https://discover.jdpa.com/hubfs/Files/Industry...     2   Oct  2020  \n",
       "18  https://discover.jdpa.com/hubfs/Files/Industry...     2   May  2020  "
      ]
     },
     "execution_count": 34,
     "metadata": {},
     "output_type": "execute_result"
    }
   ],
   "source": [
    "data_2 = pd.read_csv(r'C:\\Users\\clint\\Desktop\\Scraping Task\\2_1.csv')\n",
    "data_2"
   ]
  },
  {
   "cell_type": "code",
   "execution_count": 35,
   "metadata": {},
   "outputs": [
    {
     "data": {
      "application/vnd.microsoft.datawrangler.viewer.v0+json": {
       "columns": [
        {
         "name": "index",
         "rawType": "int64",
         "type": "integer"
        },
        {
         "name": "title",
         "rawType": "object",
         "type": "string"
        },
        {
         "name": "link",
         "rawType": "object",
         "type": "string"
        },
        {
         "name": "page",
         "rawType": "int64",
         "type": "integer"
        },
        {
         "name": "month",
         "rawType": "object",
         "type": "string"
        },
        {
         "name": "year",
         "rawType": "int64",
         "type": "integer"
        }
       ],
       "conversionMethod": "pd.DataFrame",
       "ref": "db214b29-f507-4936-a8ae-a80f677c07b1",
       "rows": [
        [
         "0",
         "COMMERCIAL TRUCK GUIDELINES",
         "https://cdn2.hubspot.net/hubfs/4239280/Files/Industry%20Campaigns/Valuation%20Services/07.2019_Commercial%20Truck%20GuidelinesPDF.pdf",
         "1",
         "Jul",
         "2019"
        ],
        [
         "1",
         "COMMERCIAL TRUCK GUIDELINES",
         "https://cdn2.hubspot.net/hubfs/4239280/Files/Industry%20Campaigns/Valuation%20Services/11.2019_Commercial%20Truck%20Guidelines.pdf",
         "1",
         "Nov",
         "2019"
        ],
        [
         "2",
         "COMMERCIAL TRUCK GUIDELINES",
         "https://cdn2.hubspot.net/hubfs/4239280/Files/Industry%20Campaigns/Valuation%20Services/04.2020_Commercial%20Truck%20Guidelines.pdf",
         "1",
         "Apr",
         "2020"
        ],
        [
         "3",
         "COMMERCIAL TRUCK GUIDELINES",
         "https://cdn2.hubspot.net/hubfs/4239280/03.2019_Commercial%20Truck%20Guidelines_CV.pdf",
         "1",
         "Mar",
         "2019"
        ],
        [
         "4",
         "COMMERCIAL TRUCK GUIDELINES",
         "https://cdn2.hubspot.net/hubfs/4239280/06.2019_Commercial%20Truck%20GuidelinesPDF.pdf",
         "1",
         "Jun",
         "2019"
        ],
        [
         "5",
         "COMMERCIAL TRUCK GUIDELINES",
         "https://cdn2.hubspot.net/hubfs/4239280/Files/Industry%20Campaigns/Valuation%20Services/10.2019_Commercial%20Truck%20Guidelines.pdf?utm_campaign=2019%20VS%20Guidelines&utm_source=hs_email&utm_medium=email&_hsenc=p2ANqtz-8Jp5gKYtR_SRp7qqJB1tSq1Lvqoeoh7WTLvCtocjSV7MANIIX0VZBvj7FiqagM7DRPDWhv",
         "1",
         "Oct",
         "2019"
        ],
        [
         "6",
         "COMMERCIAL TRUCK GUIDELINES",
         "https://cdn2.hubspot.net/hubfs/4239280/Files/Industry%20Campaigns/Valuation%20Services/04.2019_Commercial%20Truck%20Guidelines.pdf",
         "1",
         "Apr",
         "2019"
        ],
        [
         "7",
         "COMMERCIAL TRUCK GUIDELINES",
         "https://cdn2.hubspot.net/hubfs/4239280/Files/Industry%20Campaigns/Valuation%20Services/03.2020_Commercial%20Truck%20Guidelines.pdf",
         "1",
         "Mar",
         "2020"
        ],
        [
         "8",
         "COMMERCIAL TRUCK GUIDELINES",
         "https://cdn2.hubspot.net/hubfs/4239280/Files/Industry%20Campaigns/Valuation%20Services/08.2019_Commercial%20Truck%20Guidelines.pdf",
         "1",
         "Aug",
         "2019"
        ],
        [
         "9",
         "COMMERCIAL TRUCK GUIDELINES",
         "https://cdn2.hubspot.net/hubfs/4239280/Files/Industry%20Campaigns/Valuation%20Services/01.2020_Commercial%20Truck%20Guidelines.pdf",
         "2",
         "Jan",
         "2020"
        ],
        [
         "10",
         "COMMERCIAL TRUCK GUIDELINES",
         "https://cdn2.hubspot.net/hubfs/4239280/Files/Industry%20Campaigns/Valuation%20Services/05.2019_Commercial%20Truck%20Guidelines.pdf",
         "2",
         "May",
         "2019"
        ],
        [
         "11",
         "COMMERCIAL TRUCK GUIDELINES",
         "https://cdn2.hubspot.net/hubfs/4239280/Files/Industry%20Campaigns/Valuation%20Services/12.2019_Commercial%20Truck%20Guidelines.pdf",
         "2",
         "Dec",
         "2019"
        ],
        [
         "12",
         "COMMERCIAL TRUCK GUIDELINES",
         "https://cdn2.hubspot.net/hubfs/4239280/Files/Industry%20Campaigns/Valuation%20Services/02.2020_Commercial%20Truck%20Guidelines.pdf",
         "2",
         "Feb",
         "2020"
        ]
       ],
       "shape": {
        "columns": 5,
        "rows": 13
       }
      },
      "text/html": [
       "<div>\n",
       "<style scoped>\n",
       "    .dataframe tbody tr th:only-of-type {\n",
       "        vertical-align: middle;\n",
       "    }\n",
       "\n",
       "    .dataframe tbody tr th {\n",
       "        vertical-align: top;\n",
       "    }\n",
       "\n",
       "    .dataframe thead th {\n",
       "        text-align: right;\n",
       "    }\n",
       "</style>\n",
       "<table border=\"1\" class=\"dataframe\">\n",
       "  <thead>\n",
       "    <tr style=\"text-align: right;\">\n",
       "      <th></th>\n",
       "      <th>title</th>\n",
       "      <th>link</th>\n",
       "      <th>page</th>\n",
       "      <th>month</th>\n",
       "      <th>year</th>\n",
       "    </tr>\n",
       "  </thead>\n",
       "  <tbody>\n",
       "    <tr>\n",
       "      <th>0</th>\n",
       "      <td>COMMERCIAL TRUCK GUIDELINES</td>\n",
       "      <td>https://cdn2.hubspot.net/hubfs/4239280/Files/I...</td>\n",
       "      <td>1</td>\n",
       "      <td>Jul</td>\n",
       "      <td>2019</td>\n",
       "    </tr>\n",
       "    <tr>\n",
       "      <th>1</th>\n",
       "      <td>COMMERCIAL TRUCK GUIDELINES</td>\n",
       "      <td>https://cdn2.hubspot.net/hubfs/4239280/Files/I...</td>\n",
       "      <td>1</td>\n",
       "      <td>Nov</td>\n",
       "      <td>2019</td>\n",
       "    </tr>\n",
       "    <tr>\n",
       "      <th>2</th>\n",
       "      <td>COMMERCIAL TRUCK GUIDELINES</td>\n",
       "      <td>https://cdn2.hubspot.net/hubfs/4239280/Files/I...</td>\n",
       "      <td>1</td>\n",
       "      <td>Apr</td>\n",
       "      <td>2020</td>\n",
       "    </tr>\n",
       "    <tr>\n",
       "      <th>3</th>\n",
       "      <td>COMMERCIAL TRUCK GUIDELINES</td>\n",
       "      <td>https://cdn2.hubspot.net/hubfs/4239280/03.2019...</td>\n",
       "      <td>1</td>\n",
       "      <td>Mar</td>\n",
       "      <td>2019</td>\n",
       "    </tr>\n",
       "    <tr>\n",
       "      <th>4</th>\n",
       "      <td>COMMERCIAL TRUCK GUIDELINES</td>\n",
       "      <td>https://cdn2.hubspot.net/hubfs/4239280/06.2019...</td>\n",
       "      <td>1</td>\n",
       "      <td>Jun</td>\n",
       "      <td>2019</td>\n",
       "    </tr>\n",
       "    <tr>\n",
       "      <th>5</th>\n",
       "      <td>COMMERCIAL TRUCK GUIDELINES</td>\n",
       "      <td>https://cdn2.hubspot.net/hubfs/4239280/Files/I...</td>\n",
       "      <td>1</td>\n",
       "      <td>Oct</td>\n",
       "      <td>2019</td>\n",
       "    </tr>\n",
       "    <tr>\n",
       "      <th>6</th>\n",
       "      <td>COMMERCIAL TRUCK GUIDELINES</td>\n",
       "      <td>https://cdn2.hubspot.net/hubfs/4239280/Files/I...</td>\n",
       "      <td>1</td>\n",
       "      <td>Apr</td>\n",
       "      <td>2019</td>\n",
       "    </tr>\n",
       "    <tr>\n",
       "      <th>7</th>\n",
       "      <td>COMMERCIAL TRUCK GUIDELINES</td>\n",
       "      <td>https://cdn2.hubspot.net/hubfs/4239280/Files/I...</td>\n",
       "      <td>1</td>\n",
       "      <td>Mar</td>\n",
       "      <td>2020</td>\n",
       "    </tr>\n",
       "    <tr>\n",
       "      <th>8</th>\n",
       "      <td>COMMERCIAL TRUCK GUIDELINES</td>\n",
       "      <td>https://cdn2.hubspot.net/hubfs/4239280/Files/I...</td>\n",
       "      <td>1</td>\n",
       "      <td>Aug</td>\n",
       "      <td>2019</td>\n",
       "    </tr>\n",
       "    <tr>\n",
       "      <th>9</th>\n",
       "      <td>COMMERCIAL TRUCK GUIDELINES</td>\n",
       "      <td>https://cdn2.hubspot.net/hubfs/4239280/Files/I...</td>\n",
       "      <td>2</td>\n",
       "      <td>Jan</td>\n",
       "      <td>2020</td>\n",
       "    </tr>\n",
       "    <tr>\n",
       "      <th>10</th>\n",
       "      <td>COMMERCIAL TRUCK GUIDELINES</td>\n",
       "      <td>https://cdn2.hubspot.net/hubfs/4239280/Files/I...</td>\n",
       "      <td>2</td>\n",
       "      <td>May</td>\n",
       "      <td>2019</td>\n",
       "    </tr>\n",
       "    <tr>\n",
       "      <th>11</th>\n",
       "      <td>COMMERCIAL TRUCK GUIDELINES</td>\n",
       "      <td>https://cdn2.hubspot.net/hubfs/4239280/Files/I...</td>\n",
       "      <td>2</td>\n",
       "      <td>Dec</td>\n",
       "      <td>2019</td>\n",
       "    </tr>\n",
       "    <tr>\n",
       "      <th>12</th>\n",
       "      <td>COMMERCIAL TRUCK GUIDELINES</td>\n",
       "      <td>https://cdn2.hubspot.net/hubfs/4239280/Files/I...</td>\n",
       "      <td>2</td>\n",
       "      <td>Feb</td>\n",
       "      <td>2020</td>\n",
       "    </tr>\n",
       "  </tbody>\n",
       "</table>\n",
       "</div>"
      ],
      "text/plain": [
       "                          title  \\\n",
       "0   COMMERCIAL TRUCK GUIDELINES   \n",
       "1   COMMERCIAL TRUCK GUIDELINES   \n",
       "2   COMMERCIAL TRUCK GUIDELINES   \n",
       "3   COMMERCIAL TRUCK GUIDELINES   \n",
       "4   COMMERCIAL TRUCK GUIDELINES   \n",
       "5   COMMERCIAL TRUCK GUIDELINES   \n",
       "6   COMMERCIAL TRUCK GUIDELINES   \n",
       "7   COMMERCIAL TRUCK GUIDELINES   \n",
       "8   COMMERCIAL TRUCK GUIDELINES   \n",
       "9   COMMERCIAL TRUCK GUIDELINES   \n",
       "10  COMMERCIAL TRUCK GUIDELINES   \n",
       "11  COMMERCIAL TRUCK GUIDELINES   \n",
       "12  COMMERCIAL TRUCK GUIDELINES   \n",
       "\n",
       "                                                 link  page month  year  \n",
       "0   https://cdn2.hubspot.net/hubfs/4239280/Files/I...     1   Jul  2019  \n",
       "1   https://cdn2.hubspot.net/hubfs/4239280/Files/I...     1   Nov  2019  \n",
       "2   https://cdn2.hubspot.net/hubfs/4239280/Files/I...     1   Apr  2020  \n",
       "3   https://cdn2.hubspot.net/hubfs/4239280/03.2019...     1   Mar  2019  \n",
       "4   https://cdn2.hubspot.net/hubfs/4239280/06.2019...     1   Jun  2019  \n",
       "5   https://cdn2.hubspot.net/hubfs/4239280/Files/I...     1   Oct  2019  \n",
       "6   https://cdn2.hubspot.net/hubfs/4239280/Files/I...     1   Apr  2019  \n",
       "7   https://cdn2.hubspot.net/hubfs/4239280/Files/I...     1   Mar  2020  \n",
       "8   https://cdn2.hubspot.net/hubfs/4239280/Files/I...     1   Aug  2019  \n",
       "9   https://cdn2.hubspot.net/hubfs/4239280/Files/I...     2   Jan  2020  \n",
       "10  https://cdn2.hubspot.net/hubfs/4239280/Files/I...     2   May  2019  \n",
       "11  https://cdn2.hubspot.net/hubfs/4239280/Files/I...     2   Dec  2019  \n",
       "12  https://cdn2.hubspot.net/hubfs/4239280/Files/I...     2   Feb  2020  "
      ]
     },
     "execution_count": 35,
     "metadata": {},
     "output_type": "execute_result"
    }
   ],
   "source": [
    "data_3= pd.read_csv(r'C:\\Users\\clint\\Desktop\\Scraping Task\\2_2.csv')\n",
    "data_3"
   ]
  },
  {
   "cell_type": "markdown",
   "metadata": {},
   "source": [
    "first link stops at march 2023"
   ]
  },
  {
   "cell_type": "code",
   "execution_count": 36,
   "metadata": {},
   "outputs": [
    {
     "data": {
      "application/vnd.microsoft.datawrangler.viewer.v0+json": {
       "columns": [
        {
         "name": "index",
         "rawType": "int64",
         "type": "integer"
        },
        {
         "name": "title",
         "rawType": "object",
         "type": "string"
        },
        {
         "name": "link",
         "rawType": "object",
         "type": "string"
        },
        {
         "name": "page",
         "rawType": "int64",
         "type": "integer"
        },
        {
         "name": "month",
         "rawType": "object",
         "type": "string"
        },
        {
         "name": "year",
         "rawType": "int64",
         "type": "integer"
        }
       ],
       "conversionMethod": "pd.DataFrame",
       "ref": "86979754-3bfa-42b6-b094-fb1c3aaf7ff9",
       "rows": [
        [
         "0",
         "COMMERCIAL VEHICLE GUIDELINES",
         "https://discover.jdpa.com/hubfs/Files/Industry%20Campaigns/Valuation%20Services/6.2024_CommercialVehicleGuidelines_Final.pdf",
         "1",
         "Jun",
         "2024"
        ],
        [
         "1",
         "COMMERCIAL VEHICLE GUIDELINES",
         "https://discover.jdpa.com/hubfs/Files/Industry%20Campaigns/Valuation%20Services/5.2024_CommercialVehicleGuidelines.pdf",
         "1",
         "May",
         "2024"
        ],
        [
         "2",
         "COMMERCIAL VEHICLE GUIDELINES",
         "https://discover.jdpa.com/hubfs/Files/Industry%20Campaigns/Valuation%20Services/9.2024_CommercialVehicleGuidelines_Final.pdf",
         "1",
         "Sep",
         "2024"
        ],
        [
         "3",
         "COMMERCIAL VEHICLE GUIDELINES",
         "https://discover.jdpa.com/hubfs/Files/Industry%20Campaigns/Valuation%20Services/8.2024_CommercialVehicleGuidelines_Final%5B58%5D.pdf",
         "1",
         "Aug",
         "2024"
        ],
        [
         "4",
         "COMMERCIAL VEHICLE GUIDELINES",
         "https://discover.jdpa.com/hubfs/Files/Industry%20Campaigns/Valuation%20Services/03.2025_CommercialVehicleGuidelines_Final.pdf?utm_campaign=8721805-2025%20Commercial%20Truck%20Guidelines&utm_medium=email&_hsenc=p2ANqtz-8c2Fl70nw4EiCV-cmujTdou1A7pm8N8JemGI1MdJbdGf77Jcdtrmi7x6fXo4kuxGVU7i0_kDGaizj_CmoH_Q3sgaxH_gKQdWxEjp-q8JSJa-JxuTY&_hsmi=352733469&utm_content=352733469&utm_source=hs_email",
         "1",
         "Mar",
         "2025"
        ],
        [
         "5",
         "COMMERCIAL VEHICLE GUIDELINES",
         "https://discover.jdpa.com/hubfs/Files/Industry%20Campaigns/Valuation%20Services/3.2024_CommercialVehicleGuidelines.pdf",
         "1",
         "Mar",
         "2024"
        ],
        [
         "6",
         "COMMERCIAL VEHICLE GUIDELINES",
         "https://discover.jdpa.com/hubfs/Files/Industry%20Campaigns/Valuation%20Services/2.2024_CommercialVehicleGuidelines_Final.pdf",
         "1",
         "Feb",
         "2024"
        ],
        [
         "7",
         "COMMERCIAL VEHICLE GUIDELINES",
         "https://discover.jdpa.com/hubfs/Files/Industry%20Campaigns/Valuation%20Services/4.2024_CTG.pdf?utm_campaign=2019%20VS%20Guidelines&utm_medium=email&_hsenc=p2ANqtz-9AugqMEa29OBfzNlkqDGGA-GlLw9AXfYHciXLAoXKQn2_IEarg6fh8hofq8MyhFXCBNzMu7XxHNvMPbLA_whyXxHK_ddBkjCC3Onxu5nMyCoBN_dg&_hsmi=303267202&utm_content=303267202&utm_source=hs_email",
         "1",
         "Apr",
         "2024"
        ],
        [
         "8",
         "COMMERCIAL VEHICLE GUIDELINES",
         "https://discover.jdpa.com/hubfs/Files/Industry%20Campaigns/Valuation%20Services/01.2025_CommercialVehicleGuidelines_Final.pdf?utm_campaign=2019%20VS%20Guidelines&utm_medium=email&_hsenc=p2ANqtz-_riDLklQplKNV_XpBVG_GS1o59-iyIV4Pf5VFdPMRtKGUHzvf0VOhxsF_dzoK8BDC8DfkzzLKBv2YNMUNMVF--vaBCva82DC818rB_5XlGW5MEb9A&_hsmi=343560064&utm_content=343560064&utm_source=hs_email",
         "1",
         "Jan",
         "2025"
        ],
        [
         "9",
         "COMMERCIAL VEHICLE GUIDELINES",
         "https://discover.jdpa.com/hubfs/Files/Industry%20Campaigns/Valuation%20Services/7.2024_CommercialVehicleGuidelines.pdf",
         "1",
         "Jul",
         "2024"
        ],
        [
         "10",
         "COMMERCIAL VEHICLE GUIDELINES",
         "https://discover.jdpa.com/hubfs/Files/Industry%20Campaigns/Valuation%20Services/1.2024_CommercialVehicleGuidelines_Final.pdf",
         "2",
         "Jan",
         "2024"
        ],
        [
         "11",
         "COMMERCIAL VEHICLE GUIDELINES",
         "https://discover.jdpa.com/hubfs/Files/Industry%20Campaigns/Valuation%20Services/12.2023_CommercialVehicleGuidelines_Final.pdf?utm_campaign=2019%20VS%20Guidelines&utm_medium=email&_hsmi=287362563&_hsenc=p2ANqtz-92SRCvm6TTcD3cqc9Hfk_PRVkFaHNAA0vuP14jC_lC2qK80R8TzPiOutrx9cYEELpTMPX4BUKy-74y2CTZDLWk4zMtF04bMJXmC88woakFd6mmjK0&utm_content=287362563&utm_source=hs_email",
         "2",
         "Dec",
         "2023"
        ],
        [
         "12",
         "COMMERCIAL VEHICLE GUIDELINES",
         "https://discover.jdpa.com/hubfs/Files/Industry%20Campaigns/Valuation%20Services/07.2023_CommercialVehicleGuidelines_Final.pdf",
         "2",
         "Jul",
         "2023"
        ],
        [
         "13",
         "COMMERCIAL VEHICLE GUIDELINES",
         "https://discover.jdpa.com/hubfs/Files/Industry%20Campaigns/Valuation%20Services/08.2023_CommercialVehicleGuidelines_Final.pdf?utm_campaign=2019%20VS%20Guidelines&utm_medium=email&_hsmi=270578175&_hsenc=p2ANqtz-8phCAzPHbkWB0efFiyGd2Wj79l1d7GIOQUMFFgz78E2RHbgLfhRRY_wieEQat596eBHLJ-WTHhtiuxQsddN8DR_0YkDcVN9a2qYe38gbv45wMaMoA&utm_content=270578175&utm_source=hs_email",
         "2",
         "Aug",
         "2023"
        ],
        [
         "14",
         "COMMERCIAL VEHICLE GUIDELINES",
         "https://discover.jdpa.com/hubfs/Files/Industry%20Campaigns/Valuation%20Services/10.2023_CommercialVehicleGuidelines_Final.pdf",
         "2",
         "Oct",
         "2023"
        ],
        [
         "15",
         "COMMERCIAL VEHICLE GUIDELINES",
         "https://discover.jdpa.com/hubfs/Files/Industry%20Campaigns/Valuation%20Services/05.2022_CommercialVehicleGuidelines_FINAL.pdf",
         "2",
         "May",
         "2022"
        ],
        [
         "16",
         "COMMERCIAL VEHICLE GUIDELINES",
         "https://discover.jdpa.com/hubfs/Files/Industry%20Campaigns/Valuation%20Services/04.2023_CommercialVehicleGuidelines_FINAL.pdf",
         "2",
         "Apr",
         "2023"
        ],
        [
         "17",
         "COMMERCIAL VEHICLE GUIDELINES",
         "https://discover.jdpa.com/hubfs/Files/Industry%20Campaigns/Valuation%20Services/May_2023_CTG.pdf",
         "2",
         "May",
         "2023"
        ],
        [
         "18",
         "COMMERCIAL VEHICLE GUIDELINES",
         "https://discover.jdpa.com/hubfs/Files/Industry%20Campaigns/Valuation%20Services/04.2022_CommercialVehicleGuidelines.pdf?utm_campaign=2019%20VS%20Guidelines&utm_medium=email&_hsmi=210094862&_hsenc=p2ANqtz-9cdBmzBGs6mBwO_bWantP4GoCChAccNyN2X-JdvYJKFNMcfUpOeRZoFMXGusf1WpUOcOXqz2_leKxygPRZ-xlws99jgmFoX8KJzNM3XyPOpNKP7gM&utm_content=210094862&utm_source=hs_email",
         "2",
         "Apr",
         "2022"
        ],
        [
         "19",
         "COMMERCIAL VEHICLE GUIDELINES",
         "https://discover.jdpa.com/hubfs/Files/Industry%20Campaigns/Valuation%20Services/01.2023_CommercialVehicleGuidelines_FINAL.pdf",
         "2",
         "Jan",
         "2023"
        ],
        [
         "20",
         "COMMERCIAL VEHICLE GUIDELINES",
         "https://discover.jdpa.com/hubfs/Files/Industry%20Campaigns/Valuation%20Services/10.2022_CommercialVehicleGuidelines_Final.pdf?utm_campaign=2019%20VS%20Guidelines&utm_medium=email&_hsmi=230092238&_hsenc=p2ANqtz-8SbaqVMxcHLAyQLSVNfsXPnq424-z1azWV5XlnAfS6rhhmk5PIPJFCzRGyrmXA_67NMi-IPZ4T8m0YJi6gL7GetlED_dgyoqDlGDgrbsQt9DiLcjM&utm_content=230092861&utm_source=hs_email",
         "3",
         "Oct",
         "2022"
        ],
        [
         "21",
         "COMMERCIAL VEHICLE GUIDELINES",
         "https://discover.jdpa.com/hubfs/Files/Industry%20Campaigns/Valuation%20Services/06.2023_CommercialVehicleGuidelines_Final.pdf",
         "3",
         "Jun",
         "2023"
        ],
        [
         "22",
         "COMMERCIAL VEHICLE GUIDELINES",
         "https://discover.jdpa.com/hubfs/Files/Industry%20Campaigns/Valuation%20Services/02.2023_CommercialVehicleGuidelines_Final.pdf",
         "3",
         "Feb",
         "2023"
        ],
        [
         "23",
         "COMMERCIAL VEHICLE GUIDELINES",
         "https://discover.jdpa.com/hubfs/Files/Industry%20Campaigns/Valuation%20Services/11.2022_CommercialVehicleGuidelines_FINAL.pdf",
         "3",
         "Nov",
         "2022"
        ],
        [
         "24",
         "COMMERCIAL VEHICLE GUIDELINES",
         "https://discover.jdpa.com/hubfs/Files/Industry%20Campaigns/Valuation%20Services/12.2022_CommercialVehicleGuidelines_GE.pdf?utm_campaign=2019%20VS%20Guidelines&utm_medium=email&_hsmi=238156073&_hsenc=p2ANqtz-_kA-H5-_lG_zdimP4K7Mnw9kS-YdLS1v9EMPBciDjTJ5a1hlU8_u56YrN8MvKQqqPePK4aw659wQKa7Mzj57nNYqh78YJ8SoyAgh34fr56zNCzgQQ&utm_content=238156073&utm_source=hs_email",
         "3",
         "Dec",
         "2022"
        ],
        [
         "25",
         "COMMERCIAL VEHICLE GUIDELINES",
         "https://discover.jdpa.com/hubfs/Files/Industry%20Campaigns/Valuation%20Services/09.2022_CommercialVehicleGuidelines.pdf",
         "3",
         "Sep",
         "2022"
        ],
        [
         "26",
         "COMMERCIAL VEHICLE GUIDELINES",
         "https://discover.jdpa.com/hubfs/Files/Industry%20Campaigns/Valuation%20Services/01.2018_Commercial%20Truck_Guidelines.pdf",
         "3",
         "Jan",
         "2018"
        ],
        [
         "27",
         "COMMERCIAL VEHICLE GUIDELINES",
         "https://discover.jdpa.com/hubfs/Files/Industry%20Campaigns/Valuation%20Services/02.2022_CommercialVehicleGuidelines_FINAL.pdf",
         "3",
         "Feb",
         "2022"
        ],
        [
         "28",
         "COMMERCIAL VEHICLE GUIDELINES",
         "https://discover.jdpa.com/hubfs/Files/Industry%20Campaigns/Valuation%20Services/03.2023_CommercialVehicleGuidelines.pdf",
         "3",
         "Mar",
         "2023"
        ],
        [
         "29",
         "COMMERCIAL VEHICLE GUIDELINES",
         "https://discover.jdpa.com/hubfs/Files/Industry%20Campaigns/Valuation%20Services/03.2022_CommercialVehicleGuidelines_FINAL.pdf",
         "3",
         "Mar",
         "2022"
        ],
        [
         "30",
         "COMMERCIAL VEHICLE GUIDELINES",
         "https://discover.jdpa.com/hubfs/Files/Industry%20Campaigns/Valuation%20Services/07.2022_CommercialVehicleGuidelines_Final.pdf",
         "4",
         "Jul",
         "2022"
        ],
        [
         "31",
         "COMMERCIAL VEHICLE GUIDELINES",
         "https://discover.jdpa.com/hubfs/Files/Industry%20Campaigns/Valuation%20Services/08.2022_CommercialVehicleGuidelines.pdf",
         "4",
         "Aug",
         "2022"
        ]
       ],
       "shape": {
        "columns": 5,
        "rows": 32
       }
      },
      "text/html": [
       "<div>\n",
       "<style scoped>\n",
       "    .dataframe tbody tr th:only-of-type {\n",
       "        vertical-align: middle;\n",
       "    }\n",
       "\n",
       "    .dataframe tbody tr th {\n",
       "        vertical-align: top;\n",
       "    }\n",
       "\n",
       "    .dataframe thead th {\n",
       "        text-align: right;\n",
       "    }\n",
       "</style>\n",
       "<table border=\"1\" class=\"dataframe\">\n",
       "  <thead>\n",
       "    <tr style=\"text-align: right;\">\n",
       "      <th></th>\n",
       "      <th>title</th>\n",
       "      <th>link</th>\n",
       "      <th>page</th>\n",
       "      <th>month</th>\n",
       "      <th>year</th>\n",
       "    </tr>\n",
       "  </thead>\n",
       "  <tbody>\n",
       "    <tr>\n",
       "      <th>0</th>\n",
       "      <td>COMMERCIAL VEHICLE GUIDELINES</td>\n",
       "      <td>https://discover.jdpa.com/hubfs/Files/Industry...</td>\n",
       "      <td>1</td>\n",
       "      <td>Jun</td>\n",
       "      <td>2024</td>\n",
       "    </tr>\n",
       "    <tr>\n",
       "      <th>1</th>\n",
       "      <td>COMMERCIAL VEHICLE GUIDELINES</td>\n",
       "      <td>https://discover.jdpa.com/hubfs/Files/Industry...</td>\n",
       "      <td>1</td>\n",
       "      <td>May</td>\n",
       "      <td>2024</td>\n",
       "    </tr>\n",
       "    <tr>\n",
       "      <th>2</th>\n",
       "      <td>COMMERCIAL VEHICLE GUIDELINES</td>\n",
       "      <td>https://discover.jdpa.com/hubfs/Files/Industry...</td>\n",
       "      <td>1</td>\n",
       "      <td>Sep</td>\n",
       "      <td>2024</td>\n",
       "    </tr>\n",
       "    <tr>\n",
       "      <th>3</th>\n",
       "      <td>COMMERCIAL VEHICLE GUIDELINES</td>\n",
       "      <td>https://discover.jdpa.com/hubfs/Files/Industry...</td>\n",
       "      <td>1</td>\n",
       "      <td>Aug</td>\n",
       "      <td>2024</td>\n",
       "    </tr>\n",
       "    <tr>\n",
       "      <th>4</th>\n",
       "      <td>COMMERCIAL VEHICLE GUIDELINES</td>\n",
       "      <td>https://discover.jdpa.com/hubfs/Files/Industry...</td>\n",
       "      <td>1</td>\n",
       "      <td>Mar</td>\n",
       "      <td>2025</td>\n",
       "    </tr>\n",
       "    <tr>\n",
       "      <th>5</th>\n",
       "      <td>COMMERCIAL VEHICLE GUIDELINES</td>\n",
       "      <td>https://discover.jdpa.com/hubfs/Files/Industry...</td>\n",
       "      <td>1</td>\n",
       "      <td>Mar</td>\n",
       "      <td>2024</td>\n",
       "    </tr>\n",
       "    <tr>\n",
       "      <th>6</th>\n",
       "      <td>COMMERCIAL VEHICLE GUIDELINES</td>\n",
       "      <td>https://discover.jdpa.com/hubfs/Files/Industry...</td>\n",
       "      <td>1</td>\n",
       "      <td>Feb</td>\n",
       "      <td>2024</td>\n",
       "    </tr>\n",
       "    <tr>\n",
       "      <th>7</th>\n",
       "      <td>COMMERCIAL VEHICLE GUIDELINES</td>\n",
       "      <td>https://discover.jdpa.com/hubfs/Files/Industry...</td>\n",
       "      <td>1</td>\n",
       "      <td>Apr</td>\n",
       "      <td>2024</td>\n",
       "    </tr>\n",
       "    <tr>\n",
       "      <th>8</th>\n",
       "      <td>COMMERCIAL VEHICLE GUIDELINES</td>\n",
       "      <td>https://discover.jdpa.com/hubfs/Files/Industry...</td>\n",
       "      <td>1</td>\n",
       "      <td>Jan</td>\n",
       "      <td>2025</td>\n",
       "    </tr>\n",
       "    <tr>\n",
       "      <th>9</th>\n",
       "      <td>COMMERCIAL VEHICLE GUIDELINES</td>\n",
       "      <td>https://discover.jdpa.com/hubfs/Files/Industry...</td>\n",
       "      <td>1</td>\n",
       "      <td>Jul</td>\n",
       "      <td>2024</td>\n",
       "    </tr>\n",
       "    <tr>\n",
       "      <th>10</th>\n",
       "      <td>COMMERCIAL VEHICLE GUIDELINES</td>\n",
       "      <td>https://discover.jdpa.com/hubfs/Files/Industry...</td>\n",
       "      <td>2</td>\n",
       "      <td>Jan</td>\n",
       "      <td>2024</td>\n",
       "    </tr>\n",
       "    <tr>\n",
       "      <th>11</th>\n",
       "      <td>COMMERCIAL VEHICLE GUIDELINES</td>\n",
       "      <td>https://discover.jdpa.com/hubfs/Files/Industry...</td>\n",
       "      <td>2</td>\n",
       "      <td>Dec</td>\n",
       "      <td>2023</td>\n",
       "    </tr>\n",
       "    <tr>\n",
       "      <th>12</th>\n",
       "      <td>COMMERCIAL VEHICLE GUIDELINES</td>\n",
       "      <td>https://discover.jdpa.com/hubfs/Files/Industry...</td>\n",
       "      <td>2</td>\n",
       "      <td>Jul</td>\n",
       "      <td>2023</td>\n",
       "    </tr>\n",
       "    <tr>\n",
       "      <th>13</th>\n",
       "      <td>COMMERCIAL VEHICLE GUIDELINES</td>\n",
       "      <td>https://discover.jdpa.com/hubfs/Files/Industry...</td>\n",
       "      <td>2</td>\n",
       "      <td>Aug</td>\n",
       "      <td>2023</td>\n",
       "    </tr>\n",
       "    <tr>\n",
       "      <th>14</th>\n",
       "      <td>COMMERCIAL VEHICLE GUIDELINES</td>\n",
       "      <td>https://discover.jdpa.com/hubfs/Files/Industry...</td>\n",
       "      <td>2</td>\n",
       "      <td>Oct</td>\n",
       "      <td>2023</td>\n",
       "    </tr>\n",
       "    <tr>\n",
       "      <th>15</th>\n",
       "      <td>COMMERCIAL VEHICLE GUIDELINES</td>\n",
       "      <td>https://discover.jdpa.com/hubfs/Files/Industry...</td>\n",
       "      <td>2</td>\n",
       "      <td>May</td>\n",
       "      <td>2022</td>\n",
       "    </tr>\n",
       "    <tr>\n",
       "      <th>16</th>\n",
       "      <td>COMMERCIAL VEHICLE GUIDELINES</td>\n",
       "      <td>https://discover.jdpa.com/hubfs/Files/Industry...</td>\n",
       "      <td>2</td>\n",
       "      <td>Apr</td>\n",
       "      <td>2023</td>\n",
       "    </tr>\n",
       "    <tr>\n",
       "      <th>17</th>\n",
       "      <td>COMMERCIAL VEHICLE GUIDELINES</td>\n",
       "      <td>https://discover.jdpa.com/hubfs/Files/Industry...</td>\n",
       "      <td>2</td>\n",
       "      <td>May</td>\n",
       "      <td>2023</td>\n",
       "    </tr>\n",
       "    <tr>\n",
       "      <th>18</th>\n",
       "      <td>COMMERCIAL VEHICLE GUIDELINES</td>\n",
       "      <td>https://discover.jdpa.com/hubfs/Files/Industry...</td>\n",
       "      <td>2</td>\n",
       "      <td>Apr</td>\n",
       "      <td>2022</td>\n",
       "    </tr>\n",
       "    <tr>\n",
       "      <th>19</th>\n",
       "      <td>COMMERCIAL VEHICLE GUIDELINES</td>\n",
       "      <td>https://discover.jdpa.com/hubfs/Files/Industry...</td>\n",
       "      <td>2</td>\n",
       "      <td>Jan</td>\n",
       "      <td>2023</td>\n",
       "    </tr>\n",
       "    <tr>\n",
       "      <th>20</th>\n",
       "      <td>COMMERCIAL VEHICLE GUIDELINES</td>\n",
       "      <td>https://discover.jdpa.com/hubfs/Files/Industry...</td>\n",
       "      <td>3</td>\n",
       "      <td>Oct</td>\n",
       "      <td>2022</td>\n",
       "    </tr>\n",
       "    <tr>\n",
       "      <th>21</th>\n",
       "      <td>COMMERCIAL VEHICLE GUIDELINES</td>\n",
       "      <td>https://discover.jdpa.com/hubfs/Files/Industry...</td>\n",
       "      <td>3</td>\n",
       "      <td>Jun</td>\n",
       "      <td>2023</td>\n",
       "    </tr>\n",
       "    <tr>\n",
       "      <th>22</th>\n",
       "      <td>COMMERCIAL VEHICLE GUIDELINES</td>\n",
       "      <td>https://discover.jdpa.com/hubfs/Files/Industry...</td>\n",
       "      <td>3</td>\n",
       "      <td>Feb</td>\n",
       "      <td>2023</td>\n",
       "    </tr>\n",
       "    <tr>\n",
       "      <th>23</th>\n",
       "      <td>COMMERCIAL VEHICLE GUIDELINES</td>\n",
       "      <td>https://discover.jdpa.com/hubfs/Files/Industry...</td>\n",
       "      <td>3</td>\n",
       "      <td>Nov</td>\n",
       "      <td>2022</td>\n",
       "    </tr>\n",
       "    <tr>\n",
       "      <th>24</th>\n",
       "      <td>COMMERCIAL VEHICLE GUIDELINES</td>\n",
       "      <td>https://discover.jdpa.com/hubfs/Files/Industry...</td>\n",
       "      <td>3</td>\n",
       "      <td>Dec</td>\n",
       "      <td>2022</td>\n",
       "    </tr>\n",
       "    <tr>\n",
       "      <th>25</th>\n",
       "      <td>COMMERCIAL VEHICLE GUIDELINES</td>\n",
       "      <td>https://discover.jdpa.com/hubfs/Files/Industry...</td>\n",
       "      <td>3</td>\n",
       "      <td>Sep</td>\n",
       "      <td>2022</td>\n",
       "    </tr>\n",
       "    <tr>\n",
       "      <th>26</th>\n",
       "      <td>COMMERCIAL VEHICLE GUIDELINES</td>\n",
       "      <td>https://discover.jdpa.com/hubfs/Files/Industry...</td>\n",
       "      <td>3</td>\n",
       "      <td>Jan</td>\n",
       "      <td>2018</td>\n",
       "    </tr>\n",
       "    <tr>\n",
       "      <th>27</th>\n",
       "      <td>COMMERCIAL VEHICLE GUIDELINES</td>\n",
       "      <td>https://discover.jdpa.com/hubfs/Files/Industry...</td>\n",
       "      <td>3</td>\n",
       "      <td>Feb</td>\n",
       "      <td>2022</td>\n",
       "    </tr>\n",
       "    <tr>\n",
       "      <th>28</th>\n",
       "      <td>COMMERCIAL VEHICLE GUIDELINES</td>\n",
       "      <td>https://discover.jdpa.com/hubfs/Files/Industry...</td>\n",
       "      <td>3</td>\n",
       "      <td>Mar</td>\n",
       "      <td>2023</td>\n",
       "    </tr>\n",
       "    <tr>\n",
       "      <th>29</th>\n",
       "      <td>COMMERCIAL VEHICLE GUIDELINES</td>\n",
       "      <td>https://discover.jdpa.com/hubfs/Files/Industry...</td>\n",
       "      <td>3</td>\n",
       "      <td>Mar</td>\n",
       "      <td>2022</td>\n",
       "    </tr>\n",
       "    <tr>\n",
       "      <th>30</th>\n",
       "      <td>COMMERCIAL VEHICLE GUIDELINES</td>\n",
       "      <td>https://discover.jdpa.com/hubfs/Files/Industry...</td>\n",
       "      <td>4</td>\n",
       "      <td>Jul</td>\n",
       "      <td>2022</td>\n",
       "    </tr>\n",
       "    <tr>\n",
       "      <th>31</th>\n",
       "      <td>COMMERCIAL VEHICLE GUIDELINES</td>\n",
       "      <td>https://discover.jdpa.com/hubfs/Files/Industry...</td>\n",
       "      <td>4</td>\n",
       "      <td>Aug</td>\n",
       "      <td>2022</td>\n",
       "    </tr>\n",
       "  </tbody>\n",
       "</table>\n",
       "</div>"
      ],
      "text/plain": [
       "                            title  \\\n",
       "0   COMMERCIAL VEHICLE GUIDELINES   \n",
       "1   COMMERCIAL VEHICLE GUIDELINES   \n",
       "2   COMMERCIAL VEHICLE GUIDELINES   \n",
       "3   COMMERCIAL VEHICLE GUIDELINES   \n",
       "4   COMMERCIAL VEHICLE GUIDELINES   \n",
       "5   COMMERCIAL VEHICLE GUIDELINES   \n",
       "6   COMMERCIAL VEHICLE GUIDELINES   \n",
       "7   COMMERCIAL VEHICLE GUIDELINES   \n",
       "8   COMMERCIAL VEHICLE GUIDELINES   \n",
       "9   COMMERCIAL VEHICLE GUIDELINES   \n",
       "10  COMMERCIAL VEHICLE GUIDELINES   \n",
       "11  COMMERCIAL VEHICLE GUIDELINES   \n",
       "12  COMMERCIAL VEHICLE GUIDELINES   \n",
       "13  COMMERCIAL VEHICLE GUIDELINES   \n",
       "14  COMMERCIAL VEHICLE GUIDELINES   \n",
       "15  COMMERCIAL VEHICLE GUIDELINES   \n",
       "16  COMMERCIAL VEHICLE GUIDELINES   \n",
       "17  COMMERCIAL VEHICLE GUIDELINES   \n",
       "18  COMMERCIAL VEHICLE GUIDELINES   \n",
       "19  COMMERCIAL VEHICLE GUIDELINES   \n",
       "20  COMMERCIAL VEHICLE GUIDELINES   \n",
       "21  COMMERCIAL VEHICLE GUIDELINES   \n",
       "22  COMMERCIAL VEHICLE GUIDELINES   \n",
       "23  COMMERCIAL VEHICLE GUIDELINES   \n",
       "24  COMMERCIAL VEHICLE GUIDELINES   \n",
       "25  COMMERCIAL VEHICLE GUIDELINES   \n",
       "26  COMMERCIAL VEHICLE GUIDELINES   \n",
       "27  COMMERCIAL VEHICLE GUIDELINES   \n",
       "28  COMMERCIAL VEHICLE GUIDELINES   \n",
       "29  COMMERCIAL VEHICLE GUIDELINES   \n",
       "30  COMMERCIAL VEHICLE GUIDELINES   \n",
       "31  COMMERCIAL VEHICLE GUIDELINES   \n",
       "\n",
       "                                                 link  page month  year  \n",
       "0   https://discover.jdpa.com/hubfs/Files/Industry...     1   Jun  2024  \n",
       "1   https://discover.jdpa.com/hubfs/Files/Industry...     1   May  2024  \n",
       "2   https://discover.jdpa.com/hubfs/Files/Industry...     1   Sep  2024  \n",
       "3   https://discover.jdpa.com/hubfs/Files/Industry...     1   Aug  2024  \n",
       "4   https://discover.jdpa.com/hubfs/Files/Industry...     1   Mar  2025  \n",
       "5   https://discover.jdpa.com/hubfs/Files/Industry...     1   Mar  2024  \n",
       "6   https://discover.jdpa.com/hubfs/Files/Industry...     1   Feb  2024  \n",
       "7   https://discover.jdpa.com/hubfs/Files/Industry...     1   Apr  2024  \n",
       "8   https://discover.jdpa.com/hubfs/Files/Industry...     1   Jan  2025  \n",
       "9   https://discover.jdpa.com/hubfs/Files/Industry...     1   Jul  2024  \n",
       "10  https://discover.jdpa.com/hubfs/Files/Industry...     2   Jan  2024  \n",
       "11  https://discover.jdpa.com/hubfs/Files/Industry...     2   Dec  2023  \n",
       "12  https://discover.jdpa.com/hubfs/Files/Industry...     2   Jul  2023  \n",
       "13  https://discover.jdpa.com/hubfs/Files/Industry...     2   Aug  2023  \n",
       "14  https://discover.jdpa.com/hubfs/Files/Industry...     2   Oct  2023  \n",
       "15  https://discover.jdpa.com/hubfs/Files/Industry...     2   May  2022  \n",
       "16  https://discover.jdpa.com/hubfs/Files/Industry...     2   Apr  2023  \n",
       "17  https://discover.jdpa.com/hubfs/Files/Industry...     2   May  2023  \n",
       "18  https://discover.jdpa.com/hubfs/Files/Industry...     2   Apr  2022  \n",
       "19  https://discover.jdpa.com/hubfs/Files/Industry...     2   Jan  2023  \n",
       "20  https://discover.jdpa.com/hubfs/Files/Industry...     3   Oct  2022  \n",
       "21  https://discover.jdpa.com/hubfs/Files/Industry...     3   Jun  2023  \n",
       "22  https://discover.jdpa.com/hubfs/Files/Industry...     3   Feb  2023  \n",
       "23  https://discover.jdpa.com/hubfs/Files/Industry...     3   Nov  2022  \n",
       "24  https://discover.jdpa.com/hubfs/Files/Industry...     3   Dec  2022  \n",
       "25  https://discover.jdpa.com/hubfs/Files/Industry...     3   Sep  2022  \n",
       "26  https://discover.jdpa.com/hubfs/Files/Industry...     3   Jan  2018  \n",
       "27  https://discover.jdpa.com/hubfs/Files/Industry...     3   Feb  2022  \n",
       "28  https://discover.jdpa.com/hubfs/Files/Industry...     3   Mar  2023  \n",
       "29  https://discover.jdpa.com/hubfs/Files/Industry...     3   Mar  2022  \n",
       "30  https://discover.jdpa.com/hubfs/Files/Industry...     4   Jul  2022  \n",
       "31  https://discover.jdpa.com/hubfs/Files/Industry...     4   Aug  2022  "
      ]
     },
     "execution_count": 36,
     "metadata": {},
     "output_type": "execute_result"
    }
   ],
   "source": [
    "data_4 = pd.read_csv(r'C:\\Users\\clint\\Desktop\\Scraping Task\\2_3.csv')\n",
    "data_4"
   ]
  },
  {
   "cell_type": "code",
   "execution_count": 37,
   "metadata": {},
   "outputs": [
    {
     "data": {
      "application/vnd.microsoft.datawrangler.viewer.v0+json": {
       "columns": [
        {
         "name": "index",
         "rawType": "int64",
         "type": "integer"
        },
        {
         "name": "month",
         "rawType": "object",
         "type": "string"
        },
        {
         "name": "year",
         "rawType": "int64",
         "type": "integer"
        },
        {
         "name": "link",
         "rawType": "object",
         "type": "string"
        }
       ],
       "conversionMethod": "pd.DataFrame",
       "ref": "23682906-702d-457d-83d8-90ca6217d798",
       "rows": [
        [
         "0",
         "September",
         "2022",
         "https://www.jdpowervalues.com/article/september-2022-used-car-car-market-guidelines"
        ],
        [
         "1",
         "September",
         "2022",
         "https://www.jdpowervalues.com/article/september-2022-commercial-truck-guidelines"
        ],
        [
         "2",
         "July",
         "2022",
         "https://discover.jdpa.com/hubfs/Files/Industry%20Campaigns/Valuation%20Services/August_2022_Guidelines.pdf"
        ],
        [
         "3",
         "August",
         "2022",
         "https://discover.jdpa.com/hubfs/Files/Industry%20Campaigns/Valuation%20Services/08.2022_CommercialVehicleGuidelines.pdf"
        ],
        [
         "4",
         "March",
         "2022",
         "https://www.jdpowervalues.com/article/class-8-pricing-still-sky-high-risks-intensify"
        ],
        [
         "5",
         "February",
         "2022",
         "https://www.jdpowervalues.com/article/february-2022-wholesale-market-update"
        ],
        [
         "6",
         "February",
         "2022",
         "https://www.jdpowervalues.com/article/early-february-auctions-suggest-increase-number-available-late-model-trucks"
        ],
        [
         "7",
         "January",
         "2022",
         "https://discover.jdpa.com/hubfs/Files/Industry%20Campaigns/Valuation%20Services/01.2022_Commercial%20Truck%20Guidelines.pdf"
        ],
        [
         "8",
         "January",
         "2022",
         "https://discover.jdpa.com/hubfs/Files/Industry%20Campaigns/Valuation%20Services/01.2022_Commercial%20Truck%20Guidelines.pdf"
        ],
        [
         "9",
         "January",
         "2022",
         "https://discover.jdpa.com/hubfs/Files/Industry%20Campaigns/Valuation%20Services/01.2022_Commercial%20Truck%20Guidelines.pdf"
        ],
        [
         "10",
         "November",
         "2021",
         "https://cts.businesswire.com/ct/CT?id=smartlink&url=https%3A%2F%2Fdiscover.jdpa.com%2Fhubfs%2FFiles%2FIndustry%2520Campaigns%2FValuation%2520Services%2F11.2021_Commercial%2520Truck%2520Guidelines.pdf&esheet=52535508&newsitemid=20211122005179&lan=en-US&anchor=November+2021+Commercial+Truck+Guidelines+Industry+Update&index=1&md5=5f63527da4fadd374049580883011041"
        ],
        [
         "11",
         "November",
         "2021",
         "https://cts.businesswire.com/ct/CT?id=smartlink&url=https%3A%2F%2Fdiscover.jdpa.com%2Fhubfs%2FFiles%2FIndustry%2520Campaigns%2FValuation%2520Services%2F11.2021_Commercial%2520Truck%2520Guidelines.pdf&esheet=52535508&newsitemid=20211122005179&lan=en-US&anchor=free+monthly+report&index=2&md5=cacd9136e547686bed8d7edb5fea254d"
        ],
        [
         "12",
         "November",
         "2021",
         "https://cts.businesswire.com/ct/CT?id=smartlink&url=https%3A%2F%2Fdiscover.jdpa.com%2Fhubfs%2FFiles%2FIndustry%2520Campaigns%2FValuation%2520Services%2F11.2021_Commercial%2520Truck%2520Guidelines.pdf&esheet=52535508&newsitemid=20211122005179&lan=en-US&anchor=Download+the+free+November+2021+Commercial+Truck+Guidelines+Industry+Update&index=3&md5=36ab506cfaf88d1690474e5410207909"
        ],
        [
         "13",
         "October",
         "2021",
         "https://cts.businesswire.com/ct/CT?id=smartlink&url=https%3A%2F%2Fdiscover.jdpa.com%2Fhubfs%2FFiles%2FIndustry%2520Campaigns%2FValuation%2520Services%2F10.2021_Commercial%2520Truck%2520Guidelines.pdf&esheet=52513887&newsitemid=20211022005121&lan=en-US&anchor=October+2021+Commercial+Truck+Guidelines+Industry+Update&index=1&md5=8ab98d284850f0935d81bc69c0395f6b"
        ],
        [
         "14",
         "October",
         "2021",
         "https://cts.businesswire.com/ct/CT?id=smartlink&url=https%3A%2F%2Fdiscover.jdpa.com%2Fhubfs%2FFiles%2FIndustry%2520Campaigns%2FValuation%2520Services%2F10.2021_Commercial%2520Truck%2520Guidelines.pdf&esheet=52513887&newsitemid=20211022005121&lan=en-US&anchor=free+monthly+report&index=2&md5=0022b319c25fcb60df85372872d6e529"
        ],
        [
         "15",
         "October",
         "2021",
         "https://cts.businesswire.com/ct/CT?id=smartlink&url=https%3A%2F%2Fdiscover.jdpa.com%2Fhubfs%2FFiles%2FIndustry%2520Campaigns%2FValuation%2520Services%2F10.2021_Commercial%2520Truck%2520Guidelines.pdf&esheet=52513887&newsitemid=20211022005121&lan=en-US&anchor=Download+the+free+September+2021+Commercial+Truck+Guidelines+Industry+Update&index=3&md5=2228572ff53d6fd11998588f421fd73b"
        ],
        [
         "16",
         "September",
         "2021",
         "https://cts.businesswire.com/ct/CT?id=smartlink&url=https%3A%2F%2Fdiscover.jdpa.com%2Fhubfs%2FFiles%2FIndustry%2520Campaigns%2FValuation%2520Services%2F09.2021_Commercial%2520Truck%2520Guidelines.pdf&esheet=52494368&newsitemid=20210920005760&lan=en-US&anchor=September+2021+Commercial+Truck+Guidelines+Industry+Update&index=1&md5=7bd7e1be6177d2edc131217c9e2a46d3"
        ],
        [
         "17",
         "September",
         "2021",
         "https://cts.businesswire.com/ct/CT?id=smartlink&url=https%3A%2F%2Fdiscover.jdpa.com%2Fhubfs%2FFiles%2FIndustry%2520Campaigns%2FValuation%2520Services%2F09.2021_Commercial%2520Truck%2520Guidelines.pdf&esheet=52494368&newsitemid=20210920005760&lan=en-US&anchor=free+monthly+report&index=2&md5=229e1ff5a16e78449b5bb3e63dd902ea"
        ],
        [
         "18",
         "September",
         "2021",
         "https://cts.businesswire.com/ct/CT?id=smartlink&url=https%3A%2F%2Fdiscover.jdpa.com%2Fhubfs%2FFiles%2FIndustry%2520Campaigns%2FValuation%2520Services%2F09.2021_Commercial%2520Truck%2520Guidelines.pdf&esheet=52494368&newsitemid=20210920005760&lan=en-US&anchor=Download+the+free+September+2021+Commercial+Truck+Guidelines+Industry+Update&index=3&md5=1732728ec4cf3d31060f2e5014446d65"
        ],
        [
         "19",
         "August",
         "2021",
         "https://cts.businesswire.com/ct/CT?id=smartlink&url=https%3A%2F%2Fdiscover.jdpa.com%2Fhubfs%2FFiles%2FIndustry%2520Campaigns%2FValuation%2520Services%2F08.2021_Commercial%2520Truck%2520Guidelines.pdf&esheet=52478650&newsitemid=20210818005269&lan=en-US&anchor=August+2021+Commercial+Truck+Guidelines+Industry+Update&index=1&md5=c3e056061eea004cfa36b2cd3f00a91b"
        ],
        [
         "20",
         "August",
         "2021",
         "https://cts.businesswire.com/ct/CT?id=smartlink&url=https%3A%2F%2Fdiscover.jdpa.com%2Fhubfs%2FFiles%2FIndustry%2520Campaigns%2FValuation%2520Services%2F08.2021_Commercial%2520Truck%2520Guidelines.pdf&esheet=52478650&newsitemid=20210818005269&lan=en-US&anchor=free+monthly+report&index=2&md5=19370100cd3c6263494fd0653e30a8b5"
        ],
        [
         "21",
         "July",
         "2021",
         "https://cts.businesswire.com/ct/CT?id=smartlink&url=https%3A%2F%2Fdiscover.jdpa.com%2Fhubfs%2FFiles%2FIndustry%2520Campaigns%2FValuation%2520Services%2F07.2021_Commercial%2520Truck%2520Guidelines.pdf&esheet=52478650&newsitemid=20210818005269&lan=en-US&anchor=Download+the+free+August+2021+Commercial+Truck+Guidelines+Industry+Update&index=3&md5=300267e8f4813ef46c63a42fb9c853fa"
        ],
        [
         "22",
         "July",
         "2021",
         "https://cts.businesswire.com/ct/CT?id=smartlink&url=https%3A%2F%2Fdiscover.jdpa.com%2Fhubfs%2FFiles%2FIndustry%2520Campaigns%2FValuation%2520Services%2F07.2021_Commercial%2520Truck%2520Guidelines.pdf&esheet=52461504&newsitemid=20210716005429&lan=en-US&anchor=July+2021+Commercial+Truck+Guidelines+Industry+Update&index=1&md5=b9f1893a4e9577497c674b77b88d16e2"
        ],
        [
         "23",
         "July",
         "2021",
         "https://cts.businesswire.com/ct/CT?id=smartlink&url=https%3A%2F%2Fdiscover.jdpa.com%2Fhubfs%2FFiles%2FIndustry%2520Campaigns%2FValuation%2520Services%2F07.2021_Commercial%2520Truck%2520Guidelines.pdf&esheet=52461504&newsitemid=20210716005429&lan=en-US&anchor=free+monthly+report&index=2&md5=9fc4375f58030cebb36c98c1f9bace29"
        ],
        [
         "24",
         "July",
         "2021",
         "https://cts.businesswire.com/ct/CT?id=smartlink&url=https%3A%2F%2Fdiscover.jdpa.com%2Fhubfs%2FFiles%2FIndustry%2520Campaigns%2FValuation%2520Services%2F07.2021_Commercial%2520Truck%2520Guidelines.pdf&esheet=52461504&newsitemid=20210716005429&lan=en-US&anchor=Download+the+free+July+2021+Commercial+Truck+Guidelines+Industry+Update&index=3&md5=b937806b29087643f7f9ad2488ef9726"
        ],
        [
         "25",
         "May",
         "2021",
         "https://cts.businesswire.com/ct/CT?id=smartlink&url=https%3A%2F%2Fdiscover.jdpa.com%2Fhubfs%2FFiles%2FIndustry%2520Campaigns%2FValuation%2520Services%2F05.2021_Commercial%2520Truck%2520Guidelines.pdf&esheet=52431899&newsitemid=20210519005136&lan=en-US&anchor=May+2021+Commercial+Truck+Guidelines+Industry+Update&index=1&md5=b1cba1c3cd0a59cd9bf66362146393b2"
        ],
        [
         "26",
         "May",
         "2021",
         "https://cts.businesswire.com/ct/CT?id=smartlink&url=https%3A%2F%2Fdiscover.jdpa.com%2Fhubfs%2FFiles%2FIndustry%2520Campaigns%2FValuation%2520Services%2F05.2021_Commercial%2520Truck%2520Guidelines.pdf&esheet=52431899&newsitemid=20210519005136&lan=en-US&anchor=free+monthly+report&index=2&md5=eeec73b1bd3ccb74623617dabce52612"
        ],
        [
         "27",
         "May",
         "2021",
         "https://cts.businesswire.com/ct/CT?id=smartlink&url=https%3A%2F%2Fdiscover.jdpa.com%2Fhubfs%2FFiles%2FIndustry%2520Campaigns%2FValuation%2520Services%2F05.2021_Commercial%2520Truck%2520Guidelines.pdf&esheet=52431899&newsitemid=20210519005136&lan=en-US&anchor=Download+the+free+May+2021+Commercial+Truck+Guidelines+Industry+Update&index=3&md5=f845785630eee429430605011f8dd40e"
        ],
        [
         "28",
         "April",
         "2021",
         "https://cts.businesswire.com/ct/CT?id=smartlink&url=https%3A%2F%2Fdiscover.jdpa.com%2Fhubfs%2FFiles%2FIndustry%2520Campaigns%2FValuation%2520Services%2F04.2021_Commercial%2520Truck%2520Guidelines.pdf&esheet=52413430&newsitemid=20210416005556&lan=en-US&anchor=April+2021+Commercial+Truck+Guidelines+Industry+Update&index=1&md5=5715fb776dd24b82ca6ad6f324c0dec9"
        ],
        [
         "29",
         "March",
         "2021",
         "https://cts.businesswire.com/ct/CT?id=smartlink&url=https%3A%2F%2Fdiscover.jdpa.com%2Fhubfs%2FFiles%2FIndustry%2520Campaigns%2FValuation%2520Services%2F03.2021_Commercial%2520Truck%2520Guidelines.pdf&esheet=52397789&newsitemid=20210318005144&lan=en-US&anchor=March+2021+Commercial+Truck+Guidelines+Industry+Update&index=1&md5=acd013843d2b7219b23940d7e4044ae1"
        ],
        [
         "30",
         "February",
         "2021",
         "https://cts.businesswire.com/ct/CT?id=smartlink&url=https%3A%2F%2Fdiscover.jdpa.com%2Fhubfs%2FFiles%2FIndustry%2520Campaigns%2FValuation%2520Services%2F02.2021_Commercial%2520Truck%2520Guidelines.pdf&esheet=52381780&newsitemid=20210218006053&lan=en-US&anchor=February+2021+Commercial+Truck+Guidelines+Industry+Update&index=1&md5=4d60da057274268698fd158e1ad95aeb"
        ],
        [
         "31",
         "January",
         "2021",
         "https://cts.businesswire.com/ct/CT?id=smartlink&url=https%3A%2F%2Fdiscover.jdpa.com%2Fhubfs%2FFiles%2FIndustry%2520Campaigns%2FValuation%2520Services%2F01.2021_Commercial%2520Truck%2520Guidelines.pdf&esheet=52365521&newsitemid=20210121005693&lan=en-US&anchor=January+2021+Commercial+Truck+Guidelines+Industry+Update&index=1&md5=26fe151f26df5c13b3b32604963a7331"
        ],
        [
         "32",
         "November",
         "2020",
         "https://discover.jdpa.com/hubfs/Files/Industry%20Campaigns/Valuation%20Services/11.2020_Commercial%20Truck%20Guidelines.pdf"
        ],
        [
         "33",
         "November",
         "2020",
         "https://discover.jdpa.com/hubfs/Files/Industry%20Campaigns/Valuation%20Services/11.2020_Commercial%20Truck%20Guidelines.pdf"
        ],
        [
         "34",
         "August",
         "2020",
         "https://discover.jdpa.com/hubfs/Files/Industry%20Campaigns/Valuation%20Services/08.2020_Commercial%20Truck%20Guidelines.pdf"
        ],
        [
         "35",
         "September",
         "2020",
         "https://discover.jdpa.com/hubfs/Files/Industry%20Campaigns/Valuation%20Services/09.2020_Commercial%20Truck%20Guidelines.pdf"
        ],
        [
         "36",
         "October",
         "2020",
         "https://discover.jdpa.com/hubfs/Files/Industry%20Campaigns/Valuation%20Services/10.2020_Commercial%20Truck%20Guidelines.pdf"
        ],
        [
         "37",
         "August",
         "2020",
         "https://discover.jdpa.com/hubfs/Files/Industry%20Campaigns/Valuation%20Services/08.2020_Commercial%20Truck%20Guidelines.pdf"
        ],
        [
         "38",
         "September",
         "2020",
         "https://discover.jdpa.com/hubfs/Files/Industry%20Campaigns/Valuation%20Services/09.2020_Commercial%20Truck%20Guidelines.pdf"
        ],
        [
         "39",
         "September",
         "2020",
         "https://discover.jdpa.com/hubfs/Files/Industry%20Campaigns/Valuation%20Services/09.2020_Commercial%20Truck%20Guidelines.pdf"
        ],
        [
         "40",
         "August",
         "2020",
         "https://discover.jdpa.com/hubfs/Files/Industry%20Campaigns/Valuation%20Services/08.2020_Commercial%20Truck%20Guidelines.pdf"
        ],
        [
         "41",
         "August",
         "2020",
         "https://discover.jdpa.com/hubfs/Files/Industry%20Campaigns/Valuation%20Services/08.2020_Commercial%20Truck%20Guidelines.pdf"
        ],
        [
         "42",
         "July",
         "2020",
         "https://discover.jdpa.com/hubfs/Files/Industry%20Campaigns/Valuation%20Services/07.2020_Commercial%20Truck%20Guidelines.pdf"
        ],
        [
         "43",
         "July",
         "2020",
         "https://discover.jdpa.com/hubfs/Files/Industry%20Campaigns/Valuation%20Services/07.2020_Commercial%20Truck%20Guidelines.pdf"
        ],
        [
         "44",
         "June",
         "2020",
         "https://discover.jdpa.com/hubfs/Files/Industry%20Campaigns/Valuation%20Services/06.2020_Commercial%20Truck%20Guidelines.pdf"
        ],
        [
         "45",
         "June",
         "2020",
         "https://discover.jdpa.com/hubfs/Files/Industry%20Campaigns/Valuation%20Services/06.2020_Commercial%20Truck%20Guidelines.pdf"
        ],
        [
         "46",
         "May",
         "2020",
         "https://discover.jdpa.com/hubfs/Files/Industry%20Campaigns/Valuation%20Services/05.2020_Commercial%20Truck%20Guidelines.pdf"
        ],
        [
         "47",
         "May",
         "2020",
         "https://discover.jdpa.com/hubfs/Files/Industry%20Campaigns/Valuation%20Services/05.2020_Commercial%20Truck%20Guidelines.pdf"
        ],
        [
         "48",
         "April",
         "2020",
         "https://cdn2.hubspot.net/hubfs/4239280/Files/Industry%20Campaigns/Valuation%20Services/04.2020_Commercial%20Truck%20Guidelines.pdf"
        ],
        [
         "49",
         "April",
         "2020",
         "https://cdn2.hubspot.net/hubfs/4239280/Files/Industry%20Campaigns/Valuation%20Services/04.2020_Commercial%20Truck%20Guidelines.pdf"
        ]
       ],
       "shape": {
        "columns": 3,
        "rows": 137
       }
      },
      "text/html": [
       "<div>\n",
       "<style scoped>\n",
       "    .dataframe tbody tr th:only-of-type {\n",
       "        vertical-align: middle;\n",
       "    }\n",
       "\n",
       "    .dataframe tbody tr th {\n",
       "        vertical-align: top;\n",
       "    }\n",
       "\n",
       "    .dataframe thead th {\n",
       "        text-align: right;\n",
       "    }\n",
       "</style>\n",
       "<table border=\"1\" class=\"dataframe\">\n",
       "  <thead>\n",
       "    <tr style=\"text-align: right;\">\n",
       "      <th></th>\n",
       "      <th>month</th>\n",
       "      <th>year</th>\n",
       "      <th>link</th>\n",
       "    </tr>\n",
       "  </thead>\n",
       "  <tbody>\n",
       "    <tr>\n",
       "      <th>0</th>\n",
       "      <td>September</td>\n",
       "      <td>2022</td>\n",
       "      <td>https://www.jdpowervalues.com/article/septembe...</td>\n",
       "    </tr>\n",
       "    <tr>\n",
       "      <th>1</th>\n",
       "      <td>September</td>\n",
       "      <td>2022</td>\n",
       "      <td>https://www.jdpowervalues.com/article/septembe...</td>\n",
       "    </tr>\n",
       "    <tr>\n",
       "      <th>2</th>\n",
       "      <td>July</td>\n",
       "      <td>2022</td>\n",
       "      <td>https://discover.jdpa.com/hubfs/Files/Industry...</td>\n",
       "    </tr>\n",
       "    <tr>\n",
       "      <th>3</th>\n",
       "      <td>August</td>\n",
       "      <td>2022</td>\n",
       "      <td>https://discover.jdpa.com/hubfs/Files/Industry...</td>\n",
       "    </tr>\n",
       "    <tr>\n",
       "      <th>4</th>\n",
       "      <td>March</td>\n",
       "      <td>2022</td>\n",
       "      <td>https://www.jdpowervalues.com/article/class-8-...</td>\n",
       "    </tr>\n",
       "    <tr>\n",
       "      <th>...</th>\n",
       "      <td>...</td>\n",
       "      <td>...</td>\n",
       "      <td>...</td>\n",
       "    </tr>\n",
       "    <tr>\n",
       "      <th>132</th>\n",
       "      <td>January</td>\n",
       "      <td>2018</td>\n",
       "      <td>https://cdn2.hubspot.net/hubfs/4239280/Files/I...</td>\n",
       "    </tr>\n",
       "    <tr>\n",
       "      <th>133</th>\n",
       "      <td>January</td>\n",
       "      <td>2018</td>\n",
       "      <td>https://cdn2.hubspot.net/hubfs/4239280/Files/I...</td>\n",
       "    </tr>\n",
       "    <tr>\n",
       "      <th>134</th>\n",
       "      <td>January</td>\n",
       "      <td>2018</td>\n",
       "      <td>https://cdn2.hubspot.net/hubfs/4239280/Files/I...</td>\n",
       "    </tr>\n",
       "    <tr>\n",
       "      <th>135</th>\n",
       "      <td>January</td>\n",
       "      <td>2018</td>\n",
       "      <td>https://cdn2.hubspot.net/hubfs/4239280/Files/I...</td>\n",
       "    </tr>\n",
       "    <tr>\n",
       "      <th>136</th>\n",
       "      <td>January</td>\n",
       "      <td>2018</td>\n",
       "      <td>https://cdn2.hubspot.net/hubfs/4239280/Files/I...</td>\n",
       "    </tr>\n",
       "  </tbody>\n",
       "</table>\n",
       "<p>137 rows × 3 columns</p>\n",
       "</div>"
      ],
      "text/plain": [
       "         month  year                                               link\n",
       "0    September  2022  https://www.jdpowervalues.com/article/septembe...\n",
       "1    September  2022  https://www.jdpowervalues.com/article/septembe...\n",
       "2         July  2022  https://discover.jdpa.com/hubfs/Files/Industry...\n",
       "3       August  2022  https://discover.jdpa.com/hubfs/Files/Industry...\n",
       "4        March  2022  https://www.jdpowervalues.com/article/class-8-...\n",
       "..         ...   ...                                                ...\n",
       "132    January  2018  https://cdn2.hubspot.net/hubfs/4239280/Files/I...\n",
       "133    January  2018  https://cdn2.hubspot.net/hubfs/4239280/Files/I...\n",
       "134    January  2018  https://cdn2.hubspot.net/hubfs/4239280/Files/I...\n",
       "135    January  2018  https://cdn2.hubspot.net/hubfs/4239280/Files/I...\n",
       "136    January  2018  https://cdn2.hubspot.net/hubfs/4239280/Files/I...\n",
       "\n",
       "[137 rows x 3 columns]"
      ]
     },
     "execution_count": 37,
     "metadata": {},
     "output_type": "execute_result"
    }
   ],
   "source": [
    "data_6 = pd.read_csv(r'C:\\Users\\clint\\Desktop\\Scraping Task\\3_1.csv')\n",
    "data_6 = data_6.iloc[:, 1:]  # Drop the first column\n",
    "data_6"
   ]
  },
  {
   "cell_type": "markdown",
   "metadata": {},
   "source": [
    "https://www.jdpowervalues.com/commercial-truck-blog"
   ]
  },
  {
   "cell_type": "markdown",
   "metadata": {},
   "source": []
  }
 ],
 "metadata": {
  "kernelspec": {
   "display_name": "Python 3",
   "language": "python",
   "name": "python3"
  },
  "language_info": {
   "codemirror_mode": {
    "name": "ipython",
    "version": 3
   },
   "file_extension": ".py",
   "mimetype": "text/x-python",
   "name": "python",
   "nbconvert_exporter": "python",
   "pygments_lexer": "ipython3",
   "version": "3.11.9"
  }
 },
 "nbformat": 4,
 "nbformat_minor": 2
}
