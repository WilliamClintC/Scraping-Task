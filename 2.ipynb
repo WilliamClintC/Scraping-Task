{
 "cells": [
  {
   "cell_type": "code",
   "execution_count": 3,
   "metadata": {},
   "outputs": [
    {
     "name": "stdout",
     "output_type": "stream",
     "text": [
      "hello\n"
     ]
    }
   ],
   "source": [
    "print(\"hello\")"
   ]
  },
  {
   "cell_type": "code",
   "execution_count": 1,
   "metadata": {},
   "outputs": [
    {
     "data": {
      "text/html": [
       "<div>\n",
       "<style scoped>\n",
       "    .dataframe tbody tr th:only-of-type {\n",
       "        vertical-align: middle;\n",
       "    }\n",
       "\n",
       "    .dataframe tbody tr th {\n",
       "        vertical-align: top;\n",
       "    }\n",
       "\n",
       "    .dataframe thead th {\n",
       "        text-align: right;\n",
       "    }\n",
       "</style>\n",
       "<table border=\"1\" class=\"dataframe\">\n",
       "  <thead>\n",
       "    <tr style=\"text-align: right;\">\n",
       "      <th></th>\n",
       "      <th>title</th>\n",
       "      <th>link</th>\n",
       "      <th>page</th>\n",
       "      <th>Month</th>\n",
       "      <th>Year</th>\n",
       "      <th>Date</th>\n",
       "      <th>Is_readily_available</th>\n",
       "    </tr>\n",
       "  </thead>\n",
       "  <tbody>\n",
       "    <tr>\n",
       "      <th>0</th>\n",
       "      <td>COMMERCIAL TRUCK GUIDELINES</td>\n",
       "      <td>https://discover.jdpa.com/hubfs/Files/Industry...</td>\n",
       "      <td>1.0</td>\n",
       "      <td>Dec</td>\n",
       "      <td>2021</td>\n",
       "      <td>2021-12-01</td>\n",
       "      <td>0</td>\n",
       "    </tr>\n",
       "    <tr>\n",
       "      <th>1</th>\n",
       "      <td>COMMERCIAL TRUCK GUIDELINES</td>\n",
       "      <td>https://discover.jdpa.com/hubfs/Files/Industry...</td>\n",
       "      <td>1.0</td>\n",
       "      <td>Apr</td>\n",
       "      <td>2021</td>\n",
       "      <td>2021-04-01</td>\n",
       "      <td>0</td>\n",
       "    </tr>\n",
       "    <tr>\n",
       "      <th>2</th>\n",
       "      <td>COMMERCIAL TRUCK GUIDELINES</td>\n",
       "      <td>https://discover.jdpa.com/hubfs/Files/Industry...</td>\n",
       "      <td>1.0</td>\n",
       "      <td>Jun</td>\n",
       "      <td>2020</td>\n",
       "      <td>2020-06-01</td>\n",
       "      <td>0</td>\n",
       "    </tr>\n",
       "    <tr>\n",
       "      <th>3</th>\n",
       "      <td>COMMERCIAL TRUCK GUIDELINES</td>\n",
       "      <td>https://discover.jdpa.com/hubfs/Files/Industry...</td>\n",
       "      <td>1.0</td>\n",
       "      <td>Sep</td>\n",
       "      <td>2020</td>\n",
       "      <td>2020-09-01</td>\n",
       "      <td>0</td>\n",
       "    </tr>\n",
       "    <tr>\n",
       "      <th>4</th>\n",
       "      <td>COMMERCIAL TRUCK GUIDELINES</td>\n",
       "      <td>https://discover.jdpa.com/hubfs/Files/Industry...</td>\n",
       "      <td>1.0</td>\n",
       "      <td>Oct</td>\n",
       "      <td>2021</td>\n",
       "      <td>2021-10-01</td>\n",
       "      <td>0</td>\n",
       "    </tr>\n",
       "    <tr>\n",
       "      <th>...</th>\n",
       "      <td>...</td>\n",
       "      <td>...</td>\n",
       "      <td>...</td>\n",
       "      <td>...</td>\n",
       "      <td>...</td>\n",
       "      <td>...</td>\n",
       "      <td>...</td>\n",
       "    </tr>\n",
       "    <tr>\n",
       "      <th>110</th>\n",
       "      <td>NaN</td>\n",
       "      <td>https://cdn2.hubspot.net/hubfs/4239280/Files/I...</td>\n",
       "      <td>NaN</td>\n",
       "      <td>May</td>\n",
       "      <td>2018</td>\n",
       "      <td>2018-05-01</td>\n",
       "      <td>0</td>\n",
       "    </tr>\n",
       "    <tr>\n",
       "      <th>111</th>\n",
       "      <td>NaN</td>\n",
       "      <td>https://cdn2.hubspot.net/hubfs/4239280/Files/I...</td>\n",
       "      <td>NaN</td>\n",
       "      <td>April</td>\n",
       "      <td>2018</td>\n",
       "      <td>2018-04-01</td>\n",
       "      <td>0</td>\n",
       "    </tr>\n",
       "    <tr>\n",
       "      <th>112</th>\n",
       "      <td>NaN</td>\n",
       "      <td>https://cdn2.hubspot.net/hubfs/4239280/Files/I...</td>\n",
       "      <td>NaN</td>\n",
       "      <td>March</td>\n",
       "      <td>2018</td>\n",
       "      <td>2018-03-01</td>\n",
       "      <td>0</td>\n",
       "    </tr>\n",
       "    <tr>\n",
       "      <th>113</th>\n",
       "      <td>NaN</td>\n",
       "      <td>https://cdn2.hubspot.net/hubfs/4239280/Files/I...</td>\n",
       "      <td>NaN</td>\n",
       "      <td>February</td>\n",
       "      <td>2018</td>\n",
       "      <td>2018-02-01</td>\n",
       "      <td>0</td>\n",
       "    </tr>\n",
       "    <tr>\n",
       "      <th>114</th>\n",
       "      <td>NaN</td>\n",
       "      <td>https://cdn2.hubspot.net/hubfs/4239280/Files/I...</td>\n",
       "      <td>NaN</td>\n",
       "      <td>January</td>\n",
       "      <td>2018</td>\n",
       "      <td>2018-01-01</td>\n",
       "      <td>0</td>\n",
       "    </tr>\n",
       "  </tbody>\n",
       "</table>\n",
       "<p>115 rows × 7 columns</p>\n",
       "</div>"
      ],
      "text/plain": [
       "                           title  \\\n",
       "0    COMMERCIAL TRUCK GUIDELINES   \n",
       "1    COMMERCIAL TRUCK GUIDELINES   \n",
       "2    COMMERCIAL TRUCK GUIDELINES   \n",
       "3    COMMERCIAL TRUCK GUIDELINES   \n",
       "4    COMMERCIAL TRUCK GUIDELINES   \n",
       "..                           ...   \n",
       "110                          NaN   \n",
       "111                          NaN   \n",
       "112                          NaN   \n",
       "113                          NaN   \n",
       "114                          NaN   \n",
       "\n",
       "                                                  link  page     Month  Year  \\\n",
       "0    https://discover.jdpa.com/hubfs/Files/Industry...   1.0       Dec  2021   \n",
       "1    https://discover.jdpa.com/hubfs/Files/Industry...   1.0       Apr  2021   \n",
       "2    https://discover.jdpa.com/hubfs/Files/Industry...   1.0       Jun  2020   \n",
       "3    https://discover.jdpa.com/hubfs/Files/Industry...   1.0       Sep  2020   \n",
       "4    https://discover.jdpa.com/hubfs/Files/Industry...   1.0       Oct  2021   \n",
       "..                                                 ...   ...       ...   ...   \n",
       "110  https://cdn2.hubspot.net/hubfs/4239280/Files/I...   NaN       May  2018   \n",
       "111  https://cdn2.hubspot.net/hubfs/4239280/Files/I...   NaN     April  2018   \n",
       "112  https://cdn2.hubspot.net/hubfs/4239280/Files/I...   NaN     March  2018   \n",
       "113  https://cdn2.hubspot.net/hubfs/4239280/Files/I...   NaN  February  2018   \n",
       "114  https://cdn2.hubspot.net/hubfs/4239280/Files/I...   NaN   January  2018   \n",
       "\n",
       "           Date  Is_readily_available  \n",
       "0    2021-12-01                     0  \n",
       "1    2021-04-01                     0  \n",
       "2    2020-06-01                     0  \n",
       "3    2020-09-01                     0  \n",
       "4    2021-10-01                     0  \n",
       "..          ...                   ...  \n",
       "110  2018-05-01                     0  \n",
       "111  2018-04-01                     0  \n",
       "112  2018-03-01                     0  \n",
       "113  2018-02-01                     0  \n",
       "114  2018-01-01                     0  \n",
       "\n",
       "[115 rows x 7 columns]"
      ]
     },
     "execution_count": 1,
     "metadata": {},
     "output_type": "execute_result"
    }
   ],
   "source": [
    "import pandas as pd\n",
    "\n",
    "# Load the CSV file\n",
    "file_path = r\"C:\\Users\\clint\\Desktop\\Scraping Task\\combined_data.csv\"\n",
    "data = pd.read_csv(file_path)\n",
    "\n",
    "# Display the first few rows of the data\n",
    "data"
   ]
  },
  {
   "cell_type": "code",
   "execution_count": 2,
   "metadata": {},
   "outputs": [
    {
     "name": "stderr",
     "output_type": "stream",
     "text": [
      "Downloading PDFs:  57%|█████▋    | 66/115 [00:21<00:12,  4.03it/s]"
     ]
    },
    {
     "name": "stdout",
     "output_type": "stream",
     "text": [
      "Link is not a PDF: https://www.jdpowervalues.com/article/september-2022-commercial-truck-guidelines (Content-Type: text/html; charset=UTF-8)\n"
     ]
    },
    {
     "name": "stderr",
     "output_type": "stream",
     "text": [
      "Downloading PDFs:  59%|█████▉    | 68/115 [00:22<00:09,  4.98it/s]"
     ]
    },
    {
     "name": "stdout",
     "output_type": "stream",
     "text": [
      "Link is not a PDF: https://www.jdpowervalues.com/article/class-8-pricing-still-sky-high-risks-intensify (Content-Type: text/html; charset=UTF-8)\n"
     ]
    },
    {
     "name": "stderr",
     "output_type": "stream",
     "text": [
      "Downloading PDFs:  60%|██████    | 69/115 [00:22<00:10,  4.50it/s]"
     ]
    },
    {
     "name": "stdout",
     "output_type": "stream",
     "text": [
      "Link is not a PDF: https://www.jdpowervalues.com/article/early-february-auctions-suggest-increase-number-available-late-model-trucks (Content-Type: text/html; charset=UTF-8)\n"
     ]
    },
    {
     "name": "stderr",
     "output_type": "stream",
     "text": [
      "Downloading PDFs:  62%|██████▏   | 71/115 [00:52<04:40,  6.37s/it]"
     ]
    },
    {
     "name": "stdout",
     "output_type": "stream",
     "text": [
      "Timeout downloading https://cts.businesswire.com/ct/CT?id=smartlink&url=https%3A%2F%2Fdiscover.jdpa.com%2Fhubfs%2FFiles%2FIndustry%2520Campaigns%2FValuation%2520Services%2F11.2021_Commercial%2520Truck%2520Guidelines.pdf&esheet=52535508&newsitemid=20211122005179&lan=en-US&anchor=Download+the+free+November+2021+Commercial+Truck+Guidelines+Industry+Update&index=3&md5=36ab506cfaf88d1690474e5410207909: Timeout: Request took longer than 30 seconds\n"
     ]
    },
    {
     "name": "stderr",
     "output_type": "stream",
     "text": [
      "Downloading PDFs:  63%|██████▎   | 72/115 [01:22<08:27, 11.80s/it]"
     ]
    },
    {
     "name": "stdout",
     "output_type": "stream",
     "text": [
      "Timeout downloading https://cts.businesswire.com/ct/CT?id=smartlink&url=https%3A%2F%2Fdiscover.jdpa.com%2Fhubfs%2FFiles%2FIndustry%2520Campaigns%2FValuation%2520Services%2F10.2021_Commercial%2520Truck%2520Guidelines.pdf&esheet=52513887&newsitemid=20211022005121&lan=en-US&anchor=Download+the+free+September+2021+Commercial+Truck+Guidelines+Industry+Update&index=3&md5=2228572ff53d6fd11998588f421fd73b: Timeout: Request took longer than 30 seconds\n"
     ]
    },
    {
     "name": "stderr",
     "output_type": "stream",
     "text": [
      "Downloading PDFs:  63%|██████▎   | 73/115 [01:52<11:24, 16.30s/it]"
     ]
    },
    {
     "name": "stdout",
     "output_type": "stream",
     "text": [
      "Timeout downloading https://cts.businesswire.com/ct/CT?id=smartlink&url=https%3A%2F%2Fdiscover.jdpa.com%2Fhubfs%2FFiles%2FIndustry%2520Campaigns%2FValuation%2520Services%2F09.2021_Commercial%2520Truck%2520Guidelines.pdf&esheet=52494368&newsitemid=20210920005760&lan=en-US&anchor=Download+the+free+September+2021+Commercial+Truck+Guidelines+Industry+Update&index=3&md5=1732728ec4cf3d31060f2e5014446d65: Timeout: Request took longer than 30 seconds\n"
     ]
    },
    {
     "name": "stderr",
     "output_type": "stream",
     "text": [
      "Downloading PDFs:  64%|██████▍   | 74/115 [02:11<11:39, 17.06s/it]"
     ]
    },
    {
     "name": "stdout",
     "output_type": "stream",
     "text": [
      "Error downloading https://cts.businesswire.com/ct/CT?id=smartlink&url=https%3A%2F%2Fdiscover.jdpa.com%2Fhubfs%2FFiles%2FIndustry%2520Campaigns%2FValuation%2520Services%2F08.2021_Commercial%2520Truck%2520Guidelines.pdf&esheet=52478650&newsitemid=20210818005269&lan=en-US&anchor=free+monthly+report&index=2&md5=19370100cd3c6263494fd0653e30a8b5: ('Connection aborted.', RemoteDisconnected('Remote end closed connection without response'))\n"
     ]
    },
    {
     "name": "stderr",
     "output_type": "stream",
     "text": [
      "Downloading PDFs:  65%|██████▌   | 75/115 [02:31<11:46, 17.65s/it]"
     ]
    },
    {
     "name": "stdout",
     "output_type": "stream",
     "text": [
      "Error downloading https://cts.businesswire.com/ct/CT?id=smartlink&url=https%3A%2F%2Fdiscover.jdpa.com%2Fhubfs%2FFiles%2FIndustry%2520Campaigns%2FValuation%2520Services%2F07.2021_Commercial%2520Truck%2520Guidelines.pdf&esheet=52461504&newsitemid=20210716005429&lan=en-US&anchor=Download+the+free+July+2021+Commercial+Truck+Guidelines+Industry+Update&index=3&md5=b937806b29087643f7f9ad2488ef9726: ('Connection aborted.', RemoteDisconnected('Remote end closed connection without response'))\n"
     ]
    },
    {
     "name": "stderr",
     "output_type": "stream",
     "text": [
      "Downloading PDFs:  66%|██████▌   | 76/115 [02:50<11:46, 18.12s/it]"
     ]
    },
    {
     "name": "stdout",
     "output_type": "stream",
     "text": [
      "Error downloading https://cts.businesswire.com/ct/CT?id=smartlink&url=https%3A%2F%2Fdiscover.jdpa.com%2Fhubfs%2FFiles%2FIndustry%2520Campaigns%2FValuation%2520Services%2F05.2021_Commercial%2520Truck%2520Guidelines.pdf&esheet=52431899&newsitemid=20210519005136&lan=en-US&anchor=Download+the+free+May+2021+Commercial+Truck+Guidelines+Industry+Update&index=3&md5=f845785630eee429430605011f8dd40e: ('Connection aborted.', RemoteDisconnected('Remote end closed connection without response'))\n"
     ]
    },
    {
     "name": "stderr",
     "output_type": "stream",
     "text": [
      "Downloading PDFs:  67%|██████▋   | 77/115 [03:20<13:37, 21.52s/it]"
     ]
    },
    {
     "name": "stdout",
     "output_type": "stream",
     "text": [
      "Timeout downloading https://cts.businesswire.com/ct/CT?id=smartlink&url=https%3A%2F%2Fdiscover.jdpa.com%2Fhubfs%2FFiles%2FIndustry%2520Campaigns%2FValuation%2520Services%2F04.2021_Commercial%2520Truck%2520Guidelines.pdf&esheet=52413430&newsitemid=20210416005556&lan=en-US&anchor=April+2021+Commercial+Truck+Guidelines+Industry+Update&index=1&md5=5715fb776dd24b82ca6ad6f324c0dec9: Timeout: Request took longer than 30 seconds\n"
     ]
    },
    {
     "name": "stderr",
     "output_type": "stream",
     "text": [
      "Downloading PDFs:  68%|██████▊   | 78/115 [03:50<14:47, 24.00s/it]"
     ]
    },
    {
     "name": "stdout",
     "output_type": "stream",
     "text": [
      "Timeout downloading https://cts.businesswire.com/ct/CT?id=smartlink&url=https%3A%2F%2Fdiscover.jdpa.com%2Fhubfs%2FFiles%2FIndustry%2520Campaigns%2FValuation%2520Services%2F03.2021_Commercial%2520Truck%2520Guidelines.pdf&esheet=52397789&newsitemid=20210318005144&lan=en-US&anchor=March+2021+Commercial+Truck+Guidelines+Industry+Update&index=1&md5=acd013843d2b7219b23940d7e4044ae1: Timeout: Request took longer than 30 seconds\n"
     ]
    },
    {
     "name": "stderr",
     "output_type": "stream",
     "text": [
      "Downloading PDFs:  69%|██████▊   | 79/115 [04:20<15:27, 25.77s/it]"
     ]
    },
    {
     "name": "stdout",
     "output_type": "stream",
     "text": [
      "Timeout downloading https://cts.businesswire.com/ct/CT?id=smartlink&url=https%3A%2F%2Fdiscover.jdpa.com%2Fhubfs%2FFiles%2FIndustry%2520Campaigns%2FValuation%2520Services%2F02.2021_Commercial%2520Truck%2520Guidelines.pdf&esheet=52381780&newsitemid=20210218006053&lan=en-US&anchor=February+2021+Commercial+Truck+Guidelines+Industry+Update&index=1&md5=4d60da057274268698fd158e1ad95aeb: Timeout: Request took longer than 30 seconds\n"
     ]
    },
    {
     "name": "stderr",
     "output_type": "stream",
     "text": [
      "Downloading PDFs:  70%|██████▉   | 80/115 [04:50<15:45, 27.03s/it]"
     ]
    },
    {
     "name": "stdout",
     "output_type": "stream",
     "text": [
      "Timeout downloading https://cts.businesswire.com/ct/CT?id=smartlink&url=https%3A%2F%2Fdiscover.jdpa.com%2Fhubfs%2FFiles%2FIndustry%2520Campaigns%2FValuation%2520Services%2F01.2021_Commercial%2520Truck%2520Guidelines.pdf&esheet=52365521&newsitemid=20210121005693&lan=en-US&anchor=January+2021+Commercial+Truck+Guidelines+Industry+Update&index=1&md5=26fe151f26df5c13b3b32604963a7331: Timeout: Request took longer than 30 seconds\n"
     ]
    },
    {
     "name": "stderr",
     "output_type": "stream",
     "text": [
      "Downloading PDFs: 100%|██████████| 115/115 [05:07<00:00,  2.67s/it]"
     ]
    },
    {
     "name": "stdout",
     "output_type": "stream",
     "text": [
      "Downloaded 83 PDFs.\n",
      "Skipped 19 duplicate links.\n",
      "Disregarded 13 non-PDF links.\n",
      "Total runtime: 5.1 minutes\n",
      "\n",
      "Log files created in C:\\Users\\clint\\Desktop\\Scraping Task\\logs:\n",
      "- Non-PDF links: non_pdf_links_20250328_190633.csv\n",
      "- Duplicate links: duplicate_links_20250328_190633.csv\n",
      "- Error links: error_links_20250328_190633.csv\n",
      "- Summary: download_summary_20250328_190633.csv\n"
     ]
    },
    {
     "name": "stderr",
     "output_type": "stream",
     "text": [
      "\n"
     ]
    }
   ],
   "source": [
    "import os\n",
    "import requests\n",
    "import pandas as pd\n",
    "from urllib.parse import urlparse\n",
    "from tqdm import tqdm\n",
    "import time\n",
    "import csv\n",
    "from datetime import datetime\n",
    "\n",
    "# Load your data - you need to specify your data source\n",
    "# For example:\n",
    "# data = pd.read_csv(\"your_data.csv\")  \n",
    "# or \n",
    "# data = pd.DataFrame({\"link\": [\"http://example.com/file.pdf\", \"http://example.com/another.pdf\"]})\n",
    "\n",
    "# Define the output directory\n",
    "output_dir = r\"C:\\Users\\clint\\Desktop\\Scraping Task\\pdfs\"\n",
    "# Create logs directory\n",
    "logs_dir = r\"C:\\Users\\clint\\Desktop\\Scraping Task\\logs\"\n",
    "\n",
    "# Create the directories if they don't exist\n",
    "os.makedirs(output_dir, exist_ok=True)\n",
    "os.makedirs(logs_dir, exist_ok=True)\n",
    "\n",
    "# Create log files with timestamp\n",
    "timestamp = datetime.now().strftime(\"%Y%m%d_%H%M%S\")\n",
    "non_pdf_log = os.path.join(logs_dir, f\"non_pdf_links_{timestamp}.csv\")\n",
    "duplicate_log = os.path.join(logs_dir, f\"duplicate_links_{timestamp}.csv\")\n",
    "error_log = os.path.join(logs_dir, f\"error_links_{timestamp}.csv\")\n",
    "\n",
    "# Initialize log files with headers\n",
    "with open(non_pdf_log, 'w', newline='', encoding='utf-8') as f:\n",
    "    writer = csv.writer(f)\n",
    "    writer.writerow(['URL', 'Content-Type'])\n",
    "\n",
    "with open(duplicate_log, 'w', newline='', encoding='utf-8') as f:\n",
    "    writer = csv.writer(f)\n",
    "    writer.writerow(['URL'])\n",
    "\n",
    "with open(error_log, 'w', newline='', encoding='utf-8') as f:\n",
    "    writer = csv.writer(f)\n",
    "    writer.writerow(['URL', 'Error'])\n",
    "\n",
    "# Function to download a PDF file\n",
    "def download_pdf(url, output_path, timeout=30):\n",
    "    try:\n",
    "        # Send a GET request to the URL with timeout\n",
    "        response = requests.get(url, stream=True, timeout=timeout, allow_redirects=True)\n",
    "        response.raise_for_status()  # Raise an exception for HTTP errors\n",
    "        \n",
    "        # Check if the content is a PDF\n",
    "        content_type = response.headers.get('Content-Type', '')\n",
    "        if 'application/pdf' not in content_type and not url.lower().endswith('.pdf'):\n",
    "            print(f\"Link is not a PDF: {url} (Content-Type: {content_type})\")\n",
    "            # Log non-PDF link\n",
    "            with open(non_pdf_log, 'a', newline='', encoding='utf-8') as f:\n",
    "                writer = csv.writer(f)\n",
    "                writer.writerow([url, content_type])\n",
    "            return False\n",
    "        \n",
    "        # Write the content to a file\n",
    "        with open(output_path, 'wb') as f:\n",
    "            for chunk in response.iter_content(chunk_size=8192):\n",
    "                if chunk:\n",
    "                    f.write(chunk)\n",
    "        return True\n",
    "    except requests.Timeout:\n",
    "        error_msg = f\"Timeout: Request took longer than {timeout} seconds\"\n",
    "        print(f\"Timeout downloading {url}: {error_msg}\")\n",
    "        # Log error\n",
    "        with open(error_log, 'a', newline='', encoding='utf-8') as f:\n",
    "            writer = csv.writer(f)\n",
    "            writer.writerow([url, error_msg])\n",
    "        return False\n",
    "    except Exception as e:\n",
    "        print(f\"Error downloading {url}: {e}\")\n",
    "        # Log error\n",
    "        with open(error_log, 'a', newline='', encoding='utf-8') as f:\n",
    "            writer = csv.writer(f)\n",
    "            writer.writerow([url, str(e)])\n",
    "        return False\n",
    "\n",
    "# Track downloaded URLs to avoid duplicates\n",
    "downloaded_urls = set()\n",
    "successful_downloads = 0\n",
    "skipped_duplicates = 0\n",
    "non_pdf_links = 0\n",
    "error_links = 0\n",
    "\n",
    "# Verify data is loaded before starting the loop\n",
    "if 'data' not in locals() or len(data) == 0:\n",
    "    raise ValueError(\"No data available. Please define the 'data' DataFrame before running this code.\")\n",
    "\n",
    "# Define a maximum runtime to prevent infinite loops (e.g., 1 hour)\n",
    "max_runtime = 3600  # in seconds\n",
    "start_time = time.time()\n",
    "\n",
    "# Download PDFs from the DataFrame\n",
    "for index, row in tqdm(data.iterrows(), total=len(data), desc=\"Downloading PDFs\"):\n",
    "    # Check if we've exceeded the maximum runtime\n",
    "    if time.time() - start_time > max_runtime:\n",
    "        print(f\"Maximum runtime of {max_runtime/60:.1f} minutes reached. Stopping.\")\n",
    "        break\n",
    "        \n",
    "    if pd.notna(row['link']):\n",
    "        url = row['link']\n",
    "        \n",
    "        # Skip if this URL has already been downloaded\n",
    "        if url in downloaded_urls:\n",
    "            skipped_duplicates += 1\n",
    "            # Log duplicate link\n",
    "            with open(duplicate_log, 'a', newline='', encoding='utf-8') as f:\n",
    "                writer = csv.writer(f)\n",
    "                writer.writerow([url])\n",
    "            continue\n",
    "        \n",
    "        # Generate a filename from the URL or use the index\n",
    "        parsed_url = urlparse(url)\n",
    "        filename = os.path.basename(parsed_url.path)\n",
    "        \n",
    "        # If filename is empty or doesn't end with .pdf, create a default name\n",
    "        if not filename or not filename.lower().endswith('.pdf'):\n",
    "            filename = f\"document_{index}.pdf\"\n",
    "        \n",
    "        # Check for filename collisions and add a suffix if needed\n",
    "        base_name, extension = os.path.splitext(filename)\n",
    "        counter = 1\n",
    "        output_path = os.path.join(output_dir, filename)\n",
    "        \n",
    "        while os.path.exists(output_path):\n",
    "            filename = f\"{base_name}_{counter}{extension}\"\n",
    "            output_path = os.path.join(output_dir, filename)\n",
    "            counter += 1\n",
    "        \n",
    "        # Download the PDF\n",
    "        success = download_pdf(url, output_path)\n",
    "        if success:\n",
    "            downloaded_urls.add(url)\n",
    "            successful_downloads += 1\n",
    "        else:\n",
    "            # Remove the file if it was created but is not a PDF\n",
    "            if os.path.exists(output_path):\n",
    "                os.remove(output_path)\n",
    "            non_pdf_links += 1\n",
    "\n",
    "# Create a summary log file\n",
    "summary_log = os.path.join(logs_dir, f\"download_summary_{timestamp}.csv\")\n",
    "with open(summary_log, 'w', newline='', encoding='utf-8') as f:\n",
    "    writer = csv.writer(f)\n",
    "    writer.writerow(['Metric', 'Count'])\n",
    "    writer.writerow(['Successful Downloads', successful_downloads])\n",
    "    writer.writerow(['Skipped Duplicates', skipped_duplicates])\n",
    "    writer.writerow(['Non-PDF Links', non_pdf_links])\n",
    "    writer.writerow(['Runtime (minutes)', f\"{(time.time() - start_time)/60:.1f}\"])\n",
    "\n",
    "print(f\"Downloaded {successful_downloads} PDFs.\")\n",
    "print(f\"Skipped {skipped_duplicates} duplicate links.\")\n",
    "print(f\"Disregarded {non_pdf_links} non-PDF links.\")\n",
    "print(f\"Total runtime: {(time.time() - start_time)/60:.1f} minutes\")\n",
    "print(f\"\\nLog files created in {logs_dir}:\")\n",
    "print(f\"- Non-PDF links: {os.path.basename(non_pdf_log)}\")\n",
    "print(f\"- Duplicate links: {os.path.basename(duplicate_log)}\")\n",
    "print(f\"- Error links: {os.path.basename(error_log)}\")\n",
    "print(f\"- Summary: {os.path.basename(summary_log)}\")"
   ]
  }
 ],
 "metadata": {
  "kernelspec": {
   "display_name": "Python 3",
   "language": "python",
   "name": "python3"
  },
  "language_info": {
   "codemirror_mode": {
    "name": "ipython",
    "version": 3
   },
   "file_extension": ".py",
   "mimetype": "text/x-python",
   "name": "python",
   "nbconvert_exporter": "python",
   "pygments_lexer": "ipython3",
   "version": "3.11.9"
  }
 },
 "nbformat": 4,
 "nbformat_minor": 2
}
