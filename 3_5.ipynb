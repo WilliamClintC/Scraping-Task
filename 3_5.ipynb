{
 "cells": [
  {
   "cell_type": "code",
   "execution_count": 3,
   "metadata": {},
   "outputs": [
    {
     "data": {
      "application/vnd.microsoft.datawrangler.viewer.v0+json": {
       "columns": [
        {
         "name": "index",
         "rawType": "int64",
         "type": "integer"
        },
        {
         "name": "URL",
         "rawType": "object",
         "type": "string"
        },
        {
         "name": "Error",
         "rawType": "object",
         "type": "string"
        }
       ],
       "conversionMethod": "pd.DataFrame",
       "ref": "7b56da2a-83f1-4e91-8492-e43435e8eea9",
       "rows": [
        [
         "0",
         "https://cts.businesswire.com/ct/CT?id=smartlink&url=https%3A%2F%2Fdiscover.jdpa.com%2Fhubfs%2FFiles%2FIndustry%2520Campaigns%2FValuation%2520Services%2F11.2021_Commercial%2520Truck%2520Guidelines.pdf&esheet=52535508&newsitemid=20211122005179&lan=en-US&anchor=Download+the+free+November+2021+Commercial+Truck+Guidelines+Industry+Update&index=3&md5=36ab506cfaf88d1690474e5410207909",
         "Timeout: Request took longer than 30 seconds"
        ],
        [
         "1",
         "https://cts.businesswire.com/ct/CT?id=smartlink&url=https%3A%2F%2Fdiscover.jdpa.com%2Fhubfs%2FFiles%2FIndustry%2520Campaigns%2FValuation%2520Services%2F10.2021_Commercial%2520Truck%2520Guidelines.pdf&esheet=52513887&newsitemid=20211022005121&lan=en-US&anchor=Download+the+free+September+2021+Commercial+Truck+Guidelines+Industry+Update&index=3&md5=2228572ff53d6fd11998588f421fd73b",
         "Timeout: Request took longer than 30 seconds"
        ],
        [
         "2",
         "https://cts.businesswire.com/ct/CT?id=smartlink&url=https%3A%2F%2Fdiscover.jdpa.com%2Fhubfs%2FFiles%2FIndustry%2520Campaigns%2FValuation%2520Services%2F09.2021_Commercial%2520Truck%2520Guidelines.pdf&esheet=52494368&newsitemid=20210920005760&lan=en-US&anchor=Download+the+free+September+2021+Commercial+Truck+Guidelines+Industry+Update&index=3&md5=1732728ec4cf3d31060f2e5014446d65",
         "Timeout: Request took longer than 30 seconds"
        ],
        [
         "3",
         "https://cts.businesswire.com/ct/CT?id=smartlink&url=https%3A%2F%2Fdiscover.jdpa.com%2Fhubfs%2FFiles%2FIndustry%2520Campaigns%2FValuation%2520Services%2F08.2021_Commercial%2520Truck%2520Guidelines.pdf&esheet=52478650&newsitemid=20210818005269&lan=en-US&anchor=free+monthly+report&index=2&md5=19370100cd3c6263494fd0653e30a8b5",
         "('Connection aborted.', RemoteDisconnected('Remote end closed connection without response'))"
        ],
        [
         "4",
         "https://cts.businesswire.com/ct/CT?id=smartlink&url=https%3A%2F%2Fdiscover.jdpa.com%2Fhubfs%2FFiles%2FIndustry%2520Campaigns%2FValuation%2520Services%2F07.2021_Commercial%2520Truck%2520Guidelines.pdf&esheet=52461504&newsitemid=20210716005429&lan=en-US&anchor=Download+the+free+July+2021+Commercial+Truck+Guidelines+Industry+Update&index=3&md5=b937806b29087643f7f9ad2488ef9726",
         "('Connection aborted.', RemoteDisconnected('Remote end closed connection without response'))"
        ],
        [
         "5",
         "https://cts.businesswire.com/ct/CT?id=smartlink&url=https%3A%2F%2Fdiscover.jdpa.com%2Fhubfs%2FFiles%2FIndustry%2520Campaigns%2FValuation%2520Services%2F05.2021_Commercial%2520Truck%2520Guidelines.pdf&esheet=52431899&newsitemid=20210519005136&lan=en-US&anchor=Download+the+free+May+2021+Commercial+Truck+Guidelines+Industry+Update&index=3&md5=f845785630eee429430605011f8dd40e",
         "('Connection aborted.', RemoteDisconnected('Remote end closed connection without response'))"
        ],
        [
         "6",
         "https://cts.businesswire.com/ct/CT?id=smartlink&url=https%3A%2F%2Fdiscover.jdpa.com%2Fhubfs%2FFiles%2FIndustry%2520Campaigns%2FValuation%2520Services%2F04.2021_Commercial%2520Truck%2520Guidelines.pdf&esheet=52413430&newsitemid=20210416005556&lan=en-US&anchor=April+2021+Commercial+Truck+Guidelines+Industry+Update&index=1&md5=5715fb776dd24b82ca6ad6f324c0dec9",
         "Timeout: Request took longer than 30 seconds"
        ],
        [
         "7",
         "https://cts.businesswire.com/ct/CT?id=smartlink&url=https%3A%2F%2Fdiscover.jdpa.com%2Fhubfs%2FFiles%2FIndustry%2520Campaigns%2FValuation%2520Services%2F03.2021_Commercial%2520Truck%2520Guidelines.pdf&esheet=52397789&newsitemid=20210318005144&lan=en-US&anchor=March+2021+Commercial+Truck+Guidelines+Industry+Update&index=1&md5=acd013843d2b7219b23940d7e4044ae1",
         "Timeout: Request took longer than 30 seconds"
        ],
        [
         "8",
         "https://cts.businesswire.com/ct/CT?id=smartlink&url=https%3A%2F%2Fdiscover.jdpa.com%2Fhubfs%2FFiles%2FIndustry%2520Campaigns%2FValuation%2520Services%2F02.2021_Commercial%2520Truck%2520Guidelines.pdf&esheet=52381780&newsitemid=20210218006053&lan=en-US&anchor=February+2021+Commercial+Truck+Guidelines+Industry+Update&index=1&md5=4d60da057274268698fd158e1ad95aeb",
         "Timeout: Request took longer than 30 seconds"
        ],
        [
         "9",
         "https://cts.businesswire.com/ct/CT?id=smartlink&url=https%3A%2F%2Fdiscover.jdpa.com%2Fhubfs%2FFiles%2FIndustry%2520Campaigns%2FValuation%2520Services%2F01.2021_Commercial%2520Truck%2520Guidelines.pdf&esheet=52365521&newsitemid=20210121005693&lan=en-US&anchor=January+2021+Commercial+Truck+Guidelines+Industry+Update&index=1&md5=26fe151f26df5c13b3b32604963a7331",
         "Timeout: Request took longer than 30 seconds"
        ]
       ],
       "shape": {
        "columns": 2,
        "rows": 10
       }
      },
      "text/html": [
       "<div>\n",
       "<style scoped>\n",
       "    .dataframe tbody tr th:only-of-type {\n",
       "        vertical-align: middle;\n",
       "    }\n",
       "\n",
       "    .dataframe tbody tr th {\n",
       "        vertical-align: top;\n",
       "    }\n",
       "\n",
       "    .dataframe thead th {\n",
       "        text-align: right;\n",
       "    }\n",
       "</style>\n",
       "<table border=\"1\" class=\"dataframe\">\n",
       "  <thead>\n",
       "    <tr style=\"text-align: right;\">\n",
       "      <th></th>\n",
       "      <th>URL</th>\n",
       "      <th>Error</th>\n",
       "    </tr>\n",
       "  </thead>\n",
       "  <tbody>\n",
       "    <tr>\n",
       "      <th>0</th>\n",
       "      <td>https://cts.businesswire.com/ct/CT?id=smartlin...</td>\n",
       "      <td>Timeout: Request took longer than 30 seconds</td>\n",
       "    </tr>\n",
       "    <tr>\n",
       "      <th>1</th>\n",
       "      <td>https://cts.businesswire.com/ct/CT?id=smartlin...</td>\n",
       "      <td>Timeout: Request took longer than 30 seconds</td>\n",
       "    </tr>\n",
       "    <tr>\n",
       "      <th>2</th>\n",
       "      <td>https://cts.businesswire.com/ct/CT?id=smartlin...</td>\n",
       "      <td>Timeout: Request took longer than 30 seconds</td>\n",
       "    </tr>\n",
       "    <tr>\n",
       "      <th>3</th>\n",
       "      <td>https://cts.businesswire.com/ct/CT?id=smartlin...</td>\n",
       "      <td>('Connection aborted.', RemoteDisconnected('Re...</td>\n",
       "    </tr>\n",
       "    <tr>\n",
       "      <th>4</th>\n",
       "      <td>https://cts.businesswire.com/ct/CT?id=smartlin...</td>\n",
       "      <td>('Connection aborted.', RemoteDisconnected('Re...</td>\n",
       "    </tr>\n",
       "    <tr>\n",
       "      <th>5</th>\n",
       "      <td>https://cts.businesswire.com/ct/CT?id=smartlin...</td>\n",
       "      <td>('Connection aborted.', RemoteDisconnected('Re...</td>\n",
       "    </tr>\n",
       "    <tr>\n",
       "      <th>6</th>\n",
       "      <td>https://cts.businesswire.com/ct/CT?id=smartlin...</td>\n",
       "      <td>Timeout: Request took longer than 30 seconds</td>\n",
       "    </tr>\n",
       "    <tr>\n",
       "      <th>7</th>\n",
       "      <td>https://cts.businesswire.com/ct/CT?id=smartlin...</td>\n",
       "      <td>Timeout: Request took longer than 30 seconds</td>\n",
       "    </tr>\n",
       "    <tr>\n",
       "      <th>8</th>\n",
       "      <td>https://cts.businesswire.com/ct/CT?id=smartlin...</td>\n",
       "      <td>Timeout: Request took longer than 30 seconds</td>\n",
       "    </tr>\n",
       "    <tr>\n",
       "      <th>9</th>\n",
       "      <td>https://cts.businesswire.com/ct/CT?id=smartlin...</td>\n",
       "      <td>Timeout: Request took longer than 30 seconds</td>\n",
       "    </tr>\n",
       "  </tbody>\n",
       "</table>\n",
       "</div>"
      ],
      "text/plain": [
       "                                                 URL  \\\n",
       "0  https://cts.businesswire.com/ct/CT?id=smartlin...   \n",
       "1  https://cts.businesswire.com/ct/CT?id=smartlin...   \n",
       "2  https://cts.businesswire.com/ct/CT?id=smartlin...   \n",
       "3  https://cts.businesswire.com/ct/CT?id=smartlin...   \n",
       "4  https://cts.businesswire.com/ct/CT?id=smartlin...   \n",
       "5  https://cts.businesswire.com/ct/CT?id=smartlin...   \n",
       "6  https://cts.businesswire.com/ct/CT?id=smartlin...   \n",
       "7  https://cts.businesswire.com/ct/CT?id=smartlin...   \n",
       "8  https://cts.businesswire.com/ct/CT?id=smartlin...   \n",
       "9  https://cts.businesswire.com/ct/CT?id=smartlin...   \n",
       "\n",
       "                                               Error  \n",
       "0       Timeout: Request took longer than 30 seconds  \n",
       "1       Timeout: Request took longer than 30 seconds  \n",
       "2       Timeout: Request took longer than 30 seconds  \n",
       "3  ('Connection aborted.', RemoteDisconnected('Re...  \n",
       "4  ('Connection aborted.', RemoteDisconnected('Re...  \n",
       "5  ('Connection aborted.', RemoteDisconnected('Re...  \n",
       "6       Timeout: Request took longer than 30 seconds  \n",
       "7       Timeout: Request took longer than 30 seconds  \n",
       "8       Timeout: Request took longer than 30 seconds  \n",
       "9       Timeout: Request took longer than 30 seconds  "
      ]
     },
     "execution_count": 3,
     "metadata": {},
     "output_type": "execute_result"
    }
   ],
   "source": [
    "import pandas as pd\n",
    "\n",
    "# Load the CSV file\n",
    "file_path = r\"C:\\Users\\clint\\Desktop\\Scraping Task\\logs\\error_links_20250328_190633.csv\"\n",
    "data = pd.read_csv(file_path)\n",
    "\n",
    "# Display the first few rows of the data\n",
    "data"
   ]
  },
  {
   "cell_type": "code",
   "execution_count": 4,
   "metadata": {},
   "outputs": [
    {
     "data": {
      "application/vnd.microsoft.datawrangler.viewer.v0+json": {
       "columns": [
        {
         "name": "index",
         "rawType": "int64",
         "type": "integer"
        },
        {
         "name": "URL",
         "rawType": "object",
         "type": "string"
        },
        {
         "name": "Content-Type",
         "rawType": "object",
         "type": "string"
        }
       ],
       "conversionMethod": "pd.DataFrame",
       "ref": "4755d0e9-068d-46a9-8826-ac4ca1034c49",
       "rows": [
        [
         "0",
         "https://www.jdpowervalues.com/article/september-2022-commercial-truck-guidelines",
         "text/html; charset=UTF-8"
        ],
        [
         "1",
         "https://www.jdpowervalues.com/article/class-8-pricing-still-sky-high-risks-intensify",
         "text/html; charset=UTF-8"
        ],
        [
         "2",
         "https://www.jdpowervalues.com/article/early-february-auctions-suggest-increase-number-available-late-model-trucks",
         "text/html; charset=UTF-8"
        ]
       ],
       "shape": {
        "columns": 2,
        "rows": 3
       }
      },
      "text/html": [
       "<div>\n",
       "<style scoped>\n",
       "    .dataframe tbody tr th:only-of-type {\n",
       "        vertical-align: middle;\n",
       "    }\n",
       "\n",
       "    .dataframe tbody tr th {\n",
       "        vertical-align: top;\n",
       "    }\n",
       "\n",
       "    .dataframe thead th {\n",
       "        text-align: right;\n",
       "    }\n",
       "</style>\n",
       "<table border=\"1\" class=\"dataframe\">\n",
       "  <thead>\n",
       "    <tr style=\"text-align: right;\">\n",
       "      <th></th>\n",
       "      <th>URL</th>\n",
       "      <th>Content-Type</th>\n",
       "    </tr>\n",
       "  </thead>\n",
       "  <tbody>\n",
       "    <tr>\n",
       "      <th>0</th>\n",
       "      <td>https://www.jdpowervalues.com/article/septembe...</td>\n",
       "      <td>text/html; charset=UTF-8</td>\n",
       "    </tr>\n",
       "    <tr>\n",
       "      <th>1</th>\n",
       "      <td>https://www.jdpowervalues.com/article/class-8-...</td>\n",
       "      <td>text/html; charset=UTF-8</td>\n",
       "    </tr>\n",
       "    <tr>\n",
       "      <th>2</th>\n",
       "      <td>https://www.jdpowervalues.com/article/early-fe...</td>\n",
       "      <td>text/html; charset=UTF-8</td>\n",
       "    </tr>\n",
       "  </tbody>\n",
       "</table>\n",
       "</div>"
      ],
      "text/plain": [
       "                                                 URL              Content-Type\n",
       "0  https://www.jdpowervalues.com/article/septembe...  text/html; charset=UTF-8\n",
       "1  https://www.jdpowervalues.com/article/class-8-...  text/html; charset=UTF-8\n",
       "2  https://www.jdpowervalues.com/article/early-fe...  text/html; charset=UTF-8"
      ]
     },
     "execution_count": 4,
     "metadata": {},
     "output_type": "execute_result"
    }
   ],
   "source": [
    "# Load another CSV file\n",
    "file_path_non_pdf = r\"C:\\Users\\clint\\Desktop\\Scraping Task\\logs\\non_pdf_links_20250328_190633.csv\"\n",
    "data_non_pdf = pd.read_csv(file_path_non_pdf)\n",
    "\n",
    "# Display the first few rows of the new data\n",
    "data_non_pdf"
   ]
  },
  {
   "cell_type": "code",
   "execution_count": 5,
   "metadata": {},
   "outputs": [],
   "source": [
    "import webbrowser\n",
    "\n",
    "# Open all links in the 'URL' column of the 'data' dataframe\n",
    "for url in data['URL']:\n",
    "    webbrowser.open(url)\n",
    "\n",
    "# Open all links in the 'URL' column of the 'data_non_pdf' dataframe\n",
    "for url in data_non_pdf['URL']:\n",
    "    webbrowser.open(url)"
   ]
  }
 ],
 "metadata": {
  "kernelspec": {
   "display_name": "Python 3",
   "language": "python",
   "name": "python3"
  },
  "language_info": {
   "codemirror_mode": {
    "name": "ipython",
    "version": 3
   },
   "file_extension": ".py",
   "mimetype": "text/x-python",
   "name": "python",
   "nbconvert_exporter": "python",
   "pygments_lexer": "ipython3",
   "version": "3.11.9"
  }
 },
 "nbformat": 4,
 "nbformat_minor": 2
}
